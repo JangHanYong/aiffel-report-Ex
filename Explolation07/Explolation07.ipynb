{
  "nbformat": 4,
  "nbformat_minor": 0,
  "metadata": {
    "colab": {
      "name": "Untitled15.ipynb",
      "provenance": [],
      "collapsed_sections": [],
      "machine_shape": "hm"
    },
    "kernelspec": {
      "name": "python3",
      "display_name": "Python 3"
    },
    "language_info": {
      "name": "python"
    },
    "accelerator": "GPU"
  },
  "cells": [
    {
      "cell_type": "markdown",
      "metadata": {
        "id": "ZcrSYZGh5I8P"
      },
      "source": [
        "## 필요한 모듈 가져오기."
      ]
    },
    {
      "cell_type": "code",
      "source": [
        "import tensorflow as tf\n",
        "\n",
        "import nltk\n",
        "nltk.download('stopwords')\n",
        "import numpy as np\n",
        "import pandas as pd\n",
        "import os\n",
        "import re\n",
        "import matplotlib.pyplot as plt\n",
        "from nltk.corpus import stopwords\n",
        "from bs4 import BeautifulSoup \n",
        "from tensorflow.keras.preprocessing.text import Tokenizer \n",
        "from tensorflow.keras.preprocessing.sequence import pad_sequences\n",
        "import urllib.request\n",
        "import warnings\n",
        "warnings.filterwarnings(\"ignore\", category=UserWarning, module='bs4')"
      ],
      "metadata": {
        "colab": {
          "base_uri": "https://localhost:8080/"
        },
        "id": "O5-O6N8AUbBF",
        "outputId": "f5aa0665-ff07-4f83-92a4-f022b623a27a"
      },
      "execution_count": 245,
      "outputs": [
        {
          "output_type": "stream",
          "name": "stdout",
          "text": [
            "[nltk_data] Downloading package stopwords to /root/nltk_data...\n",
            "[nltk_data]   Package stopwords is already up-to-date!\n"
          ]
        }
      ]
    },
    {
      "cell_type": "markdown",
      "metadata": {
        "id": "OrJ6P4JL5OAW"
      },
      "source": [
        "## 필요한 모듈을 가져왔으니 데이터를 가져와서 이해해보자."
      ]
    },
    {
      "cell_type": "code",
      "source": [
        "import urllib.request\n",
        "urllib.request.urlretrieve(\"https://raw.githubusercontent.com/sunnysai12345/News_Summary/master/news_summary_more.csv\", filename=\"news_summary_more.csv\")\n",
        "data = pd.read_csv('news_summary_more.csv', encoding='iso-8859-1')"
      ],
      "metadata": {
        "id": "HAdsi_Q7UePG"
      },
      "execution_count": 246,
      "outputs": []
    },
    {
      "cell_type": "code",
      "source": [
        "data.shape"
      ],
      "metadata": {
        "colab": {
          "base_uri": "https://localhost:8080/"
        },
        "id": "F719sul0sDtB",
        "outputId": "06f734be-5c57-485e-da81-36a6c190e6a7"
      },
      "execution_count": 247,
      "outputs": [
        {
          "output_type": "execute_result",
          "data": {
            "text/plain": [
              "(98401, 2)"
            ]
          },
          "metadata": {},
          "execution_count": 247
        }
      ]
    },
    {
      "cell_type": "code",
      "source": [
        "data.sample(10)"
      ],
      "metadata": {
        "colab": {
          "base_uri": "https://localhost:8080/",
          "height": 363
        },
        "id": "wkythccssFKW",
        "outputId": "100ff4c1-004c-4275-f60e-c34775635b96"
      },
      "execution_count": 248,
      "outputs": [
        {
          "output_type": "execute_result",
          "data": {
            "text/plain": [
              "                                               headlines  \\\n",
              "18516   Google launches new search engine for scientists   \n",
              "9621   Deepika and Ranveer arrive in Mumbai after get...   \n",
              "69073  2 asteroids orbiting each other get classified...   \n",
              "81470  Shriram Group and IDFC in Ã¢ÂÂ¹64,600 crore m...   \n",
              "72704  Foreign firms had access to unencrypted Aadhaa...   \n",
              "1155   In-laws of woman who entered Sabarimala refuse...   \n",
              "40499  1p drop in petrol price mistake by our staffer...   \n",
              "11434  IIT-Madras researchers design India's 1st micr...   \n",
              "64609  Austrian police raid Lego store over Ninja wit...   \n",
              "50549  GST on houses under Pradhan Mantri Awas Yojna ...   \n",
              "\n",
              "                                                    text  \n",
              "18516  Google on Thursday launched a new search engin...  \n",
              "9621   Deepika Padukone and Ranveer Singh arrived in ...  \n",
              "69073  NASA's Hubble Space Telescope has photographed...  \n",
              "81470  The board of directors of Shriram Capital and ...  \n",
              "72704  An RTI reply stated that UIDAI had signed cont...  \n",
              "1155   Kanakadurga, one of the two women who entered ...  \n",
              "40499  Pointing out that the price of petrol and dies...  \n",
              "11434  Indian Institute of Technology Madras research...  \n",
              "64609  Austrian police on Friday raided a Lego store ...  \n",
              "50549  The government has cut GST rate from 12% to 8%...  "
            ],
            "text/html": [
              "\n",
              "  <div id=\"df-f99a4361-058d-4a60-8d11-f616f9869610\">\n",
              "    <div class=\"colab-df-container\">\n",
              "      <div>\n",
              "<style scoped>\n",
              "    .dataframe tbody tr th:only-of-type {\n",
              "        vertical-align: middle;\n",
              "    }\n",
              "\n",
              "    .dataframe tbody tr th {\n",
              "        vertical-align: top;\n",
              "    }\n",
              "\n",
              "    .dataframe thead th {\n",
              "        text-align: right;\n",
              "    }\n",
              "</style>\n",
              "<table border=\"1\" class=\"dataframe\">\n",
              "  <thead>\n",
              "    <tr style=\"text-align: right;\">\n",
              "      <th></th>\n",
              "      <th>headlines</th>\n",
              "      <th>text</th>\n",
              "    </tr>\n",
              "  </thead>\n",
              "  <tbody>\n",
              "    <tr>\n",
              "      <th>18516</th>\n",
              "      <td>Google launches new search engine for scientists</td>\n",
              "      <td>Google on Thursday launched a new search engin...</td>\n",
              "    </tr>\n",
              "    <tr>\n",
              "      <th>9621</th>\n",
              "      <td>Deepika and Ranveer arrive in Mumbai after get...</td>\n",
              "      <td>Deepika Padukone and Ranveer Singh arrived in ...</td>\n",
              "    </tr>\n",
              "    <tr>\n",
              "      <th>69073</th>\n",
              "      <td>2 asteroids orbiting each other get classified...</td>\n",
              "      <td>NASA's Hubble Space Telescope has photographed...</td>\n",
              "    </tr>\n",
              "    <tr>\n",
              "      <th>81470</th>\n",
              "      <td>Shriram Group and IDFC in Ã¢ÂÂ¹64,600 crore m...</td>\n",
              "      <td>The board of directors of Shriram Capital and ...</td>\n",
              "    </tr>\n",
              "    <tr>\n",
              "      <th>72704</th>\n",
              "      <td>Foreign firms had access to unencrypted Aadhaa...</td>\n",
              "      <td>An RTI reply stated that UIDAI had signed cont...</td>\n",
              "    </tr>\n",
              "    <tr>\n",
              "      <th>1155</th>\n",
              "      <td>In-laws of woman who entered Sabarimala refuse...</td>\n",
              "      <td>Kanakadurga, one of the two women who entered ...</td>\n",
              "    </tr>\n",
              "    <tr>\n",
              "      <th>40499</th>\n",
              "      <td>1p drop in petrol price mistake by our staffer...</td>\n",
              "      <td>Pointing out that the price of petrol and dies...</td>\n",
              "    </tr>\n",
              "    <tr>\n",
              "      <th>11434</th>\n",
              "      <td>IIT-Madras researchers design India's 1st micr...</td>\n",
              "      <td>Indian Institute of Technology Madras research...</td>\n",
              "    </tr>\n",
              "    <tr>\n",
              "      <th>64609</th>\n",
              "      <td>Austrian police raid Lego store over Ninja wit...</td>\n",
              "      <td>Austrian police on Friday raided a Lego store ...</td>\n",
              "    </tr>\n",
              "    <tr>\n",
              "      <th>50549</th>\n",
              "      <td>GST on houses under Pradhan Mantri Awas Yojna ...</td>\n",
              "      <td>The government has cut GST rate from 12% to 8%...</td>\n",
              "    </tr>\n",
              "  </tbody>\n",
              "</table>\n",
              "</div>\n",
              "      <button class=\"colab-df-convert\" onclick=\"convertToInteractive('df-f99a4361-058d-4a60-8d11-f616f9869610')\"\n",
              "              title=\"Convert this dataframe to an interactive table.\"\n",
              "              style=\"display:none;\">\n",
              "        \n",
              "  <svg xmlns=\"http://www.w3.org/2000/svg\" height=\"24px\"viewBox=\"0 0 24 24\"\n",
              "       width=\"24px\">\n",
              "    <path d=\"M0 0h24v24H0V0z\" fill=\"none\"/>\n",
              "    <path d=\"M18.56 5.44l.94 2.06.94-2.06 2.06-.94-2.06-.94-.94-2.06-.94 2.06-2.06.94zm-11 1L8.5 8.5l.94-2.06 2.06-.94-2.06-.94L8.5 2.5l-.94 2.06-2.06.94zm10 10l.94 2.06.94-2.06 2.06-.94-2.06-.94-.94-2.06-.94 2.06-2.06.94z\"/><path d=\"M17.41 7.96l-1.37-1.37c-.4-.4-.92-.59-1.43-.59-.52 0-1.04.2-1.43.59L10.3 9.45l-7.72 7.72c-.78.78-.78 2.05 0 2.83L4 21.41c.39.39.9.59 1.41.59.51 0 1.02-.2 1.41-.59l7.78-7.78 2.81-2.81c.8-.78.8-2.07 0-2.86zM5.41 20L4 18.59l7.72-7.72 1.47 1.35L5.41 20z\"/>\n",
              "  </svg>\n",
              "      </button>\n",
              "      \n",
              "  <style>\n",
              "    .colab-df-container {\n",
              "      display:flex;\n",
              "      flex-wrap:wrap;\n",
              "      gap: 12px;\n",
              "    }\n",
              "\n",
              "    .colab-df-convert {\n",
              "      background-color: #E8F0FE;\n",
              "      border: none;\n",
              "      border-radius: 50%;\n",
              "      cursor: pointer;\n",
              "      display: none;\n",
              "      fill: #1967D2;\n",
              "      height: 32px;\n",
              "      padding: 0 0 0 0;\n",
              "      width: 32px;\n",
              "    }\n",
              "\n",
              "    .colab-df-convert:hover {\n",
              "      background-color: #E2EBFA;\n",
              "      box-shadow: 0px 1px 2px rgba(60, 64, 67, 0.3), 0px 1px 3px 1px rgba(60, 64, 67, 0.15);\n",
              "      fill: #174EA6;\n",
              "    }\n",
              "\n",
              "    [theme=dark] .colab-df-convert {\n",
              "      background-color: #3B4455;\n",
              "      fill: #D2E3FC;\n",
              "    }\n",
              "\n",
              "    [theme=dark] .colab-df-convert:hover {\n",
              "      background-color: #434B5C;\n",
              "      box-shadow: 0px 1px 3px 1px rgba(0, 0, 0, 0.15);\n",
              "      filter: drop-shadow(0px 1px 2px rgba(0, 0, 0, 0.3));\n",
              "      fill: #FFFFFF;\n",
              "    }\n",
              "  </style>\n",
              "\n",
              "      <script>\n",
              "        const buttonEl =\n",
              "          document.querySelector('#df-f99a4361-058d-4a60-8d11-f616f9869610 button.colab-df-convert');\n",
              "        buttonEl.style.display =\n",
              "          google.colab.kernel.accessAllowed ? 'block' : 'none';\n",
              "\n",
              "        async function convertToInteractive(key) {\n",
              "          const element = document.querySelector('#df-f99a4361-058d-4a60-8d11-f616f9869610');\n",
              "          const dataTable =\n",
              "            await google.colab.kernel.invokeFunction('convertToInteractive',\n",
              "                                                     [key], {});\n",
              "          if (!dataTable) return;\n",
              "\n",
              "          const docLinkHtml = 'Like what you see? Visit the ' +\n",
              "            '<a target=\"_blank\" href=https://colab.research.google.com/notebooks/data_table.ipynb>data table notebook</a>'\n",
              "            + ' to learn more about interactive tables.';\n",
              "          element.innerHTML = '';\n",
              "          dataTable['output_type'] = 'display_data';\n",
              "          await google.colab.output.renderOutput(dataTable, element);\n",
              "          const docLink = document.createElement('div');\n",
              "          docLink.innerHTML = docLinkHtml;\n",
              "          element.appendChild(docLink);\n",
              "        }\n",
              "      </script>\n",
              "    </div>\n",
              "  </div>\n",
              "  "
            ]
          },
          "metadata": {},
          "execution_count": 248
        }
      ]
    },
    {
      "cell_type": "markdown",
      "metadata": {
        "id": "d7Odf2ja5eef"
      },
      "source": [
        "## 가져온데이터는 총 98401*2개의 문장으로 컬럼은 요약문장이랑 그에따른 텍스트문장이있다.\n",
        "## 이제 가져온 데이터를 전처리해보자.\n",
        "## 일단 데이터의 중복데이터를 제외한 유니크한 데이터를 보자."
      ]
    },
    {
      "cell_type": "code",
      "source": [
        "print('Text 열에서 중복을 배제한 유일한 샘플의 수 :', data['text'].nunique())\n",
        "print('headlines 열에서 중복을 배제한 유일한 샘플의 수 :', data['headlines'].nunique())"
      ],
      "metadata": {
        "colab": {
          "base_uri": "https://localhost:8080/"
        },
        "id": "AyYcHp0tUfpV",
        "outputId": "4617e9de-4e00-4272-edac-3cd8309344b4"
      },
      "execution_count": 249,
      "outputs": [
        {
          "output_type": "stream",
          "name": "stdout",
          "text": [
            "Text 열에서 중복을 배제한 유일한 샘플의 수 : 98360\n",
            "headlines 열에서 중복을 배제한 유일한 샘플의 수 : 98280\n"
          ]
        }
      ]
    },
    {
      "cell_type": "markdown",
      "metadata": {
        "id": "VBMNSF5o7BxG"
      },
      "source": [
        "## 중복데이터를 제외한 데이터는 text는 98360개, headlines데이터는 98280개가있다.\n",
        "## 이제 데이터의 Null값을 확인해보자."
      ]
    },
    {
      "cell_type": "code",
      "source": [
        "print(data.isnull().sum())"
      ],
      "metadata": {
        "colab": {
          "base_uri": "https://localhost:8080/"
        },
        "id": "1UucjWHWUgcE",
        "outputId": "f5352fb2-f617-49c2-d2f0-1fd165cfd47c"
      },
      "execution_count": 250,
      "outputs": [
        {
          "output_type": "stream",
          "name": "stdout",
          "text": [
            "headlines    0\n",
            "text         0\n",
            "dtype: int64\n"
          ]
        }
      ]
    },
    {
      "cell_type": "markdown",
      "metadata": {
        "id": "8OrzV_J27lBC"
      },
      "source": [
        "## 다행이도 Null값은 없는걸로 확인된다.\n",
        "## 이제 간단한 전처리는 끝났고 컴퓨터의 연산을 보다 더욱 쉽게 해주기위해, 정규화를 해보자.\n",
        "## 정규화란 i am과 i'm은 똑같은 문장이므로 이걸 같은것으로 취급해 연산을 더욱 쉽게 해주도록 하는 작업이다."
      ]
    },
    {
      "cell_type": "code",
      "source": [
        "contractions = {\"ain't\": \"is not\", \"aren't\": \"are not\",\"can't\": \"cannot\", \"'cause\": \"because\", \"could've\": \"could have\", \"couldn't\": \"could not\",\n",
        "                           \"didn't\": \"did not\",  \"doesn't\": \"does not\", \"don't\": \"do not\", \"hadn't\": \"had not\", \"hasn't\": \"has not\", \"haven't\": \"have not\",\n",
        "                           \"he'd\": \"he would\",\"he'll\": \"he will\", \"he's\": \"he is\", \"how'd\": \"how did\", \"how'd'y\": \"how do you\", \"how'll\": \"how will\", \"how's\": \"how is\",\n",
        "                           \"I'd\": \"I would\", \"I'd've\": \"I would have\", \"I'll\": \"I will\", \"I'll've\": \"I will have\",\"I'm\": \"I am\", \"I've\": \"I have\", \"i'd\": \"i would\",\n",
        "                           \"i'd've\": \"i would have\", \"i'll\": \"i will\",  \"i'll've\": \"i will have\",\"i'm\": \"i am\", \"i've\": \"i have\", \"isn't\": \"is not\", \"it'd\": \"it would\",\n",
        "                           \"it'd've\": \"it would have\", \"it'll\": \"it will\", \"it'll've\": \"it will have\",\"it's\": \"it is\", \"let's\": \"let us\", \"ma'am\": \"madam\",\n",
        "                           \"mayn't\": \"may not\", \"might've\": \"might have\",\"mightn't\": \"might not\",\"mightn't've\": \"might not have\", \"must've\": \"must have\",\n",
        "                           \"mustn't\": \"must not\", \"mustn't've\": \"must not have\", \"needn't\": \"need not\", \"needn't've\": \"need not have\",\"o'clock\": \"of the clock\",\n",
        "                           \"oughtn't\": \"ought not\", \"oughtn't've\": \"ought not have\", \"shan't\": \"shall not\", \"sha'n't\": \"shall not\", \"shan't've\": \"shall not have\",\n",
        "                           \"she'd\": \"she would\", \"she'd've\": \"she would have\", \"she'll\": \"she will\", \"she'll've\": \"she will have\", \"she's\": \"she is\",\n",
        "                           \"should've\": \"should have\", \"shouldn't\": \"should not\", \"shouldn't've\": \"should not have\", \"so've\": \"so have\",\"so's\": \"so as\",\n",
        "                           \"this's\": \"this is\",\"that'd\": \"that would\", \"that'd've\": \"that would have\", \"that's\": \"that is\", \"there'd\": \"there would\",\n",
        "                           \"there'd've\": \"there would have\", \"there's\": \"there is\", \"here's\": \"here is\",\"they'd\": \"they would\", \"they'd've\": \"they would have\",\n",
        "                           \"they'll\": \"they will\", \"they'll've\": \"they will have\", \"they're\": \"they are\", \"they've\": \"they have\", \"to've\": \"to have\",\n",
        "                           \"wasn't\": \"was not\", \"we'd\": \"we would\", \"we'd've\": \"we would have\", \"we'll\": \"we will\", \"we'll've\": \"we will have\", \"we're\": \"we are\",\n",
        "                           \"we've\": \"we have\", \"weren't\": \"were not\", \"what'll\": \"what will\", \"what'll've\": \"what will have\", \"what're\": \"what are\",\n",
        "                           \"what's\": \"what is\", \"what've\": \"what have\", \"when's\": \"when is\", \"when've\": \"when have\", \"where'd\": \"where did\", \"where's\": \"where is\",\n",
        "                           \"where've\": \"where have\", \"who'll\": \"who will\", \"who'll've\": \"who will have\", \"who's\": \"who is\", \"who've\": \"who have\",\n",
        "                           \"why's\": \"why is\", \"why've\": \"why have\", \"will've\": \"will have\", \"won't\": \"will not\", \"won't've\": \"will not have\",\n",
        "                           \"would've\": \"would have\", \"wouldn't\": \"would not\", \"wouldn't've\": \"would not have\", \"y'all\": \"you all\",\n",
        "                           \"y'all'd\": \"you all would\",\"y'all'd've\": \"you all would have\",\"y'all're\": \"you all are\",\"y'all've\": \"you all have\",\n",
        "                           \"you'd\": \"you would\", \"you'd've\": \"you would have\", \"you'll\": \"you will\", \"you'll've\": \"you will have\",\n",
        "                           \"you're\": \"you are\", \"you've\": \"you have\"}\n",
        "\n",
        "print(\"정규화 사전의 수: \", len(contractions))"
      ],
      "metadata": {
        "colab": {
          "base_uri": "https://localhost:8080/"
        },
        "id": "1cQV6p9GUhKT",
        "outputId": "6ce14d93-ffce-416b-d4bc-91cad8e6d78f"
      },
      "execution_count": 251,
      "outputs": [
        {
          "output_type": "stream",
          "name": "stdout",
          "text": [
            "정규화 사전의 수:  120\n"
          ]
        }
      ]
    },
    {
      "cell_type": "markdown",
      "metadata": {
        "id": "kNXG48_t8T89"
      },
      "source": [
        "## 이것은 정규화 하기위한 사전이다 출처는 https://stackoverflow.com/questions/19790188/expanding-english-language-contractions-in-python 이다."
      ]
    },
    {
      "cell_type": "markdown",
      "metadata": {
        "id": "19fB39GB9V3T"
      },
      "source": [
        "## 정규화 준비는 끝났으므로 이제 용어가아닌 불용어를 확인해보자."
      ]
    },
    {
      "cell_type": "code",
      "source": [
        "print('불용어 개수 :', len(stopwords.words('english') ))\n",
        "print(stopwords.words('english'))"
      ],
      "metadata": {
        "colab": {
          "base_uri": "https://localhost:8080/"
        },
        "id": "V3gdNqGPsfpl",
        "outputId": "b0833d5d-3637-42cd-efef-29476b94027f"
      },
      "execution_count": 252,
      "outputs": [
        {
          "output_type": "stream",
          "name": "stdout",
          "text": [
            "불용어 개수 : 179\n",
            "['i', 'me', 'my', 'myself', 'we', 'our', 'ours', 'ourselves', 'you', \"you're\", \"you've\", \"you'll\", \"you'd\", 'your', 'yours', 'yourself', 'yourselves', 'he', 'him', 'his', 'himself', 'she', \"she's\", 'her', 'hers', 'herself', 'it', \"it's\", 'its', 'itself', 'they', 'them', 'their', 'theirs', 'themselves', 'what', 'which', 'who', 'whom', 'this', 'that', \"that'll\", 'these', 'those', 'am', 'is', 'are', 'was', 'were', 'be', 'been', 'being', 'have', 'has', 'had', 'having', 'do', 'does', 'did', 'doing', 'a', 'an', 'the', 'and', 'but', 'if', 'or', 'because', 'as', 'until', 'while', 'of', 'at', 'by', 'for', 'with', 'about', 'against', 'between', 'into', 'through', 'during', 'before', 'after', 'above', 'below', 'to', 'from', 'up', 'down', 'in', 'out', 'on', 'off', 'over', 'under', 'again', 'further', 'then', 'once', 'here', 'there', 'when', 'where', 'why', 'how', 'all', 'any', 'both', 'each', 'few', 'more', 'most', 'other', 'some', 'such', 'no', 'nor', 'not', 'only', 'own', 'same', 'so', 'than', 'too', 'very', 's', 't', 'can', 'will', 'just', 'don', \"don't\", 'should', \"should've\", 'now', 'd', 'll', 'm', 'o', 're', 've', 'y', 'ain', 'aren', \"aren't\", 'couldn', \"couldn't\", 'didn', \"didn't\", 'doesn', \"doesn't\", 'hadn', \"hadn't\", 'hasn', \"hasn't\", 'haven', \"haven't\", 'isn', \"isn't\", 'ma', 'mightn', \"mightn't\", 'mustn', \"mustn't\", 'needn', \"needn't\", 'shan', \"shan't\", 'shouldn', \"shouldn't\", 'wasn', \"wasn't\", 'weren', \"weren't\", 'won', \"won't\", 'wouldn', \"wouldn't\"]\n"
          ]
        }
      ]
    },
    {
      "cell_type": "markdown",
      "metadata": {
        "id": "7s6cCTzE9xeZ"
      },
      "source": [
        "## 불용어 갯수는 179개있다. 이제 이 불용어를 제거해주자."
      ]
    },
    {
      "cell_type": "markdown",
      "metadata": {
        "id": "hGN4DTg599hV"
      },
      "source": [
        "## 다음은 데이터 불용어를 제거해주기위한 함수이다. 이제 이 함수를 가지고 불용어를 제거해주자."
      ]
    },
    {
      "cell_type": "code",
      "source": [
        "def preprocess_sentence(sentence, remove_stopwords=True):\n",
        "    sentence = sentence.lower() # 텍스트 소문자화\n",
        "    sentence = BeautifulSoup(sentence, \"lxml\").text # <br />, <a href = ...> 등의 html 태그 제거\n",
        "    sentence = re.sub(r'\\([^)]*\\)', '', sentence) # 괄호로 닫힌 문자열 (...) 제거 Ex) my husband (and myself!) for => my husband for\n",
        "    sentence = re.sub('\"','', sentence) # 쌍따옴표 \" 제거\n",
        "    sentence = ' '.join([contractions[t] if t in contractions else t for t in sentence.split(\" \")]) # 약어 정규화\n",
        "    sentence = re.sub(r\"'s\\b\",\"\", sentence) # 소유격 제거. Ex) roland's -> roland\n",
        "    sentence = re.sub(\"[^a-zA-Z]\", \" \", sentence) # 영어 외 문자(숫자, 특수문자 등) 공백으로 변환\n",
        "    sentence = re.sub('[m]{2,}', 'mm', sentence) # m이 3개 이상이면 2개로 변경. Ex) ummmmmmm yeah -> umm yeah\n",
        "    \n",
        "    # 불용어 제거 (Text)\n",
        "    if remove_stopwords:\n",
        "        tokens = ' '.join(word for word in sentence.split() if not word in stopwords.words('english') if len(word) > 1)\n",
        "    # 불용어 미제거 (Summary)\n",
        "    else:\n",
        "        tokens = ' '.join(word for word in sentence.split() if len(word) > 1)\n",
        "    return tokens"
      ],
      "metadata": {
        "id": "CfUM38e4UjoW"
      },
      "execution_count": 254,
      "outputs": []
    },
    {
      "cell_type": "markdown",
      "metadata": {
        "id": "VcQKlc2M-Nl4"
      },
      "source": [
        "## 샘플데이터를 넣어봐서 이 함수가 제대로 작동되는지 확인해보자."
      ]
    },
    {
      "cell_type": "code",
      "source": [
        "temp_text = 'Everything I bought was great, infact I ordered twice and the third ordered was<br />for my mother and father.'\n",
        "temp_headline = 'Great way to start (or finish) the day!!!'\n",
        "\n",
        "print(\"text: \", preprocess_sentence(temp_text))\n",
        "print(\"headline:\", preprocess_sentence(temp_headline, False))"
      ],
      "metadata": {
        "colab": {
          "base_uri": "https://localhost:8080/"
        },
        "id": "x3yr44HPUkTZ",
        "outputId": "63e9f9e2-2857-45ba-eb0a-e947d1383e1c"
      },
      "execution_count": 255,
      "outputs": [
        {
          "output_type": "stream",
          "name": "stdout",
          "text": [
            "text:  everything bought great infact ordered twice third ordered wasfor mother father\n",
            "headline: great way to start the day\n"
          ]
        }
      ]
    },
    {
      "cell_type": "markdown",
      "metadata": {
        "id": "IqdaugcY-U4t"
      },
      "source": [
        "## 잘 제거된 모습이고, 여기서 중요한점은 headline의 불용어는 제거안해줘도 된다는 점이다. headline의 데이터 전처리는 나중에 따로 불러와서 해주도록하자."
      ]
    },
    {
      "cell_type": "code",
      "source": [
        "clean_text = []\n",
        "\n",
        "for s in data['text']:\n",
        "    clean_text.append(preprocess_sentence(s))\n",
        "\n",
        "\n",
        "print(\"text 전처리 후 결과: \", clean_text[:5])"
      ],
      "metadata": {
        "colab": {
          "base_uri": "https://localhost:8080/"
        },
        "id": "T2gFA_ZgUlBc",
        "outputId": "1329ae65-b24e-4d33-97e1-3152f2596949"
      },
      "execution_count": 256,
      "outputs": [
        {
          "output_type": "stream",
          "name": "stdout",
          "text": [
            "text 전처리 후 결과:  ['saurav kant alumnus upgrad iiit pg program machine learning artificial intelligence sr systems engineer infosys almost years work experience program upgrad degree career support helped transition data scientist tech mahindra salary hike upgrad online power learning powered lakh careers', 'kunal shah credit card bill payment platform cred gave users chance win free food swiggy one year pranav kaushik delhi techie bagged reward spending cred coins users get one cred coin per rupee bill paid used avail rewards brands like ixigo bookmyshow ubereats cult fit', 'new zealand defeated india wickets fourth odi hamilton thursday win first match five match odi series india lost international match rohit sharma captaincy consecutive victories dating back march match witnessed india getting seventh lowest total odi cricket history', 'aegon life iterm insurance plan customers enjoy tax benefits premiums paid save taxes plan provides life cover age years also customers options insure critical illnesses disability accidental death benefit rider life cover age years', 'speaking sexual harassment allegations rajkumar hirani sonam kapoor said known hirani many years true metoo movement get derailed metoo movement always believe woman case need reserve judgment added hirani accused assistant worked sanju']\n"
          ]
        }
      ]
    },
    {
      "cell_type": "markdown",
      "metadata": {
        "id": "t9BjEnSMB7Uw"
      },
      "source": [
        "## headlines의 데이터는 불용어 처리는 안하고 쉼표나 느낌표, 물음표 등 이런것만 삭제해주는 과정을 진행했다."
      ]
    },
    {
      "cell_type": "code",
      "source": [
        "clean_headlines = []\n",
        "\n",
        "for s in data['headlines']:\n",
        "    clean_headlines.append(preprocess_sentence(s, False))\n",
        "\n",
        "print(\"headlines 전처리 후 결과: \", clean_headlines[:5])"
      ],
      "metadata": {
        "colab": {
          "base_uri": "https://localhost:8080/"
        },
        "id": "mtcqWJ9WUl53",
        "outputId": "c4b88397-a43f-4f7b-dfc0-5d7a118a81c1"
      },
      "execution_count": 257,
      "outputs": [
        {
          "output_type": "stream",
          "name": "stdout",
          "text": [
            "headlines 전처리 후 결과:  ['upgrad learner switches to career in ml al with salary hike', 'delhi techie wins free food from swiggy for one year on cred', 'new zealand end rohit sharma led india match winning streak', 'aegon life iterm insurance plan helps customers save tax', 'have known hirani for yrs what if metoo claims are not true sonam']\n"
          ]
        }
      ]
    },
    {
      "cell_type": "markdown",
      "metadata": {
        "id": "ASUn9gaQCPsG"
      },
      "source": [
        "## 이제 전처리를 해준 이 데이터를 보다 더 쉽게 확인해주기위해 다시 데이터프레임형식으로 만들어주자. 그리고 빈값은 null값으로 변환해주자."
      ]
    },
    {
      "cell_type": "code",
      "source": [
        "data['text'] = clean_text\n",
        "data['headlines'] = clean_headlines\n",
        "\n",
        "# 빈 값을 Null 값으로 변환\n",
        "data.replace('', np.nan, inplace=True)"
      ],
      "metadata": {
        "id": "U4Pxv2p3Umw4"
      },
      "execution_count": 258,
      "outputs": []
    },
    {
      "cell_type": "code",
      "source": [
        "data.head()"
      ],
      "metadata": {
        "colab": {
          "base_uri": "https://localhost:8080/",
          "height": 206
        },
        "id": "Y9KTIntUtKln",
        "outputId": "4b500959-f1f6-40e0-a0bf-0abb8a0f17fd"
      },
      "execution_count": 259,
      "outputs": [
        {
          "output_type": "execute_result",
          "data": {
            "text/plain": [
              "                                           headlines  \\\n",
              "0  upgrad learner switches to career in ml al wit...   \n",
              "1  delhi techie wins free food from swiggy for on...   \n",
              "2  new zealand end rohit sharma led india match w...   \n",
              "3  aegon life iterm insurance plan helps customer...   \n",
              "4  have known hirani for yrs what if metoo claims...   \n",
              "\n",
              "                                                text  \n",
              "0  saurav kant alumnus upgrad iiit pg program mac...  \n",
              "1  kunal shah credit card bill payment platform c...  \n",
              "2  new zealand defeated india wickets fourth odi ...  \n",
              "3  aegon life iterm insurance plan customers enjo...  \n",
              "4  speaking sexual harassment allegations rajkuma...  "
            ],
            "text/html": [
              "\n",
              "  <div id=\"df-5e42e1ee-ab54-42cb-832c-685f49da7fab\">\n",
              "    <div class=\"colab-df-container\">\n",
              "      <div>\n",
              "<style scoped>\n",
              "    .dataframe tbody tr th:only-of-type {\n",
              "        vertical-align: middle;\n",
              "    }\n",
              "\n",
              "    .dataframe tbody tr th {\n",
              "        vertical-align: top;\n",
              "    }\n",
              "\n",
              "    .dataframe thead th {\n",
              "        text-align: right;\n",
              "    }\n",
              "</style>\n",
              "<table border=\"1\" class=\"dataframe\">\n",
              "  <thead>\n",
              "    <tr style=\"text-align: right;\">\n",
              "      <th></th>\n",
              "      <th>headlines</th>\n",
              "      <th>text</th>\n",
              "    </tr>\n",
              "  </thead>\n",
              "  <tbody>\n",
              "    <tr>\n",
              "      <th>0</th>\n",
              "      <td>upgrad learner switches to career in ml al wit...</td>\n",
              "      <td>saurav kant alumnus upgrad iiit pg program mac...</td>\n",
              "    </tr>\n",
              "    <tr>\n",
              "      <th>1</th>\n",
              "      <td>delhi techie wins free food from swiggy for on...</td>\n",
              "      <td>kunal shah credit card bill payment platform c...</td>\n",
              "    </tr>\n",
              "    <tr>\n",
              "      <th>2</th>\n",
              "      <td>new zealand end rohit sharma led india match w...</td>\n",
              "      <td>new zealand defeated india wickets fourth odi ...</td>\n",
              "    </tr>\n",
              "    <tr>\n",
              "      <th>3</th>\n",
              "      <td>aegon life iterm insurance plan helps customer...</td>\n",
              "      <td>aegon life iterm insurance plan customers enjo...</td>\n",
              "    </tr>\n",
              "    <tr>\n",
              "      <th>4</th>\n",
              "      <td>have known hirani for yrs what if metoo claims...</td>\n",
              "      <td>speaking sexual harassment allegations rajkuma...</td>\n",
              "    </tr>\n",
              "  </tbody>\n",
              "</table>\n",
              "</div>\n",
              "      <button class=\"colab-df-convert\" onclick=\"convertToInteractive('df-5e42e1ee-ab54-42cb-832c-685f49da7fab')\"\n",
              "              title=\"Convert this dataframe to an interactive table.\"\n",
              "              style=\"display:none;\">\n",
              "        \n",
              "  <svg xmlns=\"http://www.w3.org/2000/svg\" height=\"24px\"viewBox=\"0 0 24 24\"\n",
              "       width=\"24px\">\n",
              "    <path d=\"M0 0h24v24H0V0z\" fill=\"none\"/>\n",
              "    <path d=\"M18.56 5.44l.94 2.06.94-2.06 2.06-.94-2.06-.94-.94-2.06-.94 2.06-2.06.94zm-11 1L8.5 8.5l.94-2.06 2.06-.94-2.06-.94L8.5 2.5l-.94 2.06-2.06.94zm10 10l.94 2.06.94-2.06 2.06-.94-2.06-.94-.94-2.06-.94 2.06-2.06.94z\"/><path d=\"M17.41 7.96l-1.37-1.37c-.4-.4-.92-.59-1.43-.59-.52 0-1.04.2-1.43.59L10.3 9.45l-7.72 7.72c-.78.78-.78 2.05 0 2.83L4 21.41c.39.39.9.59 1.41.59.51 0 1.02-.2 1.41-.59l7.78-7.78 2.81-2.81c.8-.78.8-2.07 0-2.86zM5.41 20L4 18.59l7.72-7.72 1.47 1.35L5.41 20z\"/>\n",
              "  </svg>\n",
              "      </button>\n",
              "      \n",
              "  <style>\n",
              "    .colab-df-container {\n",
              "      display:flex;\n",
              "      flex-wrap:wrap;\n",
              "      gap: 12px;\n",
              "    }\n",
              "\n",
              "    .colab-df-convert {\n",
              "      background-color: #E8F0FE;\n",
              "      border: none;\n",
              "      border-radius: 50%;\n",
              "      cursor: pointer;\n",
              "      display: none;\n",
              "      fill: #1967D2;\n",
              "      height: 32px;\n",
              "      padding: 0 0 0 0;\n",
              "      width: 32px;\n",
              "    }\n",
              "\n",
              "    .colab-df-convert:hover {\n",
              "      background-color: #E2EBFA;\n",
              "      box-shadow: 0px 1px 2px rgba(60, 64, 67, 0.3), 0px 1px 3px 1px rgba(60, 64, 67, 0.15);\n",
              "      fill: #174EA6;\n",
              "    }\n",
              "\n",
              "    [theme=dark] .colab-df-convert {\n",
              "      background-color: #3B4455;\n",
              "      fill: #D2E3FC;\n",
              "    }\n",
              "\n",
              "    [theme=dark] .colab-df-convert:hover {\n",
              "      background-color: #434B5C;\n",
              "      box-shadow: 0px 1px 3px 1px rgba(0, 0, 0, 0.15);\n",
              "      filter: drop-shadow(0px 1px 2px rgba(0, 0, 0, 0.3));\n",
              "      fill: #FFFFFF;\n",
              "    }\n",
              "  </style>\n",
              "\n",
              "      <script>\n",
              "        const buttonEl =\n",
              "          document.querySelector('#df-5e42e1ee-ab54-42cb-832c-685f49da7fab button.colab-df-convert');\n",
              "        buttonEl.style.display =\n",
              "          google.colab.kernel.accessAllowed ? 'block' : 'none';\n",
              "\n",
              "        async function convertToInteractive(key) {\n",
              "          const element = document.querySelector('#df-5e42e1ee-ab54-42cb-832c-685f49da7fab');\n",
              "          const dataTable =\n",
              "            await google.colab.kernel.invokeFunction('convertToInteractive',\n",
              "                                                     [key], {});\n",
              "          if (!dataTable) return;\n",
              "\n",
              "          const docLinkHtml = 'Like what you see? Visit the ' +\n",
              "            '<a target=\"_blank\" href=https://colab.research.google.com/notebooks/data_table.ipynb>data table notebook</a>'\n",
              "            + ' to learn more about interactive tables.';\n",
              "          element.innerHTML = '';\n",
              "          dataTable['output_type'] = 'display_data';\n",
              "          await google.colab.output.renderOutput(dataTable, element);\n",
              "          const docLink = document.createElement('div');\n",
              "          docLink.innerHTML = docLinkHtml;\n",
              "          element.appendChild(docLink);\n",
              "        }\n",
              "      </script>\n",
              "    </div>\n",
              "  </div>\n",
              "  "
            ]
          },
          "metadata": {},
          "execution_count": 259
        }
      ]
    },
    {
      "cell_type": "markdown",
      "metadata": {
        "id": "Vy8Ffz2BCq00"
      },
      "source": [
        "## 잘 변환해준 모습이고 이제 null값을 확인 후 삭제해주도록하자."
      ]
    },
    {
      "cell_type": "code",
      "source": [
        "data.isnull().sum()"
      ],
      "metadata": {
        "colab": {
          "base_uri": "https://localhost:8080/"
        },
        "id": "qKW7Dkb4Unae",
        "outputId": "a5d807bf-23a0-447f-8375-1f9fd27f6b39"
      },
      "execution_count": 260,
      "outputs": [
        {
          "output_type": "execute_result",
          "data": {
            "text/plain": [
              "headlines    0\n",
              "text         0\n",
              "dtype: int64"
            ]
          },
          "metadata": {},
          "execution_count": 260
        }
      ]
    },
    {
      "cell_type": "markdown",
      "metadata": {
        "id": "xgNm48kuDHQ3"
      },
      "source": [
        "## 운좋게도 null값은 없는것같다. 이제 필요없는 불용어들을 다 삭제해주고 전처리 해줬으니 훈련의 사용할 데이터의 최대길이를 정해주자.\n",
        "## 이 과정을 진행해주기 위하여 그림으로 길이 분포를 시각화해보자."
      ]
    },
    {
      "cell_type": "code",
      "source": [
        "import matplotlib.pyplot as plt\n",
        "\n",
        "text_len = [len(s.split()) for s in data['text']]\n",
        "summary_len = [len(s.split()) for s in data['headlines']]\n",
        "\n",
        "print('텍스트의 최소 길이 : {}'.format(np.min(text_len)))\n",
        "print('텍스트의 최대 길이 : {}'.format(np.max(text_len)))\n",
        "print('텍스트의 평균 길이 : {}'.format(np.mean(text_len)))\n",
        "print('요약의 최소 길이 : {}'.format(np.min(summary_len)))\n",
        "print('요약의 최대 길이 : {}'.format(np.max(summary_len)))\n",
        "print('요약의 평균 길이 : {}'.format(np.mean(summary_len)))\n",
        "\n",
        "plt.subplot(1,2,1)\n",
        "plt.boxplot(text_len)\n",
        "plt.title('text')\n",
        "plt.subplot(1,2,2)\n",
        "plt.boxplot(summary_len)\n",
        "plt.title('headlines')\n",
        "plt.tight_layout()\n",
        "plt.show()\n",
        "\n",
        "plt.title('text')\n",
        "plt.hist(text_len, bins = 40)\n",
        "plt.xlabel('length of samples')\n",
        "plt.ylabel('number of samples')\n",
        "plt.show()\n",
        "\n",
        "plt.title('headlines')\n",
        "plt.hist(summary_len, bins = 40)\n",
        "plt.xlabel('length of samples')\n",
        "plt.ylabel('number of samples')\n",
        "plt.show()"
      ],
      "metadata": {
        "colab": {
          "base_uri": "https://localhost:8080/",
          "height": 960
        },
        "id": "eoL52jg_UpAg",
        "outputId": "edee3eb8-0b5b-4785-bdf4-0c81d0f62c9b"
      },
      "execution_count": 261,
      "outputs": [
        {
          "output_type": "stream",
          "name": "stdout",
          "text": [
            "텍스트의 최소 길이 : 1\n",
            "텍스트의 최대 길이 : 60\n",
            "텍스트의 평균 길이 : 35.09983638377659\n",
            "요약의 최소 길이 : 1\n",
            "요약의 최대 길이 : 16\n",
            "요약의 평균 길이 : 9.299651426306644\n"
          ]
        },
        {
          "output_type": "display_data",
          "data": {
            "text/plain": [
              "<Figure size 432x288 with 2 Axes>"
            ],
            "image/png": "[encoded data removed]"
          },
          "metadata": {
            "needs_background": "light"
          }
        },
        {
          "output_type": "display_data",
          "data": {
            "text/plain": [
              "<Figure size 432x288 with 1 Axes>"
            ],
            "image/png": "[encoded data removed]"
          },
          "metadata": {
            "needs_background": "light"
          }
        },
        {
          "output_type": "display_data",
          "data": {
            "text/plain": [
              "<Figure size 432x288 with 1 Axes>"
            ],
            "image/png": "[encoded data removed]"
          },
          "metadata": {
            "needs_background": "light"
          }
        }
      ]
    },
    {
      "cell_type": "markdown",
      "metadata": {
        "id": "sV21v1XTEUEY"
      },
      "source": [
        "## text의 평균길이는 35 headlines의 평균길이는9이다.\n",
        "## 나는 데이터 전부 95%이상까지 쓰고싶어서 조금만 잘라주었다."
      ]
    },
    {
      "cell_type": "code",
      "source": [
        "text_max_len = 41\n",
        "headlines_max_len = 12"
      ],
      "metadata": {
        "id": "GkrZxoB6UqCb"
      },
      "execution_count": 262,
      "outputs": []
    },
    {
      "cell_type": "code",
      "source": [
        "def below_threshold_len(max_len, nested_list):\n",
        "  cnt = 0\n",
        "  for s in nested_list:\n",
        "    if(len(s.split()) <= max_len):\n",
        "        cnt = cnt + 1\n",
        "  print('전체 샘플 중 길이가 %s 이하인 샘플의 비율: %s'%(max_len, (cnt / len(nested_list))))"
      ],
      "metadata": {
        "id": "D44-sbeZtV8K"
      },
      "execution_count": 263,
      "outputs": []
    },
    {
      "cell_type": "code",
      "source": [
        "below_threshold_len(text_max_len, data['text'])\n",
        "below_threshold_len(headlines_max_len,  data['headlines'])"
      ],
      "metadata": {
        "colab": {
          "base_uri": "https://localhost:8080/"
        },
        "id": "NkXY0DLNqT0E",
        "outputId": "419fc359-bf5d-432f-dcea-13e7a62d8b97"
      },
      "execution_count": 265,
      "outputs": [
        {
          "output_type": "stream",
          "name": "stdout",
          "text": [
            "전체 샘플 중 길이가 41 이하인 샘플의 비율: 0.9549293198239855\n",
            "전체 샘플 중 길이가 12 이하인 샘플의 비율: 0.9880387394437048\n"
          ]
        }
      ]
    },
    {
      "cell_type": "markdown",
      "metadata": {
        "id": "gkD7ksi4GWUu"
      },
      "source": [
        "## 이제 길이가 긴 데이터는 날려주도록하자."
      ]
    },
    {
      "cell_type": "code",
      "source": [
        "data = data[data['text'].apply(lambda x: len(x.split()) <= text_max_len)]\n",
        "data = data[data['headlines'].apply(lambda x: len(x.split()) <= headlines_max_len)]\n",
        "print('전체 샘플수 :', (len(data)))"
      ],
      "metadata": {
        "colab": {
          "base_uri": "https://localhost:8080/"
        },
        "id": "6vqHj3NwUqv7",
        "outputId": "0a6da61b-020c-48a3-93e5-1329ff55905d"
      },
      "execution_count": 266,
      "outputs": [
        {
          "output_type": "stream",
          "name": "stdout",
          "text": [
            "전체 샘플수 : 92836\n"
          ]
        }
      ]
    },
    {
      "cell_type": "markdown",
      "metadata": {
        "id": "6ks_GKqaRpyV"
      },
      "source": [
        "## 너무 긴 문장은 날려주었고, 이제 디코더에 들어갈 input,target 데이터를 나눠주고, 인코더에 들어갈 input데이터를 넣어주자."
      ]
    },
    {
      "cell_type": "code",
      "source": [
        "data['decoder_input'] = data['headlines'].apply(lambda x : 'sostoken '+ x)\n",
        "data['decoder_target'] = data['headlines'].apply(lambda x : x + ' eostoken')\n",
        "data.head()"
      ],
      "metadata": {
        "colab": {
          "base_uri": "https://localhost:8080/",
          "height": 206
        },
        "id": "6upVNbRQUr_w",
        "outputId": "ec584f78-ad68-49c6-f744-93bfa3ed17bc"
      },
      "execution_count": 267,
      "outputs": [
        {
          "output_type": "execute_result",
          "data": {
            "text/plain": [
              "                                           headlines  \\\n",
              "0  upgrad learner switches to career in ml al wit...   \n",
              "2  new zealand end rohit sharma led india match w...   \n",
              "3  aegon life iterm insurance plan helps customer...   \n",
              "5  rahat fateh ali khan denies getting notice for...   \n",
              "6  india get all out for their lowest odi total i...   \n",
              "\n",
              "                                                text  \\\n",
              "0  saurav kant alumnus upgrad iiit pg program mac...   \n",
              "2  new zealand defeated india wickets fourth odi ...   \n",
              "3  aegon life iterm insurance plan customers enjo...   \n",
              "5  pakistani singer rahat fateh ali khan denied r...   \n",
              "6  india recorded lowest odi total new zealand ge...   \n",
              "\n",
              "                                       decoder_input  \\\n",
              "0  sostoken upgrad learner switches to career in ...   \n",
              "2  sostoken new zealand end rohit sharma led indi...   \n",
              "3  sostoken aegon life iterm insurance plan helps...   \n",
              "5  sostoken rahat fateh ali khan denies getting n...   \n",
              "6  sostoken india get all out for their lowest od...   \n",
              "\n",
              "                                      decoder_target  \n",
              "0  upgrad learner switches to career in ml al wit...  \n",
              "2  new zealand end rohit sharma led india match w...  \n",
              "3  aegon life iterm insurance plan helps customer...  \n",
              "5  rahat fateh ali khan denies getting notice for...  \n",
              "6  india get all out for their lowest odi total i...  "
            ],
            "text/html": [
              "\n",
              "  <div id=\"df-6c02fe85-bf01-43f7-a71e-3b1c4099c2f9\">\n",
              "    <div class=\"colab-df-container\">\n",
              "      <div>\n",
              "<style scoped>\n",
              "    .dataframe tbody tr th:only-of-type {\n",
              "        vertical-align: middle;\n",
              "    }\n",
              "\n",
              "    .dataframe tbody tr th {\n",
              "        vertical-align: top;\n",
              "    }\n",
              "\n",
              "    .dataframe thead th {\n",
              "        text-align: right;\n",
              "    }\n",
              "</style>\n",
              "<table border=\"1\" class=\"dataframe\">\n",
              "  <thead>\n",
              "    <tr style=\"text-align: right;\">\n",
              "      <th></th>\n",
              "      <th>headlines</th>\n",
              "      <th>text</th>\n",
              "      <th>decoder_input</th>\n",
              "      <th>decoder_target</th>\n",
              "    </tr>\n",
              "  </thead>\n",
              "  <tbody>\n",
              "    <tr>\n",
              "      <th>0</th>\n",
              "      <td>upgrad learner switches to career in ml al wit...</td>\n",
              "      <td>saurav kant alumnus upgrad iiit pg program mac...</td>\n",
              "      <td>sostoken upgrad learner switches to career in ...</td>\n",
              "      <td>upgrad learner switches to career in ml al wit...</td>\n",
              "    </tr>\n",
              "    <tr>\n",
              "      <th>2</th>\n",
              "      <td>new zealand end rohit sharma led india match w...</td>\n",
              "      <td>new zealand defeated india wickets fourth odi ...</td>\n",
              "      <td>sostoken new zealand end rohit sharma led indi...</td>\n",
              "      <td>new zealand end rohit sharma led india match w...</td>\n",
              "    </tr>\n",
              "    <tr>\n",
              "      <th>3</th>\n",
              "      <td>aegon life iterm insurance plan helps customer...</td>\n",
              "      <td>aegon life iterm insurance plan customers enjo...</td>\n",
              "      <td>sostoken aegon life iterm insurance plan helps...</td>\n",
              "      <td>aegon life iterm insurance plan helps customer...</td>\n",
              "    </tr>\n",
              "    <tr>\n",
              "      <th>5</th>\n",
              "      <td>rahat fateh ali khan denies getting notice for...</td>\n",
              "      <td>pakistani singer rahat fateh ali khan denied r...</td>\n",
              "      <td>sostoken rahat fateh ali khan denies getting n...</td>\n",
              "      <td>rahat fateh ali khan denies getting notice for...</td>\n",
              "    </tr>\n",
              "    <tr>\n",
              "      <th>6</th>\n",
              "      <td>india get all out for their lowest odi total i...</td>\n",
              "      <td>india recorded lowest odi total new zealand ge...</td>\n",
              "      <td>sostoken india get all out for their lowest od...</td>\n",
              "      <td>india get all out for their lowest odi total i...</td>\n",
              "    </tr>\n",
              "  </tbody>\n",
              "</table>\n",
              "</div>\n",
              "      <button class=\"colab-df-convert\" onclick=\"convertToInteractive('df-6c02fe85-bf01-43f7-a71e-3b1c4099c2f9')\"\n",
              "              title=\"Convert this dataframe to an interactive table.\"\n",
              "              style=\"display:none;\">\n",
              "        \n",
              "  <svg xmlns=\"http://www.w3.org/2000/svg\" height=\"24px\"viewBox=\"0 0 24 24\"\n",
              "       width=\"24px\">\n",
              "    <path d=\"M0 0h24v24H0V0z\" fill=\"none\"/>\n",
              "    <path d=\"M18.56 5.44l.94 2.06.94-2.06 2.06-.94-2.06-.94-.94-2.06-.94 2.06-2.06.94zm-11 1L8.5 8.5l.94-2.06 2.06-.94-2.06-.94L8.5 2.5l-.94 2.06-2.06.94zm10 10l.94 2.06.94-2.06 2.06-.94-2.06-.94-.94-2.06-.94 2.06-2.06.94z\"/><path d=\"M17.41 7.96l-1.37-1.37c-.4-.4-.92-.59-1.43-.59-.52 0-1.04.2-1.43.59L10.3 9.45l-7.72 7.72c-.78.78-.78 2.05 0 2.83L4 21.41c.39.39.9.59 1.41.59.51 0 1.02-.2 1.41-.59l7.78-7.78 2.81-2.81c.8-.78.8-2.07 0-2.86zM5.41 20L4 18.59l7.72-7.72 1.47 1.35L5.41 20z\"/>\n",
              "  </svg>\n",
              "      </button>\n",
              "      \n",
              "  <style>\n",
              "    .colab-df-container {\n",
              "      display:flex;\n",
              "      flex-wrap:wrap;\n",
              "      gap: 12px;\n",
              "    }\n",
              "\n",
              "    .colab-df-convert {\n",
              "      background-color: #E8F0FE;\n",
              "      border: none;\n",
              "      border-radius: 50%;\n",
              "      cursor: pointer;\n",
              "      display: none;\n",
              "      fill: #1967D2;\n",
              "      height: 32px;\n",
              "      padding: 0 0 0 0;\n",
              "      width: 32px;\n",
              "    }\n",
              "\n",
              "    .colab-df-convert:hover {\n",
              "      background-color: #E2EBFA;\n",
              "      box-shadow: 0px 1px 2px rgba(60, 64, 67, 0.3), 0px 1px 3px 1px rgba(60, 64, 67, 0.15);\n",
              "      fill: #174EA6;\n",
              "    }\n",
              "\n",
              "    [theme=dark] .colab-df-convert {\n",
              "      background-color: #3B4455;\n",
              "      fill: #D2E3FC;\n",
              "    }\n",
              "\n",
              "    [theme=dark] .colab-df-convert:hover {\n",
              "      background-color: #434B5C;\n",
              "      box-shadow: 0px 1px 3px 1px rgba(0, 0, 0, 0.15);\n",
              "      filter: drop-shadow(0px 1px 2px rgba(0, 0, 0, 0.3));\n",
              "      fill: #FFFFFF;\n",
              "    }\n",
              "  </style>\n",
              "\n",
              "      <script>\n",
              "        const buttonEl =\n",
              "          document.querySelector('#df-6c02fe85-bf01-43f7-a71e-3b1c4099c2f9 button.colab-df-convert');\n",
              "        buttonEl.style.display =\n",
              "          google.colab.kernel.accessAllowed ? 'block' : 'none';\n",
              "\n",
              "        async function convertToInteractive(key) {\n",
              "          const element = document.querySelector('#df-6c02fe85-bf01-43f7-a71e-3b1c4099c2f9');\n",
              "          const dataTable =\n",
              "            await google.colab.kernel.invokeFunction('convertToInteractive',\n",
              "                                                     [key], {});\n",
              "          if (!dataTable) return;\n",
              "\n",
              "          const docLinkHtml = 'Like what you see? Visit the ' +\n",
              "            '<a target=\"_blank\" href=https://colab.research.google.com/notebooks/data_table.ipynb>data table notebook</a>'\n",
              "            + ' to learn more about interactive tables.';\n",
              "          element.innerHTML = '';\n",
              "          dataTable['output_type'] = 'display_data';\n",
              "          await google.colab.output.renderOutput(dataTable, element);\n",
              "          const docLink = document.createElement('div');\n",
              "          docLink.innerHTML = docLinkHtml;\n",
              "          element.appendChild(docLink);\n",
              "        }\n",
              "      </script>\n",
              "    </div>\n",
              "  </div>\n",
              "  "
            ]
          },
          "metadata": {},
          "execution_count": 267
        }
      ]
    },
    {
      "cell_type": "markdown",
      "metadata": {
        "id": "QHj6sLjoSarw"
      },
      "source": [
        "## 이제 테스트와 트레인 데이터로 나누어주자."
      ]
    },
    {
      "cell_type": "code",
      "source": [
        "encoder_input = np.array(data['text'])\n",
        "decoder_input = np.array(data['decoder_input']) \n",
        "decoder_target = np.array(data['decoder_target']) "
      ],
      "metadata": {
        "id": "co0o-VPtUs2D"
      },
      "execution_count": 268,
      "outputs": []
    },
    {
      "cell_type": "code",
      "source": [
        "indices = np.arange(encoder_input.shape[0])\n",
        "np.random.shuffle(indices)\n",
        "encoder_input = encoder_input[indices]\n",
        "decoder_input = decoder_input[indices]\n",
        "decoder_target = decoder_target[indices]"
      ],
      "metadata": {
        "id": "hZ7Ai5VJpSly"
      },
      "execution_count": 269,
      "outputs": []
    },
    {
      "cell_type": "code",
      "source": [
        "n_of_val = int(len(encoder_input)*0.2)\n",
        "print('테스트 데이터의 수 :', n_of_val)"
      ],
      "metadata": {
        "colab": {
          "base_uri": "https://localhost:8080/"
        },
        "id": "BE046S9PpSRH",
        "outputId": "6f617d65-4e37-4af3-cd3d-a740985605a1"
      },
      "execution_count": 270,
      "outputs": [
        {
          "output_type": "stream",
          "name": "stdout",
          "text": [
            "테스트 데이터의 수 : 18567\n"
          ]
        }
      ]
    },
    {
      "cell_type": "code",
      "source": [
        "encoder_input_train = encoder_input[:-n_of_val]\n",
        "decoder_input_train = decoder_input[:-n_of_val]\n",
        "decoder_target_train = decoder_target[:-n_of_val]\n",
        "\n",
        "encoder_input_test = encoder_input[-n_of_val:]\n",
        "decoder_input_test = decoder_input[-n_of_val:]\n",
        "decoder_target_test = decoder_target[-n_of_val:]\n",
        "\n",
        "print('훈련 데이터의 개수 :', len(encoder_input_train))\n",
        "print('훈련 레이블의 개수 :', len(decoder_input_train))\n",
        "print('테스트 데이터의 개수 :', len(encoder_input_test))\n",
        "print('테스트 레이블의 개수 :', len(decoder_input_test))"
      ],
      "metadata": {
        "colab": {
          "base_uri": "https://localhost:8080/"
        },
        "id": "Mdf5-ONcpY1B",
        "outputId": "1805d581-f28f-4485-8582-5fe1ca6adf29"
      },
      "execution_count": 271,
      "outputs": [
        {
          "output_type": "stream",
          "name": "stdout",
          "text": [
            "훈련 데이터의 개수 : 74269\n",
            "훈련 레이블의 개수 : 74269\n",
            "테스트 데이터의 개수 : 18567\n",
            "테스트 레이블의 개수 : 18567\n"
          ]
        }
      ]
    },
    {
      "cell_type": "markdown",
      "metadata": {
        "id": "P5ynuIfBTeum"
      },
      "source": [
        "## 잘 나누어졌다. 이제 이 데이터를 가지고 정수형으로 인코딩해보도록하자."
      ]
    },
    {
      "cell_type": "code",
      "source": [
        "src_tokenizer = Tokenizer()\n",
        "src_tokenizer.fit_on_texts(encoder_input_train)"
      ],
      "metadata": {
        "id": "mODBbGO1Ut1t"
      },
      "execution_count": 272,
      "outputs": []
    },
    {
      "cell_type": "code",
      "source": [
        "threshold = 7\n",
        "total_cnt = len(src_tokenizer.word_index) # 단어의 수\n",
        "rare_cnt = 0 # 등장 빈도수가 threshold보다 작은 단어의 개수를 카운트\n",
        "total_freq = 0 # 훈련 데이터의 전체 단어 빈도수 총 합\n",
        "rare_freq = 0 # 등장 빈도수가 threshold보다 작은 단어의 등장 빈도수의 총 합\n",
        "\n",
        "# 단어와 빈도수의 쌍(pair)을 key와 value로 받는다.\n",
        "for key, value in src_tokenizer.word_counts.items():\n",
        "    total_freq = total_freq + value\n",
        "\n",
        "    # 단어의 등장 빈도수가 threshold보다 작으면\n",
        "    if(value < threshold):\n",
        "        rare_cnt = rare_cnt + 1\n",
        "        rare_freq = rare_freq + value\n",
        "\n",
        "print('단어 집합(vocabulary)의 크기 :', total_cnt)\n",
        "print('등장 빈도가 %s번 이하인 희귀 단어의 수: %s'%(threshold - 1, rare_cnt))\n",
        "print('단어 집합에서 희귀 단어를 제외시킬 경우의 단어 집합의 크기 %s'%(total_cnt - rare_cnt))\n",
        "print(\"단어 집합에서 희귀 단어의 비율:\", (rare_cnt / total_cnt)*100)\n",
        "print(\"전체 등장 빈도에서 희귀 단어 등장 빈도 비율:\", (rare_freq / total_freq)*100)"
      ],
      "metadata": {
        "colab": {
          "base_uri": "https://localhost:8080/"
        },
        "id": "-6VCz_Qeuzt3",
        "outputId": "f6ecfeb3-9313-4d03-bf38-e19b079bb965"
      },
      "execution_count": 273,
      "outputs": [
        {
          "output_type": "stream",
          "name": "stdout",
          "text": [
            "단어 집합(vocabulary)의 크기 : 66957\n",
            "등장 빈도가 6번 이하인 희귀 단어의 수: 45578\n",
            "단어 집합에서 희귀 단어를 제외시킬 경우의 단어 집합의 크기 21379\n",
            "단어 집합에서 희귀 단어의 비율: 68.07055274280508\n",
            "전체 등장 빈도에서 희귀 단어 등장 빈도 비율: 3.589360388643471\n"
          ]
        }
      ]
    },
    {
      "cell_type": "markdown",
      "metadata": {
        "id": "0a9TtXWwata7"
      },
      "source": [
        "## 3.6%면 적은것같다. 그래서 나는 등장 빈도가 6번 이하인 희귀 단어의 수를 제외해주도록 할것이다.\n",
        "## 어림잡아 20000으로 설정하자."
      ]
    },
    {
      "cell_type": "code",
      "source": [
        "src_vocab = 20000\n",
        "src_tokenizer = Tokenizer(num_words=src_vocab)\n",
        "src_tokenizer.fit_on_texts(encoder_input_train)"
      ],
      "metadata": {
        "id": "5awmaIARUuw_"
      },
      "execution_count": 274,
      "outputs": []
    },
    {
      "cell_type": "code",
      "source": [
        "encoder_input_train = src_tokenizer.texts_to_sequences(encoder_input_train) \n",
        "encoder_input_test = src_tokenizer.texts_to_sequences(encoder_input_test)\n",
        "\n",
        "\n",
        "print(encoder_input_train[:3])"
      ],
      "metadata": {
        "colab": {
          "base_uri": "https://localhost:8080/"
        },
        "id": "l3b1f6Wwu6Dm",
        "outputId": "e872951e-80de-4874-c4f8-011a36841352"
      },
      "execution_count": 275,
      "outputs": [
        {
          "output_type": "stream",
          "name": "stdout",
          "text": [
            "[[16092, 596, 8763, 15438, 41, 339, 642, 357, 3072, 2191, 102, 15438, 65, 139, 3719, 1683, 988, 32, 137, 68, 788, 1157, 3985, 139, 2741, 466, 15438, 1, 1178, 1697, 1085], [7791, 710, 1723, 13750, 4345, 65, 1723, 63, 824, 5261, 11695, 306, 4013, 298, 4013, 3400, 4345, 1723, 1217, 5467, 6919, 1615, 1209, 2285, 953, 9110, 149, 111, 1594], [8619, 1985, 92, 6655, 5981, 69, 1, 8764, 4915, 3643, 18686, 3528, 98, 177, 1109, 484, 373, 510, 84, 3401, 314, 4, 3643, 353, 1360, 3, 471, 772, 18, 7323, 1098, 70, 763, 18686, 537, 375, 303]]\n"
          ]
        }
      ]
    },
    {
      "cell_type": "markdown",
      "metadata": {
        "id": "FLJQ_Q_QbYk7"
      },
      "source": [
        "## 잘 변환된거같고 이제 decoder에 들어갈 headline 데이터들도 정수형 인코딩을 해보자."
      ]
    },
    {
      "cell_type": "code",
      "source": [
        "tar_tokenizer = Tokenizer()\n",
        "tar_tokenizer.fit_on_texts(decoder_input_train)"
      ],
      "metadata": {
        "id": "EYAtGP-oUvys"
      },
      "execution_count": 276,
      "outputs": []
    },
    {
      "cell_type": "code",
      "source": [
        "threshold = 7\n",
        "total_cnt = len(tar_tokenizer.word_index) # 단어의 수\n",
        "rare_cnt = 0 # 등장 빈도수가 threshold보다 작은 단어의 개수를 카운트\n",
        "total_freq = 0 # 훈련 데이터의 전체 단어 빈도수 총 합\n",
        "rare_freq = 0 # 등장 빈도수가 threshold보다 작은 단어의 등장 빈도수의 총 합\n",
        "\n",
        "# 단어와 빈도수의 쌍(pair)을 key와 value로 받는다.\n",
        "for key, value in tar_tokenizer.word_counts.items():\n",
        "    total_freq = total_freq + value\n",
        "\n",
        "    # 단어의 등장 빈도수가 threshold보다 작으면\n",
        "    if(value < threshold):\n",
        "        rare_cnt = rare_cnt + 1\n",
        "        rare_freq = rare_freq + value\n",
        "\n",
        "print('단어 집합(vocabulary)의 크기 :', total_cnt)\n",
        "print('등장 빈도가 %s번 이하인 희귀 단어의 수: %s'%(threshold - 1, rare_cnt))\n",
        "print('단어 집합에서 희귀 단어를 제외시킬 경우의 단어 집합의 크기 %s'%(total_cnt - rare_cnt))\n",
        "print(\"단어 집합에서 희귀 단어의 비율:\", (rare_cnt / total_cnt)*100)\n",
        "print(\"전체 등장 빈도에서 희귀 단어 등장 빈도 비율:\", (rare_freq / total_freq)*100)"
      ],
      "metadata": {
        "colab": {
          "base_uri": "https://localhost:8080/"
        },
        "id": "N0Hf32d1vRc6",
        "outputId": "00913127-d2cb-43c7-c3f1-f9f426b9bbbc"
      },
      "execution_count": 277,
      "outputs": [
        {
          "output_type": "stream",
          "name": "stdout",
          "text": [
            "단어 집합(vocabulary)의 크기 : 29212\n",
            "등장 빈도가 6번 이하인 희귀 단어의 수: 20001\n",
            "단어 집합에서 희귀 단어를 제외시킬 경우의 단어 집합의 크기 9211\n",
            "단어 집합에서 희귀 단어의 비율: 68.4684376283719\n",
            "전체 등장 빈도에서 희귀 단어 등장 빈도 비율: 5.510978342831169\n"
          ]
        }
      ]
    },
    {
      "cell_type": "code",
      "source": [
        "tar_vocab = 9000\n",
        "tar_tokenizer = Tokenizer(num_words=tar_vocab) \n",
        "tar_tokenizer.fit_on_texts(decoder_input_train)\n",
        "tar_tokenizer.fit_on_texts(decoder_target_train)\n",
        "\n",
        "# 텍스트 시퀀스를 정수 시퀀스로 변환\n",
        "decoder_input_train = tar_tokenizer.texts_to_sequences(decoder_input_train) \n",
        "decoder_target_train = tar_tokenizer.texts_to_sequences(decoder_target_train)\n",
        "decoder_input_test = tar_tokenizer.texts_to_sequences(decoder_input_test)\n",
        "decoder_target_test = tar_tokenizer.texts_to_sequences(decoder_target_test)"
      ],
      "metadata": {
        "id": "2Q-kwLRZvabY"
      },
      "execution_count": 278,
      "outputs": []
    },
    {
      "cell_type": "code",
      "source": [
        "print('input')\n",
        "print('input ',decoder_input_train[:5])\n",
        "print('target')\n",
        "print('decoder ',decoder_target_train[:5])"
      ],
      "metadata": {
        "colab": {
          "base_uri": "https://localhost:8080/"
        },
        "id": "j1eMUaFpvc9n",
        "outputId": "054edfc1-ad51-4a40-ba42-06ec4df5e080"
      },
      "execution_count": 279,
      "outputs": [
        {
          "output_type": "stream",
          "name": "stdout",
          "text": [
            "input\n",
            "input  [[1, 66, 3844, 4232, 6, 230, 326], [1, 4365, 268, 3094, 2294, 86, 80, 1199, 92, 366], [1, 2043, 19, 7, 6, 2459, 4, 225, 6258, 4366], [1, 3530, 2173, 117, 242, 4503, 105, 3, 1265, 1853, 118, 3, 2605], [1, 610, 963, 161, 7, 35, 6, 1746, 587, 498, 117]]\n",
            "target\n",
            "decoder  [[66, 3844, 4232, 6, 230, 326, 2], [4365, 268, 3094, 2294, 86, 80, 1199, 92, 366, 2], [2043, 19, 7, 6, 2459, 4, 225, 6258, 4366, 2], [3530, 2173, 117, 242, 4503, 105, 3, 1265, 1853, 118, 3, 2605, 2], [610, 963, 161, 7, 35, 6, 1746, 587, 498, 117, 2]]\n"
          ]
        }
      ]
    },
    {
      "cell_type": "markdown",
      "metadata": {
        "id": "Xrq8SAoQcQnk"
      },
      "source": [
        "## 이제 이 데이터들의 길이가 1인것과 0인것을 삭제해주도록하자."
      ]
    },
    {
      "cell_type": "code",
      "source": [
        "drop_train = [index for index, sentence in enumerate(decoder_input_train) if len(sentence) == 1]\n",
        "drop_test = [index for index, sentence in enumerate(decoder_input_test) if len(sentence) == 1]\n",
        "\n",
        "print('삭제할 훈련 데이터의 개수 :', len(drop_train))\n",
        "print('삭제할 테스트 데이터의 개수 :', len(drop_test))\n",
        "\n",
        "encoder_input_train = [sentence for index, sentence in enumerate(encoder_input_train) if index not in drop_train]\n",
        "decoder_input_train = [sentence for index, sentence in enumerate(decoder_input_train) if index not in drop_train]\n",
        "decoder_target_train = [sentence for index, sentence in enumerate(decoder_target_train) if index not in drop_train]\n",
        "\n",
        "encoder_input_test = [sentence for index, sentence in enumerate(encoder_input_test) if index not in drop_test]\n",
        "decoder_input_test = [sentence for index, sentence in enumerate(decoder_input_test) if index not in drop_test]\n",
        "decoder_target_test = [sentence for index, sentence in enumerate(decoder_target_test) if index not in drop_test]\n",
        "\n",
        "print('훈련 데이터의 개수 :', len(encoder_input_train))\n",
        "print('훈련 레이블의 개수 :', len(decoder_input_train))\n",
        "print('테스트 데이터의 개수 :', len(encoder_input_test))\n",
        "print('테스트 레이블의 개수 :', len(decoder_input_test))"
      ],
      "metadata": {
        "colab": {
          "base_uri": "https://localhost:8080/"
        },
        "id": "C3QhSn6JUwvD",
        "outputId": "84a4bbb8-4a73-45bd-d7a1-aee807a60672"
      },
      "execution_count": 280,
      "outputs": [
        {
          "output_type": "stream",
          "name": "stdout",
          "text": [
            "삭제할 훈련 데이터의 개수 : 0\n",
            "삭제할 테스트 데이터의 개수 : 0\n",
            "훈련 데이터의 개수 : 74269\n",
            "훈련 레이블의 개수 : 74269\n",
            "테스트 데이터의 개수 : 18567\n",
            "테스트 레이블의 개수 : 18567\n"
          ]
        }
      ]
    },
    {
      "cell_type": "markdown",
      "metadata": {
        "id": "mnYs25ZZcp7i"
      },
      "source": [
        "## 그렇게 많지않아서 괜찮은 데이터인것같다. 이제 마지막으로 패딩을 시키자. 나는 패딩을 'pre' 로 써줘서 앞의데이터들을 덜 잊게해주었다."
      ]
    },
    {
      "cell_type": "code",
      "source": [
        "encoder_input_train = pad_sequences(encoder_input_train, maxlen=text_max_len, padding='pre')\n",
        "encoder_input_test = pad_sequences(encoder_input_test, maxlen=text_max_len, padding='pre')\n",
        "decoder_input_train = pad_sequences(decoder_input_train, maxlen=headlines_max_len, padding='pre')\n",
        "decoder_target_train = pad_sequences(decoder_target_train, maxlen=headlines_max_len, padding='pre')\n",
        "decoder_input_test = pad_sequences(decoder_input_test, maxlen=headlines_max_len, padding='pre')\n",
        "decoder_target_test = pad_sequences(decoder_target_test, maxlen=headlines_max_len, padding='pre')\n"
      ],
      "metadata": {
        "id": "-DqML4mwUxd7"
      },
      "execution_count": 281,
      "outputs": []
    },
    {
      "cell_type": "markdown",
      "metadata": {
        "id": "HcNj1fIRdEob"
      },
      "source": [
        "## 이제 데이터의 전처리는 끝난것같고, 이제 모델을 설계하자.\n",
        "# 인코더 모델설계: 인코더에서 층은 3층만 쌓아줬다. 더 쌓아줘봤자 과적합만 일어날것같다."
      ]
    },
    {
      "cell_type": "code",
      "source": [
        "from tensorflow.keras.layers import Input, LSTM, Embedding, Dense, Concatenate, TimeDistributed\n",
        "from tensorflow.keras.models import Model\n",
        "from tensorflow.keras.callbacks import EarlyStopping, ModelCheckpoint\n",
        "\n",
        "\n",
        "# 인코더 설계 시작\n",
        "embedding_dim = 128\n",
        "hidden_size = 256\n",
        "\n",
        "# 인코더\n",
        "encoder_inputs = Input(shape=(text_max_len,))\n",
        "\n",
        "# 인코더의 임베딩 층\n",
        "enc_emb = Embedding(src_vocab, embedding_dim)(encoder_inputs)\n",
        "\n",
        "# 인코더의 LSTM 1\n",
        "# encoder_lstm1 = LSTM(hidden_size, return_sequences=True, return_state=True ,dropout = 0.4, recurrent_dropout = 0.4)\n",
        "encoder_lstm1 = LSTM(hidden_size, return_sequences=True, return_state=True ,dropout = 0.4)\n",
        "encoder_output1, state_h1, state_c1 = encoder_lstm1(enc_emb)\n",
        "\n",
        "# 인코더의 LSTM 2\n",
        "# encoder_lstm2 = LSTM(hidden_size, return_sequences=True, return_state=True, dropout=0.4, recurrent_dropout=0.4)\n",
        "encoder_lstm2 = LSTM(hidden_size, return_sequences=True, return_state=True, dropout=0.4)\n",
        "encoder_output2, state_h2, state_c2 = encoder_lstm2(encoder_output1)\n",
        "\n",
        "# 인코더의 LSTM 3\n",
        "# encoder_lstm3 = LSTM(hidden_size, return_state=True, return_sequences=True, dropout=0.4, recurrent_dropout=0.4)\n",
        "encoder_lstm3 = LSTM(hidden_size, return_state=True, return_sequences=True, dropout=0.4)\n",
        "encoder_outputs, state_h, state_c= encoder_lstm3(encoder_output2)"
      ],
      "metadata": {
        "id": "C9B3AKE2Uyo0"
      },
      "execution_count": 282,
      "outputs": []
    },
    {
      "cell_type": "markdown",
      "metadata": {
        "id": "szRXg1jOd4Jk"
      },
      "source": [
        "# 디코더 설계"
      ]
    },
    {
      "cell_type": "code",
      "source": [
        "decoder_inputs = Input(shape=(None,))\n",
        "\n",
        "# 디코더의 임베딩 층\n",
        "dec_emb_layer = Embedding(tar_vocab, embedding_dim)\n",
        "dec_emb = dec_emb_layer(decoder_inputs)\n",
        "\n",
        "# 디코더의 LSTM\n",
        "# decoder_lstm = LSTM(hidden_size, return_sequences=True, return_state=True, dropout=0.4, recurrent_dropout=0.2)\n",
        "decoder_lstm = LSTM(hidden_size, return_sequences=True, return_state=True, dropout=0.4)\n",
        "decoder_outputs, _, _ = decoder_lstm(dec_emb, initial_state=[state_h, state_c])"
      ],
      "metadata": {
        "id": "_H4WL8-yUzVw"
      },
      "execution_count": 283,
      "outputs": []
    },
    {
      "cell_type": "markdown",
      "metadata": {
        "id": "SZOiYN61d-Z4"
      },
      "source": [
        "# 디코더 출력층설계: 디코더의 출력층은 마지막 출력이므로 soft맥스로 항등함수로 내뱉어주므로 층을 깊게할 필요없다고 생각해 층수를 총 2개만 구현해주었다."
      ]
    },
    {
      "cell_type": "code",
      "source": [
        "# 디코더의 출력층\n",
        "decoder_softmax_layer = Dense(tar_vocab, activation='softmax')\n",
        "decoder_softmax_outputs = decoder_softmax_layer(decoder_outputs) \n",
        "\n",
        "# 모델 정의\n",
        "model = Model([encoder_inputs, decoder_inputs], decoder_softmax_outputs)\n",
        "model.summary()"
      ],
      "metadata": {
        "colab": {
          "base_uri": "https://localhost:8080/"
        },
        "id": "9ni8ZDQzU0Pp",
        "outputId": "8a10bc04-8560-4da6-a867-e6c42aee63fd"
      },
      "execution_count": 284,
      "outputs": [
        {
          "output_type": "stream",
          "name": "stdout",
          "text": [
            "Model: \"model_20\"\n",
            "__________________________________________________________________________________________________\n",
            " Layer (type)                   Output Shape         Param #     Connected to                     \n",
            "==================================================================================================\n",
            " input_26 (InputLayer)          [(None, 41)]         0           []                               \n",
            "                                                                                                  \n",
            " embedding_10 (Embedding)       (None, 41, 128)      2560000     ['input_26[0][0]']               \n",
            "                                                                                                  \n",
            " lstm_20 (LSTM)                 [(None, 41, 256),    394240      ['embedding_10[0][0]']           \n",
            "                                 (None, 256),                                                     \n",
            "                                 (None, 256)]                                                     \n",
            "                                                                                                  \n",
            " input_27 (InputLayer)          [(None, None)]       0           []                               \n",
            "                                                                                                  \n",
            " lstm_21 (LSTM)                 [(None, 41, 256),    525312      ['lstm_20[0][0]']                \n",
            "                                 (None, 256),                                                     \n",
            "                                 (None, 256)]                                                     \n",
            "                                                                                                  \n",
            " embedding_11 (Embedding)       (None, None, 128)    1152000     ['input_27[0][0]']               \n",
            "                                                                                                  \n",
            " lstm_22 (LSTM)                 [(None, 41, 256),    525312      ['lstm_21[0][0]']                \n",
            "                                 (None, 256),                                                     \n",
            "                                 (None, 256)]                                                     \n",
            "                                                                                                  \n",
            " lstm_23 (LSTM)                 [(None, None, 256),  394240      ['embedding_11[0][0]',           \n",
            "                                 (None, 256),                     'lstm_22[0][1]',                \n",
            "                                 (None, 256)]                     'lstm_22[0][2]']                \n",
            "                                                                                                  \n",
            " dense_10 (Dense)               (None, None, 9000)   2313000     ['lstm_23[0][0]']                \n",
            "                                                                                                  \n",
            "==================================================================================================\n",
            "Total params: 7,864,104\n",
            "Trainable params: 7,864,104\n",
            "Non-trainable params: 0\n",
            "__________________________________________________________________________________________________\n"
          ]
        }
      ]
    },
    {
      "cell_type": "markdown",
      "metadata": {
        "id": "hd24_JxRfY8y"
      },
      "source": [
        "## 이제 어텐션 층을 만들어서 디코더의 출력층을 수정해도록하자."
      ]
    },
    {
      "cell_type": "code",
      "source": [
        "from tensorflow.keras.layers import AdditiveAttention\n",
        "\n",
        "# 어텐션 층(어텐션 함수)\n",
        "attn_layer = AdditiveAttention(name='attention_layer')\n",
        "\n",
        "# 인코더와 디코더의 모든 time step의 hidden state를 어텐션 층에 전달하고 결과를 리턴\n",
        "attn_out = attn_layer([decoder_outputs, encoder_outputs])\n",
        "\n",
        "\n",
        "# 어텐션의 결과와 디코더의 hidden state들을 연결\n",
        "decoder_concat_input = Concatenate(axis=-1, name='concat_layer')([decoder_outputs, attn_out])\n",
        "\n",
        "# 디코더의 출력층\n",
        "decoder_softmax_layer = Dense(tar_vocab, activation='softmax')\n",
        "decoder_softmax_outputs = decoder_softmax_layer(decoder_concat_input)\n",
        "\n",
        "# 모델 정의\n",
        "model = Model([encoder_inputs, decoder_inputs], decoder_softmax_outputs)\n",
        "model.summary()"
      ],
      "metadata": {
        "colab": {
          "base_uri": "https://localhost:8080/"
        },
        "id": "wDjVd46YU1V9",
        "outputId": "4cfc079b-b9f8-4f3e-b726-79f5777411c3"
      },
      "execution_count": 285,
      "outputs": [
        {
          "output_type": "stream",
          "name": "stdout",
          "text": [
            "Model: \"model_21\"\n",
            "__________________________________________________________________________________________________\n",
            " Layer (type)                   Output Shape         Param #     Connected to                     \n",
            "==================================================================================================\n",
            " input_26 (InputLayer)          [(None, 41)]         0           []                               \n",
            "                                                                                                  \n",
            " embedding_10 (Embedding)       (None, 41, 128)      2560000     ['input_26[0][0]']               \n",
            "                                                                                                  \n",
            " lstm_20 (LSTM)                 [(None, 41, 256),    394240      ['embedding_10[0][0]']           \n",
            "                                 (None, 256),                                                     \n",
            "                                 (None, 256)]                                                     \n",
            "                                                                                                  \n",
            " input_27 (InputLayer)          [(None, None)]       0           []                               \n",
            "                                                                                                  \n",
            " lstm_21 (LSTM)                 [(None, 41, 256),    525312      ['lstm_20[0][0]']                \n",
            "                                 (None, 256),                                                     \n",
            "                                 (None, 256)]                                                     \n",
            "                                                                                                  \n",
            " embedding_11 (Embedding)       (None, None, 128)    1152000     ['input_27[0][0]']               \n",
            "                                                                                                  \n",
            " lstm_22 (LSTM)                 [(None, 41, 256),    525312      ['lstm_21[0][0]']                \n",
            "                                 (None, 256),                                                     \n",
            "                                 (None, 256)]                                                     \n",
            "                                                                                                  \n",
            " lstm_23 (LSTM)                 [(None, None, 256),  394240      ['embedding_11[0][0]',           \n",
            "                                 (None, 256),                     'lstm_22[0][1]',                \n",
            "                                 (None, 256)]                     'lstm_22[0][2]']                \n",
            "                                                                                                  \n",
            " attention_layer (AdditiveAtten  (None, None, 256)   256         ['lstm_23[0][0]',                \n",
            " tion)                                                            'lstm_22[0][0]']                \n",
            "                                                                                                  \n",
            " concat_layer (Concatenate)     (None, None, 512)    0           ['lstm_23[0][0]',                \n",
            "                                                                  'attention_layer[0][0]']        \n",
            "                                                                                                  \n",
            " dense_11 (Dense)               (None, None, 9000)   4617000     ['concat_layer[0][0]']           \n",
            "                                                                                                  \n",
            "==================================================================================================\n",
            "Total params: 10,168,360\n",
            "Trainable params: 10,168,360\n",
            "Non-trainable params: 0\n",
            "__________________________________________________________________________________________________\n"
          ]
        }
      ]
    },
    {
      "cell_type": "markdown",
      "metadata": {
        "id": "9odyT0GEghmJ"
      },
      "source": [
        "## 이제 모델을 훈련시켜보자. early stopping을 통해 특정조건이되면 훈련을 멈추게 해주었다."
      ]
    },
    {
      "cell_type": "code",
      "source": [
        "model.compile(optimizer='rmsprop', loss='sparse_categorical_crossentropy')\n",
        "es = EarlyStopping(monitor='val_loss', patience=2, verbose=1)\n",
        "history = model.fit(x=[encoder_input_train, decoder_input_train], y=decoder_target_train, \\\n",
        "          validation_data=([encoder_input_test, decoder_input_test], decoder_target_test), \\\n",
        "          batch_size=256, callbacks=[es], epochs=20)"
      ],
      "metadata": {
        "colab": {
          "base_uri": "https://localhost:8080/"
        },
        "id": "JE-WAR-OU13L",
        "outputId": "0ccb056a-c012-4c2e-d9f0-eb669c26260f"
      },
      "execution_count": 286,
      "outputs": [
        {
          "output_type": "stream",
          "name": "stdout",
          "text": [
            "Epoch 1/20\n",
            "291/291 [==============================] - 25s 69ms/step - loss: 5.5010 - val_loss: 5.2680\n",
            "Epoch 2/20\n",
            "291/291 [==============================] - 19s 65ms/step - loss: 5.1648 - val_loss: 5.0541\n",
            "Epoch 3/20\n",
            "291/291 [==============================] - 19s 64ms/step - loss: 5.0471 - val_loss: 4.9425\n",
            "Epoch 4/20\n",
            "291/291 [==============================] - 19s 64ms/step - loss: 4.9069 - val_loss: 4.7970\n",
            "Epoch 5/20\n",
            "291/291 [==============================] - 19s 65ms/step - loss: 4.6816 - val_loss: 4.5904\n",
            "Epoch 6/20\n",
            "291/291 [==============================] - 19s 65ms/step - loss: 4.4329 - val_loss: 4.3621\n",
            "Epoch 7/20\n",
            "291/291 [==============================] - 19s 64ms/step - loss: 4.2235 - val_loss: 4.2226\n",
            "Epoch 8/20\n",
            "291/291 [==============================] - 19s 65ms/step - loss: 4.0500 - val_loss: 4.0948\n",
            "Epoch 9/20\n",
            "291/291 [==============================] - 19s 64ms/step - loss: 3.8901 - val_loss: 4.3862\n",
            "Epoch 10/20\n",
            "291/291 [==============================] - 19s 64ms/step - loss: 3.7515 - val_loss: 3.9120\n",
            "Epoch 11/20\n",
            "291/291 [==============================] - 19s 65ms/step - loss: 3.6224 - val_loss: 3.8167\n",
            "Epoch 12/20\n",
            "291/291 [==============================] - 19s 64ms/step - loss: 3.5094 - val_loss: 3.7561\n",
            "Epoch 13/20\n",
            "291/291 [==============================] - 19s 64ms/step - loss: 3.4092 - val_loss: 3.7061\n",
            "Epoch 14/20\n",
            "291/291 [==============================] - 19s 64ms/step - loss: 3.3190 - val_loss: 3.6825\n",
            "Epoch 15/20\n",
            "291/291 [==============================] - 19s 64ms/step - loss: 3.2348 - val_loss: 3.6490\n",
            "Epoch 16/20\n",
            "291/291 [==============================] - 19s 64ms/step - loss: 3.1611 - val_loss: 3.6111\n",
            "Epoch 17/20\n",
            "291/291 [==============================] - 19s 64ms/step - loss: 3.0939 - val_loss: 3.6069\n",
            "Epoch 18/20\n",
            "291/291 [==============================] - 19s 65ms/step - loss: 3.0322 - val_loss: 3.5795\n",
            "Epoch 19/20\n",
            "291/291 [==============================] - 19s 64ms/step - loss: 2.9712 - val_loss: 3.5588\n",
            "Epoch 20/20\n",
            "291/291 [==============================] - 19s 64ms/step - loss: 2.9178 - val_loss: 3.5426\n"
          ]
        }
      ]
    },
    {
      "cell_type": "code",
      "source": [
        "plt.plot(history.history['loss'], label='train')\n",
        "plt.plot(history.history['val_loss'], label='test')\n",
        "plt.legend()\n",
        "plt.show()"
      ],
      "metadata": {
        "colab": {
          "base_uri": "https://localhost:8080/",
          "height": 265
        },
        "id": "5_OEbhmsU3BX",
        "outputId": "d6d85317-6cb7-4ace-fd6c-2904a53a8aa7"
      },
      "execution_count": 287,
      "outputs": [
        {
          "output_type": "display_data",
          "data": {
            "text/plain": [
              "<Figure size 432x288 with 1 Axes>"
            ],
            "image/png": "[encoded data removed]"
          },
          "metadata": {
            "needs_background": "light"
          }
        }
      ]
    },
    {
      "cell_type": "markdown",
      "source": [
        "## 이제 테스트 결과를 눈으로 보자 그러기위해선 인퍼러스 모델을 구현해줘야한다."
      ],
      "metadata": {
        "id": "JBxM86X9vXA-"
      }
    },
    {
      "cell_type": "code",
      "execution_count": 288,
      "metadata": {
        "id": "G9a8fLh0HkN1"
      },
      "outputs": [],
      "source": [
        "src_index_to_word = src_tokenizer.index_word # 원문 단어 집합에서 정수 -> 단어를 얻음\n",
        "tar_word_to_index = tar_tokenizer.word_index # 요약 단어 집합에서 단어 -> 정수를 얻음\n",
        "tar_index_to_word = tar_tokenizer.index_word"
      ]
    },
    {
      "cell_type": "code",
      "execution_count": 289,
      "metadata": {
        "id": "Smq-NU3-Iygw"
      },
      "outputs": [],
      "source": [
        "encoder_model = Model(inputs=encoder_inputs, outputs=[encoder_outputs, state_h, state_c])\n",
        "\n",
        "# 이전 시점의 상태들을 저장하는 텐서\n",
        "decoder_state_input_h = Input(shape=(hidden_size,))\n",
        "decoder_state_input_c = Input(shape=(hidden_size,))\n",
        "\n",
        "dec_emb2 = dec_emb_layer(decoder_inputs)\n",
        "\n",
        "# 문장의 다음 단어를 예측하기 위해서 초기 상태(initial_state)를 이전 시점의 상태로 사용. 이는 뒤의 함수 decode_sequence()에 구현\n",
        "# 훈련 과정에서와 달리 LSTM의 리턴하는 은닉 상태와 셀 상태인 state_h와 state_c를 버리지 않음.\n",
        "decoder_outputs2, state_h2, state_c2 = decoder_lstm(dec_emb2, initial_state=[decoder_state_input_h, decoder_state_input_c])\n"
      ]
    },
    {
      "cell_type": "code",
      "execution_count": 290,
      "metadata": {
        "id": "GqzcKgDgI1Fl"
      },
      "outputs": [],
      "source": [
        "decoder_hidden_state_input = Input(shape=(text_max_len, hidden_size))\n",
        "attn_out_inf = attn_layer([decoder_outputs2, decoder_hidden_state_input])\n",
        "decoder_inf_concat = Concatenate(axis=-1, name='concat')([decoder_outputs2, attn_out_inf])\n",
        "\n",
        "# 디코더의 출력층\n",
        "decoder_outputs2 = decoder_softmax_layer(decoder_inf_concat) \n",
        "\n",
        "# 최종 디코더 모델\n",
        "decoder_model = Model(\n",
        "    [decoder_inputs] + [decoder_hidden_state_input,decoder_state_input_h, decoder_state_input_c],\n",
        "    [decoder_outputs2] + [state_h2, state_c2])"
      ]
    },
    {
      "cell_type": "code",
      "execution_count": 294,
      "metadata": {
        "id": "RHnH97XhI3-p"
      },
      "outputs": [],
      "source": [
        "def decode_sequence(input_seq):\n",
        "    # 입력으로부터 인코더의 상태를 얻음\n",
        "    e_out, e_h, e_c = encoder_model.predict(input_seq)\n",
        "\n",
        "     # <SOS>에 해당하는 토큰 생성\n",
        "    target_seq = np.zeros((1,1))\n",
        "    target_seq[0, 0] = tar_word_to_index['sostoken']\n",
        "\n",
        "    stop_condition = False\n",
        "    decoded_sentence = ''\n",
        "    while not stop_condition: # stop_condition이 True가 될 때까지 루프 반복\n",
        "\n",
        "        output_tokens, h, c = decoder_model.predict([target_seq] + [e_out, e_h, e_c])\n",
        "        sampled_token_index = np.argmax(output_tokens[0, -1, :])\n",
        "        sampled_token = tar_index_to_word[sampled_token_index]\n",
        "\n",
        "        if (sampled_token!='eostoken'):\n",
        "            decoded_sentence += ' '+sampled_token\n",
        "\n",
        "        #  <eos>에 도달하거나 최대 길이를 넘으면 중단.\n",
        "        if (sampled_token == 'eostoken'  or len(decoded_sentence.split()) >= (headlines_max_len-1)):\n",
        "            stop_condition = True\n",
        "\n",
        "        # 길이가 1인 타겟 시퀀스를 업데이트\n",
        "        target_seq = np.zeros((1,1))\n",
        "        target_seq[0, 0] = sampled_token_index\n",
        "\n",
        "        # 상태를 업데이트 합니다.\n",
        "        e_h, e_c = h, c\n",
        "\n",
        "    return decoded_sentence\n"
      ]
    },
    {
      "cell_type": "code",
      "execution_count": 295,
      "metadata": {
        "id": "pSzbRqcpI-KN"
      },
      "outputs": [],
      "source": [
        "def seq2text(input_seq):\n",
        "    temp=''\n",
        "    for i in input_seq:\n",
        "        if (i!=0):\n",
        "            temp = temp + src_index_to_word[i]+' '\n",
        "    return temp\n",
        "\n",
        "# 요약문의 정수 시퀀스를 텍스트 시퀀스로 변환\n",
        "def seq2summary(input_seq):\n",
        "    temp=''\n",
        "    for i in input_seq:\n",
        "        if ((i!=0 and i!=tar_word_to_index['sostoken']) and i!=tar_word_to_index['eostoken']):\n",
        "            temp = temp + tar_index_to_word[i] + ' '\n",
        "    return temp\n",
        "\n"
      ]
    },
    {
      "cell_type": "code",
      "execution_count": 293,
      "metadata": {
        "colab": {
          "base_uri": "https://localhost:8080/"
        },
        "id": "CCEGWRPQJBR-",
        "outputId": "8be6c9a1-5a8c-4645-9e4e-845bc63bdf62"
      },
      "outputs": [
        {
          "output_type": "stream",
          "name": "stdout",
          "text": [
            "원문 : apple co founder steve wozniak interview tuesday said believe self driving cars adding really believe quite possible yet said kept upgrading tesla car gave idea autonomous driving said really going happen added \n",
            "실제 요약 : do not believe in self driving cars apple co founder wozniak \n",
            "예측 요약 :  apple is driving cars is the cars is driving ceo musk\n",
            "\n",
            "\n",
            "원문 : two women constables sunday helped year old woman give birth twins onboard visakhapatnam express station mumbai constables attended woman receiving information labour pain travelling family woman infants taken hospital treatment care \n",
            "실제 요약 : cops help woman deliver twins onboard train in mumbai \n",
            "예측 요약 :  woman gives birth to save woman from her birth in mumbai\n",
            "\n",
            "\n",
            "원문 : floating mcdonald restaurant located west coast canada built showcase future architecture technology world fair expo named restaurant constructed estimated cost crore left abandoned years however plans eatery announced \n",
            "실제 요약 : floating mcdonald in canada has been abandoned for yrs \n",
            "예측 요약 :  video shows how much the wall in the world is it\n",
            "\n",
            "\n",
            "원문 : audi testing vehicle caught fire week tested austria photos burning car show pulling trailer reportedly part capability test according reports car driver tried put flames fire extinguisher car destroyed minutes \n",
            "실제 요약 : audi car catches fire during testing \n",
            "예측 요약 :  car to lift car as car in car in us cave\n",
            "\n",
            "\n",
            "원문 : researchers german research laboratory developed sensor driven electronic skin enable users control objects appliances gestures thin foil sticks palm hand allows users control virtual physical objects using magnetic fields sensors also withstand bending folding stretching without losing functionality \n",
            "실제 요약 : electronic skin which lets users control objects developed \n",
            "예측 요약 :  mit team develops ai that can let users use for users\n",
            "\n",
            "\n",
            "원문 : reacting rcb ab de villiers one handed catch body metres ground user tweeted ab de villiers human repeat human tweets read even forces gravity bow ab de villiers dear indian police need someone catch criminals still india \n",
            "실제 요약 : not human tweets user on abd one handed catch \n",
            "예측 요약 :  am not the world best player tweets user on his death\n",
            "\n",
            "\n",
            "원문 : american sitcom south park recent episode slammed facebook ceo mark zuckerberg fake news platform character episode says facebook become tool disrupt community zuckerberg replies saying fault zuckerberg created facebook monetary incentives spread misinformation another character added \n",
            "실제 요약 : south park slams facebook zuckerberg over fake news \n",
            "예측 요약 :  fb to take news on social media news on fb report\n",
            "\n",
            "\n",
            "원문 : former world number one serena williams recently became mother baby girl return competitive tennis fed cup north carolina serena represent united states begin title defence netherlands lot ups downs practice williams said ahead return \n",
            "실제 요약 : serena williams to make comeback at fed cup \n",
            "예측 요약 :  serena williams to miss world cup final for first time since\n",
            "\n",
            "\n",
            "원문 : right access facebook accounts deceased relatives german court ruled thursday court hearing case mother year old deceased could access daughter facebook account company locked citing privacy reasons social media account inherited like letters court said \n",
            "실제 요약 : parents to access dead daughter fb german court \n",
            "예측 요약 :  facebook to be hacked to death of people in uk govt\n",
            "\n",
            "\n",
            "원문 : india elected united nations human rights council friday period three years beginning january india received votes highest countries elected voting member general assembly notably minimum votes needed get elected council \n",
            "실제 요약 : india wins seat to un human rights council with highest votes \n",
            "예측 요약 :  india st un to un council to un on un report\n",
            "\n",
            "\n",
            "원문 : commenting us president donald trump attempts comments made summit russian president vladimir putin german foreign minister said us allies demanded minimum degree reliability trump extremely difficult craft policies information facts half life hours added \n",
            "실제 요약 : allies ask minimum degree of from trump germany \n",
            "예측 요약 :  putin will not be putin if he is not putin trump\n",
            "\n",
            "\n",
            "원문 : author aaron took twitter share picture resume created using google resume lists address live alone contact phone turn needed update cv google soon every job wrote twitter \n",
            "실제 요약 : man creates his resume using google \n",
            "예측 요약 :  google google to live on tv show on social media trump\n",
            "\n",
            "\n",
            "원문 : us state department said assured white house plans oust state secretary rex tillerson replace cia director mike pompeo terming reports replacement rumours department said remains committed job serve pleasure president \n",
            "실제 요약 : us state dept denies reports of secy tillerson replacement \n",
            "예측 요약 :  us secy secy to be forced to leave us state secy\n",
            "\n",
            "\n",
            "원문 : actor tiger shroff talking reports hrithik roshan disha patani said silly rumour added hrithik sir every star faces limelight become easy target know well nothing like tiger rumoured dating disha \n",
            "실제 요약 : very silly rumour tiger on reports of hrithik with disha \n",
            "예측 요약 :  tiger is not the first ever tiger tiger on tiger tiger\n",
            "\n",
            "\n",
            "원문 : citing newspaper reports state pm narendra modi raise issue us president donald trump congress vice president rahul gandhi wednesday tweeted india weak pm gandhi also shared report ministry external affairs appeared issue usage indian administered jammu kashmir us \n",
            "실제 요약 : narendra modi is weak prime minister rahul gandhi \n",
            "예측 요약 :  pm modi to be india in india for india pm modi\n",
            "\n",
            "\n",
            "원문 : speeding tank parade rehearsal capital road hitting tree video footage shows tank accelerating wet spinning degrees knocking defense ministry said heavy rain wet ground caused tank slip \n",
            "실제 요약 : speeding tank gets out of control hits in \n",
            "예측 요약 :  fire as people falls on fire at home in us village\n",
            "\n",
            "\n",
            "원문 : death toll landslide occurred garbage dump sri lanka friday risen according reports adding houses damaged police said investigating whether landslide natural man made emergency workers continue search survivors buried mud debris \n",
            "실제 요약 : death toll in sri lanka garbage dump landslide rises to \n",
            "예측 요약 :  death toll in goa floods rises to death in sri lanka\n",
            "\n",
            "\n",
            "원문 : web based bug crashes ios operating system used iphones ipads found security researcher exploited loading page uses specially crafted code containing ton elements elements use device resources causing shut restart prevent damage \n",
            "실제 요약 : bug that crashes and iphones and found \n",
            "예측 요약 :  microsoft to let users users check on phone in its app\n",
            "\n",
            "\n",
            "원문 : family late flight attendant neerja whose life sonam kapoor starrer neerja based moved high court accusing film makers criminal conspiracy profit sharing neerja family accused makers sharing film net profit fixed compensation lakh agreed upon earlier \n",
            "실제 요약 : kin moves hc accusing makers of criminal conspiracy \n",
            "예측 요약 :  sridevi may be part of the film on flight for yrs\n",
            "\n",
            "\n",
            "원문 : per reports television show host comedian kapil sharma likely take break television kapil sharma show completely revamped source quoted saying current format run course sunil grover ali asgar departure bharati singh chandan prabhakar entry issue \n",
            "실제 요약 : kapil to take break from tv his show to be report \n",
            "예측 요약 :  kapil show to show kapil show show of his next season\n",
            "\n",
            "\n",
            "원문 : indian team trailing runs reduced end second day fifth test oval saturday earlier day ravindra jadeja finished figures helping india dismiss england jos buttler scoring jasprit bumrah ishant sharma picked three wickets \n",
            "실제 요약 : india trail by runs at the end of day of th test \n",
            "예측 요약 :  pujara pujara to be in the test for the first time\n",
            "\n",
            "\n",
            "원문 : chris pratt used sign language apologise hearing impaired fans insensitive post social media posted video recently subtitles requested people turn volume read subtitles added realise incredibly insensitive many folks depend subtitles \n",
            "실제 요약 : chris uses sign language in apology to hearing impaired fans \n",
            "예측 요약 :  fans say they are the the same player in the match\n",
            "\n",
            "\n",
            "원문 : gorkha janmukti morcha given centre days intervene ongoing agitation separate state gorkhaland failing threatened intensify protests indefinite shutdown going last days centre cannot sit idle hills burning gjm leaders said \n",
            "실제 요약 : gorkhaland protestors give centre days to \n",
            "예측 요약 :  govt asks govt to give to give to give to land\n",
            "\n",
            "\n",
            "원문 : american rapper kanye west wednesday took twitter share photo facebook billionaire ceo mark zuckerberg together sang boys want way year old captioned tweet despite rapper sharing picture many fans responded tweet demanding video evidence duo singing \n",
            "실제 요약 : kanye zuckerberg sing boys during session \n",
            "예측 요약 :  we have been the best person tweets user on fb death\n",
            "\n",
            "\n",
            "원문 : ahead press conference one belt one road forum china czech president joked russian president vladimir putin journalists many conference smiling czech president putin said maybe make redundant \n",
            "실제 요약 : czech president jokes about journalists \n",
            "예측 요약 :  to us to honour to honour to honour us prez putin\n",
            "\n",
            "\n",
            "원문 : jet airways flight attendant praised online saving life passenger suffered cardiac arrest recent bengaluru delhi flight jet airways said flight attendant took details medical history patient gave medication oxygen twitter user said heroes wear wear uniforms \n",
            "실제 요약 : flight attendant saves flyer who suffered cardiac arrest \n",
            "예측 요약 :  jet airways pilot who asked to pay to passenger on flight\n",
            "\n",
            "\n",
            "원문 : union minister arun jaitley told delhi high court filed civil defamation case arvind kejriwal made allegations personal integrity family questioned filing cases congress leaders levelled similar allegations jaitley said assess caused significant damage reputation \n",
            "실제 요약 : kejriwal made allegations against me family jaitley to hc \n",
            "예측 요약 :  do not know what it is it is not it sc\n",
            "\n",
            "\n",
            "원문 : upcoming eleventh season coke studio pakistan featuring two transgender singers revealed promo released monday shows two transgender singers singing lines jo main bhi hun aur tum bhi ho promo features musical ahmed poem hum \n",
            "실제 요약 : coke studio pak season to feature transgender singers \n",
            "예측 요약 :  pak to get married to the first time in the year\n",
            "\n",
            "\n",
            "원문 : nearly bills last years passed without debates parliament according report also revealed bills passed last three hours session number mps doctorate post doctorate post graduate degrees also declined last years \n",
            "실제 요약 : parliament passed bills without debate in last yrs \n",
            "예측 요약 :  no plans to collect out of the year in next yrs\n",
            "\n",
            "\n",
            "원문 : south delhi municipal corporation monday demolished makeshift shelter year old ragpicker devi housed daily fed stray dogs civic officials said received complaints devi public land distributing drugs among minor however several animal rights activists ngos shelter tuesday \n",
            "실제 요약 : delhi civic body shelter of woman who fed stray dogs \n",
            "예측 요약 :  delhi cops to get blue whale in days after fire case\n",
            "\n",
            "\n",
            "원문 : doctors laxmi bai medical college uttar pradesh jhansi allegedly used road accident victim amputated leg pillow state government ordered probe incident hospital initiated departmental proceedings consultant call doctor victim lost leg school bus overturned \n",
            "실제 요약 : doctors use man leg as at hospital in up \n",
            "예측 요약 :  taka govt hospital found in hospital after being denied treatment in\n",
            "\n",
            "\n",
            "원문 : following protest opposition assam recently released national register citizens draft bjp president amit shah said want save want save bangladeshi infiltrators nrc exercise identify illegal migrants living assam saw crore residents applying inclusion lakh rejected \n",
            "실제 요약 : you want to save bangladeshi shah asks opp \n",
            "예측 요약 :  bjp leader calls for bjp leaders in wb for state issue\n",
            "\n",
            "\n",
            "원문 : mob attacked woman near slaughter house saturday reported police cattle illegally transported slaughter bengaluru woman said reached slaughter house police falsely told policemen present woman added approach senior officials regarding police officials information \n",
            "실제 요약 : woman attacked for reporting illegal cattle \n",
            "예측 요약 :  man who went to fire at home in up in up\n",
            "\n",
            "\n",
            "원문 : david warner wife candice revealed suffered miscarriage days australian cricketer handed one year ban ball tampering scandal held one another cried miscarriage heartbreaking end horror tour said candice two daughters david wonder came feel added \n",
            "실제 요약 : warner wife suffered after ball tampering row \n",
            "예측 요약 :  warner wife was hit by wife in his life in years\n",
            "\n",
            "\n",
            "원문 : facebook data scandal linked firm cambridge analytica ceo alexander nix suspended filmed offering bribes using sex workers politicians video nix found saying could send girls around candidate house also suggested could offer candidates bribes record post internet \n",
            "실제 요약 : fb data scandal linked firm suspends ceo for offering bribes \n",
            "예측 요약 :  fb to testify on fb data scandal linked to testify report\n",
            "\n",
            "\n",
            "원문 : goods services tax council saturday exempted gst supply services old age home earlier value limit footwear enhanced rate council also brought video games gst slab rate \n",
            "실제 요약 : supply of services by old age home exempted from gst \n",
            "예측 요약 :  gst will be cheaper by gst on gst rates by gst\n",
            "\n",
            "\n",
            "원문 : cameron tyler twins claimed mark zuckerberg stole idea facebook believed become world first bitcoin billionaires pair received million settlement facebook used million money invest bitcoin since cryptocurrency surged almost making year old brothers billionaires \n",
            "실제 요약 : twins who sued facebook become world st bitcoin billionaires \n",
            "예측 요약 :  facebook to sell bn for bn in yr old bn case\n",
            "\n",
            "\n",
            "원문 : taking dig pm narendra modi fitness video samajwadi party leader azam khan said busy soldiers getting killed adding soldiers journalists students innocent people getting murdered khan said fit desh unfit pm modi fitness video response challenge cricketer virat kohli \n",
            "실제 요약 : pm modi busy doing while jawans get killed sp leader \n",
            "예측 요약 :  pm modi is no attack on surgical strikes ex pm modi\n",
            "\n",
            "\n",
            "원문 : ministry finance extended deadline filing income tax returns august categories taxpayers file returns july last assessment year penalty filing belated income tax returns penalty applicable year onwards \n",
            "실제 요약 : income tax return filing deadline extended to august \n",
            "예측 요약 :  tax on deadline to be returns by pan for tax returns\n",
            "\n",
            "\n",
            "원문 : reigning champions vidarbha beat uttarakhand innings runs ranji trophy quarterfinal nagpur saturday indian pacer umesh yadav left arm bowler aditya grabbed five wickets last innings help vidarbha register win yadav picked nine wickets game adjudged player match \n",
            "실제 요약 : vidarbha beat uttarakhand to reach ranji trophy semis \n",
            "예측 요약 :  wickets in ranji match as no innings in the test match\n",
            "\n",
            "\n",
            "원문 : kiran kumar year old vijayawada reportedly stabbed death tuesday hit woman ball playing cricket local ground woman son picked quarrel kiran ball hit kiran apologised woman son stabbed chest ran away \n",
            "실제 요약 : youth stabbed to death over cricket ball hitting woman \n",
            "예측 요약 :  yr old kills self after being hit by ball in bihar\n",
            "\n",
            "\n",
            "원문 : video imam reciting evening prayers bali indonesia magnitude earthquake struck neighbouring island gone viral footage shows imam supporting wall room violently worshippers flee imam said believed life god take \n",
            "실제 요약 : video indonesian imam continues prayers during earthquake \n",
            "예측 요약 :  man who hit by people in indonesia for st time in\n",
            "\n",
            "\n",
            "원문 : massive fire broke rubber factory warehouse delhi malviya nagar tuesday evening hours police suspect truck loaded rubber material parked near warehouse caught fire spread factory due strong winds official said plastic raw material factory fuelled fire \n",
            "실제 요약 : what caused delhi massive fire why has it been on for hrs \n",
            "예측 요약 :  fire breaks out of fire at fire at delhi airport home\n",
            "\n",
            "\n",
            "원문 : australia tuesday defeated india second test perth runs end six match winless streak level four match series australia lost five drawn one previous six matches last test march year victory australia first captaincy tim paine \n",
            "실제 요약 : aus beat india to end their test streak level series \n",
            "예측 요약 :  india defeat sa to win their biggest series in test series\n",
            "\n",
            "\n",
            "원문 : esha student noida university monday became uk high commissioner india day video presentation contest held celebrate international day girl child among contestants submitted videos gender equality mean sir dominic temporarily became deputy high commissioner \n",
            "실제 요약 : girl wins contest to become uk top diplomat to india for day \n",
            "예측 요약 :  du student who fought for india to school india in india\n",
            "\n",
            "\n",
            "원문 : uttar pradesh cm yogi adityanath said everyone respect religious sentiments aimim chief asaduddin owaisi said nation governed according constitution sentiments adding governance based sentiments majority minority communities cause anarchy said cm yogi understand indians including muslims right life \n",
            "실제 요약 : india should not be by owaisi to cm yogi \n",
            "예측 요약 :  hindus will not be part of hindus muslims up cm yogi\n",
            "\n",
            "\n",
            "원문 : cbi court tuesday rejected discharge application filed accused including lk advani uma bharti babri mosque demolition case ruled face criminal conspiracy charges leaders pleaded drop charges saying role demolition babri masjid \n",
            "실제 요약 : advani uma bharti to face charges in babri case \n",
            "예측 요약 :  cbi chief to probe plea against alok nath in defamation case\n",
            "\n",
            "\n",
            "원문 : istanbul rk airport main airport turkish city temporarily closed thursday private jet burst flames crashing onto main runway emergency landing plane carrying four turkish citizens survived crash minor injuries flights delayed following incident airport \n",
            "실제 요약 : main airport shuts as plane crashes onto runway \n",
            "예측 요약 :  plane to fly on airport to airport on flights in airport\n",
            "\n",
            "\n",
            "원문 : facebook highest bidder digital broadcasting rights indian premier league indian subcontinent bidding million duration five years however star india bagged worldwide media rights tv digital broadcast bidding billion single consolidated bid auction monday \n",
            "실제 요약 : facebook highest for ipl digital broadcast in india \n",
            "예측 요약 :  whatsapp to earn bn in ipl opener for st time ever\n",
            "\n",
            "\n",
            "원문 : indian cricketer mahendra singh dhoni national cricket academy bengaluru fitness camp shared social media ran metres seconds sharing results dhoni wrote tests done sec run done sec time heavy lunch \n",
            "실제 요약 : ms dhoni runs metres in seconds passes fitness test \n",
            "예측 요약 :  ms dhoni was the most expensive player in the world cup\n",
            "\n",
            "\n"
          ]
        }
      ],
      "source": [
        "for i in range(50, 100):\n",
        "    print(\"원문 :\", seq2text(encoder_input_test[i]))\n",
        "    print(\"실제 요약 :\", seq2summary(decoder_input_test[i]))\n",
        "    print(\"예측 요약 :\", decode_sequence(encoder_input_test[i].reshape(1, text_max_len)))\n",
        "    print(\"\\n\")"
      ]
    },
    {
      "cell_type": "markdown",
      "source": [
        "## 나쁘지않은것같다. 실제 요약에 나오는 단어들이 예측요약에 나오는걸로봐선 그래도 꽤 괜찮은 모델인것같다. 하지만 추상적이라 그런지 그렇게 정확하진않아보인다.\n",
        "## 이제 추상적인모델말고 추출적모델을 써보자. 추출적 모델은 추상적 모델링보다 구현하기 훨씬쉽다. 일단summa를 임포트해오자."
      ],
      "metadata": {
        "id": "waFlaaR1vmZh"
      }
    },
    {
      "cell_type": "code",
      "source": [
        "import urllib.request\n",
        "urllib.request.urlretrieve(\"https://raw.githubusercontent.com/sunnysai12345/News_Summary/master/news_summary_more.csv\", filename=\"news_summary_more.csv\")\n",
        "data = pd.read_csv('news_summary_more.csv', encoding='iso-8859-1')"
      ],
      "metadata": {
        "id": "vALYX4aWw__E"
      },
      "execution_count": 317,
      "outputs": []
    },
    {
      "cell_type": "code",
      "source": [
        "import requests\n",
        "from summa.summarizer import summarize"
      ],
      "metadata": {
        "id": "1jjh0jnzv2F9"
      },
      "execution_count": 318,
      "outputs": []
    },
    {
      "cell_type": "code",
      "source": [
        "text_str = data['text'][200]\n",
        "print(summarize(text_str, ratio=0.5))"
      ],
      "metadata": {
        "colab": {
          "base_uri": "https://localhost:8080/"
        },
        "id": "i00n0zLKwdIy",
        "outputId": "68c9edce-1429-432d-aaac-ef5d070196af"
      },
      "execution_count": 319,
      "outputs": [
        {
          "output_type": "stream",
          "name": "stdout",
          "text": [
            "Australia's wicketkeeper-batswoman Alyssa Healy has said that the Australian team needs to be wary of India's women's T20I team captain Harmanpreet Kaur at the ICC Women's T20 World Cup next year.\n"
          ]
        }
      ]
    },
    {
      "cell_type": "code",
      "source": [
        "text_str = data['text'][100]\n",
        "print(summarize(text_str, ratio=0.6))"
      ],
      "metadata": {
        "colab": {
          "base_uri": "https://localhost:8080/"
        },
        "id": "zAV-FgGVwkr5",
        "outputId": "8ded6641-9552-48a1-bf7f-d452024872d8"
      },
      "execution_count": 324,
      "outputs": [
        {
          "output_type": "stream",
          "name": "stdout",
          "text": [
            "German multinational engineering and electronics firm Bosch has made its first investment in India in Bengaluru-based deep-tech startup SimYog. SimYog has raised about Ã¢ÂÂ¹6.3 crore in the funding round, with participation from early-stage venture capital firm Ideaspring Capital.\n"
          ]
        }
      ]
    },
    {
      "cell_type": "code",
      "source": [
        "text_str = data['text'][50]\n",
        "print(summarize(text_str, ratio=0.5))"
      ],
      "metadata": {
        "colab": {
          "base_uri": "https://localhost:8080/"
        },
        "id": "92sLWJxSww_z",
        "outputId": "b6033489-6b23-4d97-efbe-33703663bed7"
      },
      "execution_count": 323,
      "outputs": [
        {
          "output_type": "stream",
          "name": "stdout",
          "text": [
            "Former Finance Minister Yashwant Sinha on Tuesday demanded a probe into the alleged diversion of loans worth Ã¢ÂÂ¹31,000 crore by Dewan Housing Finance (DHFL).\n"
          ]
        }
      ]
    },
    {
      "cell_type": "markdown",
      "source": [
        "## 나는 추출적요약이 더 맘에든다. 표현이 좀 풍부하지않지만 그래도 요약은 정확한 사실을 가져와야하므로 추출적요약이 더 낫지않나 생각이든다. 그리고 추상적요약보다 간편한게 가장 큰 장점인것같다\n",
        "## 이것으로 Explolation07을 마친다."
      ],
      "metadata": {
        "id": "IGo2o3wbxfjc"
      }
    }
  ]
}