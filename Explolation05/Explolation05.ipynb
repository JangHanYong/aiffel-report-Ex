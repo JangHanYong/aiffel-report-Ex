{
  "cells": [
    {
      "cell_type": "markdown",
      "metadata": {},
      "source": [
        "# Explolation05\n",
        "## 딥러닝으로 가위바위보 게임을 만들어보면서, 모델링의 이해와 하이퍼파라미터 조작을 알아보자."
      ]
    },
    {
      "cell_type": "markdown",
      "metadata": {},
      "source": [
        "## 필요한 모듈을 불러온다."
      ]
    },
    {
      "cell_type": "code",
      "execution_count": 41,
      "metadata": {
        "colab": {
          "base_uri": "https://localhost:8080/"
        },
        "id": "gV6UOqnF-2fP",
        "outputId": "5cfee608-98de-43f3-e1a4-b71022bd6ccd"
      },
      "outputs": [
        {
          "name": "stdout",
          "output_type": "stream",
          "text": [
            "2.8.0\n",
            "1.21.6\n"
          ]
        }
      ],
      "source": [
        "import tensorflow as tf\n",
        "import numpy as np\n",
        "import os\n",
        "import matplotlib.pyplot as plt\n",
        "from tensorflow import keras\n",
        "from sklearn.model_selection import train_test_split\n",
        "\n",
        "print(tf.__version__)\n",
        "print(np.__version__)"
      ]
    },
    {
      "cell_type": "code",
      "execution_count": 7,
      "metadata": {
        "colab": {
          "base_uri": "https://localhost:8080/"
        },
        "id": "p0HnTnCIDYKX",
        "outputId": "6af78cfe-060f-480d-abfb-c423fc3ba0b4"
      },
      "outputs": [
        {
          "name": "stdout",
          "output_type": "stream",
          "text": [
            "PIL 라이브러리 import 완료!\n"
          ]
        }
      ],
      "source": [
        "from PIL import Image\n",
        "import glob\n",
        "\n",
        "print(\"PIL 라이브러리 import 완료!\")"
      ]
    },
    {
      "cell_type": "markdown",
      "metadata": {},
      "source": [
        "### 내가 찍은 가위,바위,보 사진들을 불러오자."
      ]
    },
    {
      "cell_type": "code",
      "execution_count": null,
      "metadata": {
        "id": "AYPsy8ieEQxw"
      },
      "outputs": [],
      "source": [
        "from google.colab import drive\n",
        "drive.mount('/content/drive')"
      ]
    },
    {
      "cell_type": "markdown",
      "metadata": {},
      "source": [
        "### 모델을 학습하기전에 사진은 28*28로 사이즈를 변경해야한다. 그래서 함수를 구현해주었다."
      ]
    },
    {
      "cell_type": "code",
      "execution_count": 8,
      "metadata": {
        "id": "L9EDLJH8DELU"
      },
      "outputs": [],
      "source": [
        "def resize_images(img_path):\n",
        "\timages=glob.glob(img_path + \"/*.jpg\")  \n",
        "    \n",
        "\tprint(len(images), \" images to be resized.\")\n",
        "\n",
        "   \n",
        "\ttarget_size=(28,28)\n",
        "\tfor img in images:\n",
        "\t\told_img=Image.open(img)\n",
        "\t\tnew_img=old_img.resize(target_size,Image.ANTIALIAS)\n",
        "\t\tnew_img.save(img, \"JPEG\")\n",
        "    \n",
        "\tprint(len(images), \" images resized.\")"
      ]
    },
    {
      "cell_type": "markdown",
      "metadata": {},
      "source": [
        "### 가위를 28*28사이즈로 바꿔주자"
      ]
    },
    {
      "cell_type": "code",
      "execution_count": 16,
      "metadata": {
        "colab": {
          "base_uri": "https://localhost:8080/"
        },
        "id": "JDuaVXG6DOUD",
        "outputId": "59ebd686-0aba-4b33-8410-7fbcc63b5218"
      },
      "outputs": [
        {
          "name": "stdout",
          "output_type": "stream",
          "text": [
            "360  images to be resized.\n",
            "360  images resized.\n"
          ]
        }
      ],
      "source": [
        "image_dir_path = \"./rock_scissor_paper/scissor\"\n",
        "resize_images(image_dir_path)"
      ]
    },
    {
      "cell_type": "markdown",
      "metadata": {},
      "source": [
        "### 바위를 28*28사이즈로 바꿔주자"
      ]
    },
    {
      "cell_type": "code",
      "execution_count": 17,
      "metadata": {
        "colab": {
          "base_uri": "https://localhost:8080/"
        },
        "id": "6DwtuKX4DsmL",
        "outputId": "c7d20f98-0ab6-4a4c-ecff-c11e687448b8"
      },
      "outputs": [
        {
          "name": "stdout",
          "output_type": "stream",
          "text": [
            "290  images to be resized.\n",
            "290  images resized.\n"
          ]
        }
      ],
      "source": [
        "image_dir_path = \"./rock_scissor_paper/rock\"\n",
        "resize_images(image_dir_path)"
      ]
    },
    {
      "cell_type": "markdown",
      "metadata": {},
      "source": [
        "### 보를 28*28사이즈로 바꿔주자"
      ]
    },
    {
      "cell_type": "code",
      "execution_count": 18,
      "metadata": {
        "colab": {
          "base_uri": "https://localhost:8080/"
        },
        "id": "dD8ZY216EZjK",
        "outputId": "ba6027c1-edfc-432c-93a2-e64245de4eb5"
      },
      "outputs": [
        {
          "name": "stdout",
          "output_type": "stream",
          "text": [
            "298  images to be resized.\n",
            "298  images resized.\n"
          ]
        }
      ],
      "source": [
        "image_dir_path = \"./rock_scissor_paper/paper\"\n",
        "resize_images(image_dir_path)"
      ]
    },
    {
      "cell_type": "markdown",
      "metadata": {},
      "source": [
        "### 다음 과정은 원 핫 인코딩을 위해 가위바위보에 0,1,2값을 할당해주고 그것들을 255로 나눠줌으로써 정규분포로 만드는 과정이다."
      ]
    },
    {
      "cell_type": "code",
      "execution_count": 20,
      "metadata": {
        "colab": {
          "base_uri": "https://localhost:8080/"
        },
        "id": "sCr25dT4E7gN",
        "outputId": "9b358077-82a8-494a-a6ea-7042810eac07"
      },
      "outputs": [
        {
          "name": "stdout",
          "output_type": "stream",
          "text": [
            "학습데이터(x_train)의 이미지 개수는 948 입니다.\n",
            "x_train shape: (948, 28, 28, 3)\n",
            "y_train shape: (948,)\n"
          ]
        }
      ],
      "source": [
        "def load_data(img_path, number_of_data=948): \n",
        "  \n",
        "    img_size=28\n",
        "    color=3\n",
        "   \n",
        "    imgs=np.zeros(number_of_data*img_size*img_size*color,dtype=np.int32).reshape(number_of_data,img_size,img_size,color)\n",
        "    labels=np.zeros(number_of_data,dtype=np.int32)\n",
        "\n",
        "    idx=0\n",
        "    for file in glob.iglob(img_path+'/scissor/*.jpg'):\n",
        "        img = np.array(Image.open(file),dtype=np.int32)\n",
        "        imgs[idx,:,:,:]=img    \n",
        "        labels[idx]=0  \n",
        "        idx=idx+1\n",
        "\n",
        "    for file in glob.iglob(img_path+'/rock/*.jpg'):\n",
        "        img = np.array(Image.open(file),dtype=np.int32)\n",
        "        imgs[idx,:,:,:]=img   \n",
        "        labels[idx]=1  \n",
        "        idx=idx+1  \n",
        "    \n",
        "    for file in glob.iglob(img_path+'/paper/*.jpg'):\n",
        "        img = np.array(Image.open(file),dtype=np.int32)\n",
        "        imgs[idx,:,:,:]=img    \n",
        "        labels[idx]=2  \n",
        "        idx=idx+1\n",
        "        \n",
        "    print(\"학습데이터(x_train)의 이미지 개수는\", idx,\"입니다.\")\n",
        "    return imgs, labels\n",
        "\n",
        "image_dir_path =\"./rock_scissor_paper\"\n",
        "(x_train, y_train)=load_data(image_dir_path)\n",
        "x_train_norm = x_train/255.0   \n",
        "\n",
        "print(\"x_train shape: {}\".format(x_train.shape))\n",
        "print(\"y_train shape: {}\".format(y_train.shape))"
      ]
    },
    {
      "cell_type": "markdown",
      "metadata": {},
      "source": [
        "### 이제 데이터들을 다시 테스트 데이터에 할당해주자."
      ]
    },
    {
      "cell_type": "code",
      "execution_count": 42,
      "metadata": {
        "id": "NlzSSQ-oL8sA"
      },
      "outputs": [],
      "source": [
        "x_train, x_test, y_train, y_test = train_test_split(x_train_norm, y_train, test_size=0.2, shuffle=True, stratify=y_train, random_state=34)"
      ]
    },
    {
      "cell_type": "code",
      "execution_count": 43,
      "metadata": {
        "colab": {
          "base_uri": "https://localhost:8080/"
        },
        "id": "jTdEKTcVHonO",
        "outputId": "ed53be38-49ab-43c0-dd4e-8c45d3dc97c6"
      },
      "outputs": [
        {
          "name": "stdout",
          "output_type": "stream",
          "text": [
            "최소값: 0.0  최대값: 1.0\n"
          ]
        }
      ],
      "source": [
        "print('최소값:',np.min(x_train), ' 최대값:',np.max(x_train))"
      ]
    },
    {
      "cell_type": "markdown",
      "metadata": {},
      "source": [
        "### 데이터를 하나씩 불러와보자"
      ]
    },
    {
      "cell_type": "code",
      "execution_count": 44,
      "metadata": {
        "colab": {
          "base_uri": "https://localhost:8080/",
          "height": 283
        },
        "id": "oQZcaejNFeSF",
        "outputId": "7ab7c67a-9406-45c6-bc54-01b4e0afa432"
      },
      "outputs": [
        {
          "name": "stdout",
          "output_type": "stream",
          "text": [
            "라벨:  1\n"
          ]
        },
        {
          "data": {
            "image/png": "[encoded data removed]",
            "text/plain": [
              "<Figure size 432x288 with 1 Axes>"
            ]
          },
          "metadata": {
            "needs_background": "light"
          },
          "output_type": "display_data"
        }
      ],
      "source": [
        "plt.imshow(x_train[500])\n",
        "print('라벨: ', y_train[500])"
      ]
    },
    {
      "cell_type": "code",
      "execution_count": 45,
      "metadata": {
        "colab": {
          "base_uri": "https://localhost:8080/",
          "height": 283
        },
        "id": "TM4BGwwAFjLL",
        "outputId": "16f46139-c69e-46f1-8b41-d1fe3a8c5dd9"
      },
      "outputs": [
        {
          "name": "stdout",
          "output_type": "stream",
          "text": [
            "라벨:  2\n"
          ]
        },
        {
          "data": {
            "image/png": "[encoded data removed]",
            "text/plain": [
              "<Figure size 432x288 with 1 Axes>"
            ]
          },
          "metadata": {
            "needs_background": "light"
          },
          "output_type": "display_data"
        }
      ],
      "source": [
        "plt.imshow(x_train[2])\n",
        "print('라벨: ', y_train[2])"
      ]
    },
    {
      "cell_type": "code",
      "execution_count": 47,
      "metadata": {
        "colab": {
          "base_uri": "https://localhost:8080/",
          "height": 283
        },
        "id": "nLKcczdHGFWg",
        "outputId": "08798f8e-01a0-4bd0-bd42-0c6d67ae0a4b"
      },
      "outputs": [
        {
          "name": "stdout",
          "output_type": "stream",
          "text": [
            "라벨:  2\n"
          ]
        },
        {
          "data": {
            "image/png": "[encoded data removed]",
            "text/plain": [
              "<Figure size 432x288 with 1 Axes>"
            ]
          },
          "metadata": {
            "needs_background": "light"
          },
          "output_type": "display_data"
        }
      ],
      "source": [
        "plt.imshow(x_train[600])\n",
        "print('라벨: ', y_train[600])"
      ]
    },
    {
      "cell_type": "markdown",
      "metadata": {},
      "source": [
        "### 흐릿하긴하지만 잘 가져와진것같다."
      ]
    },
    {
      "cell_type": "markdown",
      "metadata": {},
      "source": [
        "### 이제 레이어를 설정해 보자. 나는 하이퍼파라미터를 16,32,64,128로 총 4층을 쌓고 dense층은 분류를위해 2층만 설정해주었다.\n",
        "### 이렇게 크게하면 과적합이 일어나지않을까? 걱정했었는데 결과를 보면서 과적합이 일어났나 확인해보자."
      ]
    },
    {
      "cell_type": "code",
      "execution_count": 51,
      "metadata": {
        "colab": {
          "base_uri": "https://localhost:8080/"
        },
        "id": "2HiDgX7ZGHls",
        "outputId": "5bdd7d83-4f7a-4108-f410-a8a0654dce8c"
      },
      "outputs": [
        {
          "name": "stdout",
          "output_type": "stream",
          "text": [
            "Model에 추가된 Layer 개수:  11\n",
            "Model: \"sequential_6\"\n",
            "_________________________________________________________________\n",
            " Layer (type)                Output Shape              Param #   \n",
            "=================================================================\n",
            " conv2d_20 (Conv2D)          (None, 28, 28, 16)        448       \n",
            "                                                                 \n",
            " max_pooling2d_19 (MaxPoolin  (None, 14, 14, 16)       0         \n",
            " g2D)                                                            \n",
            "                                                                 \n",
            " conv2d_21 (Conv2D)          (None, 14, 14, 32)        4640      \n",
            "                                                                 \n",
            " max_pooling2d_20 (MaxPoolin  (None, 7, 7, 32)         0         \n",
            " g2D)                                                            \n",
            "                                                                 \n",
            " conv2d_22 (Conv2D)          (None, 7, 7, 64)          18496     \n",
            "                                                                 \n",
            " max_pooling2d_21 (MaxPoolin  (None, 3, 3, 64)         0         \n",
            " g2D)                                                            \n",
            "                                                                 \n",
            " conv2d_23 (Conv2D)          (None, 3, 3, 128)         73856     \n",
            "                                                                 \n",
            " max_pooling2d_22 (MaxPoolin  (None, 3, 1, 128)        0         \n",
            " g2D)                                                            \n",
            "                                                                 \n",
            " flatten_5 (Flatten)         (None, 384)               0         \n",
            "                                                                 \n",
            " dense_10 (Dense)            (None, 64)                24640     \n",
            "                                                                 \n",
            " dense_11 (Dense)            (None, 3)                 195       \n",
            "                                                                 \n",
            "=================================================================\n",
            "Total params: 122,275\n",
            "Trainable params: 122,275\n",
            "Non-trainable params: 0\n",
            "_________________________________________________________________\n"
          ]
        }
      ],
      "source": [
        "model=keras.models.Sequential()\n",
        "model.add(keras.layers.Conv2D(16, (3,3), activation='relu', input_shape=(28,28,3), padding=\"same\"))# 1레이어 파라미터 16로설정\n",
        "model.add(keras.layers.MaxPool2D(2,2))\n",
        "model.add(keras.layers.Conv2D(32, (3,3), activation='relu',padding=\"same\"))# 2레이어 파라미터 32로설정\n",
        "model.add(keras.layers.MaxPooling2D((2,2)))\n",
        "model.add(keras.layers.Conv2D(64, (3,3), activation='relu',padding=\"same\"))# 3레이어 파라미터 64로설정\n",
        "model.add(keras.layers.MaxPooling2D((2,2)))\n",
        "model.add(keras.layers.Conv2D(128, (3,3), activation='relu',padding=\"same\"))# 4레이어 파라미터 128로설정\n",
        "model.add(keras.layers.MaxPooling2D((1,2)))\n",
        "model.add(keras.layers.Flatten())\n",
        "model.add(keras.layers.Dense(64, activation='relu'))# dense 64\n",
        "model.add(keras.layers.Dense(3, activation='softmax'))\n",
        "\n",
        "print('Model에 추가된 Layer 개수: ', len(model.layers))\n",
        "\n",
        "model.summary()"
      ]
    },
    {
      "cell_type": "markdown",
      "metadata": {},
      "source": [
        "### 이제 쌓은 레이어를 바탕으로 모델을 학습시켜주자."
      ]
    },
    {
      "cell_type": "code",
      "execution_count": 52,
      "metadata": {
        "colab": {
          "base_uri": "https://localhost:8080/"
        },
        "id": "u_FRkOnbGS3w",
        "outputId": "9bf357e0-3343-4dfa-dd01-e3576229e67e"
      },
      "outputs": [
        {
          "name": "stdout",
          "output_type": "stream",
          "text": [
            "Epoch 1/10\n",
            "24/24 [==============================] - 1s 36ms/step - loss: 1.0776 - accuracy: 0.4024\n",
            "Epoch 2/10\n",
            "24/24 [==============================] - 1s 36ms/step - loss: 0.8061 - accuracy: 0.6504\n",
            "Epoch 3/10\n",
            "24/24 [==============================] - 1s 35ms/step - loss: 0.5150 - accuracy: 0.7968\n",
            "Epoch 4/10\n",
            "24/24 [==============================] - 1s 35ms/step - loss: 0.3617 - accuracy: 0.8720\n",
            "Epoch 5/10\n",
            "24/24 [==============================] - 1s 36ms/step - loss: 0.2827 - accuracy: 0.8997\n",
            "Epoch 6/10\n",
            "24/24 [==============================] - 1s 36ms/step - loss: 0.2021 - accuracy: 0.9327\n",
            "Epoch 7/10\n",
            "24/24 [==============================] - 1s 36ms/step - loss: 0.1649 - accuracy: 0.9459\n",
            "Epoch 8/10\n",
            "24/24 [==============================] - 1s 34ms/step - loss: 0.1149 - accuracy: 0.9670\n",
            "Epoch 9/10\n",
            "24/24 [==============================] - 1s 35ms/step - loss: 0.0765 - accuracy: 0.9815\n",
            "Epoch 10/10\n",
            "24/24 [==============================] - 1s 34ms/step - loss: 0.0394 - accuracy: 0.9921\n"
          ]
        },
        {
          "data": {
            "text/plain": [
              "<keras.callbacks.History at 0x7f96498d9490>"
            ]
          },
          "execution_count": 52,
          "metadata": {},
          "output_type": "execute_result"
        }
      ],
      "source": [
        "model.compile(optimizer='adam',\n",
        "             loss='sparse_categorical_crossentropy',\n",
        "             metrics=['accuracy'])\n",
        "\n",
        "model.fit(x_train, y_train, epochs=10)"
      ]
    },
    {
      "cell_type": "markdown",
      "metadata": {},
      "source": [
        "### 결과는 아주 흡족스럽게 나온것같다. 하지만 과적합이 일어났나 확인시켜주기위해 test데이터와 비교해보았다."
      ]
    },
    {
      "cell_type": "code",
      "execution_count": 53,
      "metadata": {
        "colab": {
          "base_uri": "https://localhost:8080/"
        },
        "id": "4W2cvbavKFVg",
        "outputId": "a3020c8c-602c-4faf-c9e2-73f7225ca432"
      },
      "outputs": [
        {
          "name": "stdout",
          "output_type": "stream",
          "text": [
            "6/6 - 0s - loss: 0.0623 - accuracy: 0.9895 - 411ms/epoch - 69ms/step\n",
            "test_loss: 0.06226525455713272 \n",
            "test_accuracy: 0.9894737005233765\n"
          ]
        }
      ],
      "source": [
        "test_loss, test_accuracy = model.evaluate(x_test,y_test, verbose=2)\n",
        "print(\"test_loss: {} \".format(test_loss))\n",
        "print(\"test_accuracy: {}\".format(test_accuracy))"
      ]
    },
    {
      "cell_type": "markdown",
      "metadata": {},
      "source": [
        "### 테스트 정확도와 train 정확도가 비슷한걸로봐서 과적합이 일어난것같지는않다."
      ]
    },
    {
      "cell_type": "code",
      "execution_count": 55,
      "metadata": {
        "colab": {
          "base_uri": "https://localhost:8080/"
        },
        "id": "3WMy1KgCNFMc",
        "outputId": "87466438-07b7-4dc6-8c88-2ddfb4d5deff"
      },
      "outputs": [
        {
          "name": "stdout",
          "output_type": "stream",
          "text": [
            "model.predict() 결과 :  [0.9935549  0.00495912 0.001486  ]\n",
            "model이 추론한 가장 가능성이 높은 결과 :  0\n",
            "실제 데이터의 라벨 :  0\n"
          ]
        }
      ],
      "source": [
        "predicted_result = model.predict(x_test)  # model이 추론한 확률값. \n",
        "predicted_labels = np.argmax(predicted_result, axis=1)\n",
        "\n",
        "idx=0  #1번째 x_test를 살펴보자. \n",
        "print('model.predict() 결과 : ', predicted_result[idx])\n",
        "print('model이 추론한 가장 가능성이 높은 결과 : ', predicted_labels[idx])\n",
        "print('실제 데이터의 라벨 : ', y_test[idx])"
      ]
    },
    {
      "cell_type": "markdown",
      "metadata": {},
      "source": [
        "### 성능은 괜찮은것같다. 가장높은 결과와 다른결과와의 차이가 큰걸보니 괜찮게 학습시킨것같다."
      ]
    },
    {
      "cell_type": "code",
      "execution_count": 56,
      "metadata": {
        "colab": {
          "base_uri": "https://localhost:8080/",
          "height": 1000
        },
        "id": "Rg24qqTwM1qB",
        "outputId": "e998caca-8bf3-4d2a-bb1e-c8808c8352a0"
      },
      "outputs": [
        {
          "name": "stdout",
          "output_type": "stream",
          "text": [
            "예측확률분포: [1.1937175e-02 6.5657935e-07 9.8806214e-01]\n",
            "라벨: 0, 예측결과: 2\n"
          ]
        },
        {
          "data": {
            "image/png": "[encoded data removed]",
            "text/plain": [
              "<Figure size 432x288 with 1 Axes>"
            ]
          },
          "metadata": {
            "needs_background": "light"
          },
          "output_type": "display_data"
        },
        {
          "name": "stdout",
          "output_type": "stream",
          "text": [
            "예측확률분포: [1.1937175e-02 6.5657935e-07 9.8806214e-01]\n",
            "라벨: 0, 예측결과: 2\n"
          ]
        },
        {
          "data": {
            "image/png": "[encoded data removed]",
            "text/plain": [
              "<Figure size 432x288 with 1 Axes>"
            ]
          },
          "metadata": {
            "needs_background": "light"
          },
          "output_type": "display_data"
        },
        {
          "name": "stdout",
          "output_type": "stream",
          "text": [
            "예측확률분포: [1.1937175e-02 6.5657935e-07 9.8806214e-01]\n",
            "라벨: 0, 예측결과: 2\n"
          ]
        },
        {
          "data": {
            "image/png": "[encoded data removed]",
            "text/plain": [
              "<Figure size 432x288 with 1 Axes>"
            ]
          },
          "metadata": {
            "needs_background": "light"
          },
          "output_type": "display_data"
        },
        {
          "name": "stdout",
          "output_type": "stream",
          "text": [
            "예측확률분포: [6.2440805e-02 2.5506731e-07 9.3755895e-01]\n",
            "라벨: 0, 예측결과: 2\n"
          ]
        },
        {
          "data": {
            "image/png": "[encoded data removed]",
            "text/plain": [
              "<Figure size 432x288 with 1 Axes>"
            ]
          },
          "metadata": {
            "needs_background": "light"
          },
          "output_type": "display_data"
        },
        {
          "name": "stdout",
          "output_type": "stream",
          "text": [
            "예측확률분포: [1.1937175e-02 6.5657935e-07 9.8806214e-01]\n",
            "라벨: 0, 예측결과: 2\n"
          ]
        },
        {
          "data": {
            "image/png": "[encoded data removed]",
            "text/plain": [
              "<Figure size 432x288 with 1 Axes>"
            ]
          },
          "metadata": {
            "needs_background": "light"
          },
          "output_type": "display_data"
        }
      ],
      "source": [
        "import random\n",
        "wrong_predict_list=[]\n",
        "for i, _ in enumerate(predicted_labels):\n",
        "    # i번째 test_labels과 y_test이 다른 경우만 모아 봅시다. \n",
        "    if predicted_labels[i] != y_test[i]:\n",
        "        wrong_predict_list.append(i)\n",
        "\n",
        "# wrong_predict_list 에서 랜덤하게 5개만 뽑아봅시다.\n",
        "samples = random.choices(population=wrong_predict_list, k=5)\n",
        "\n",
        "for n in samples:\n",
        "    print(\"예측확률분포: \" + str(predicted_result[n]))\n",
        "    print(\"라벨: \" + str(y_test[n]) + \", 예측결과: \" + str(predicted_labels[n]))\n",
        "    plt.imshow(x_test[n], cmap=plt.cm.binary)\n",
        "    plt.show()"
      ]
    },
    {
      "cell_type": "markdown",
      "metadata": {},
      "source": [
        "### 잘못 예측한 결과인데 결과들이 가위를 보로 인식한다. 나중에 가위와 보 사진을 더욱 추가해서 넣어주면 이 문제는 해결될것같다. "
      ]
    },
    {
      "cell_type": "markdown",
      "metadata": {},
      "source": [
        "## Explolation05를 하면서 딥러닝을 처음으로 모델링과 학습을 시켜보았으며, 개인적인 견해로써 머신러닝보다 재밌는것같다.\n",
        "## 그리고 사진수가 적어 결과가 안좋을까 걱정했는데 레이어를 잘 쌓으면 적은 데이터가지고 좋은결과를 만들수있다는것을 알았다.\n",
        "## 하지만 일반화를 했냐? 그건 장담할수 없을것같다. 이것으로 Explolation05를 마친다."
      ]
    }
  ],
  "metadata": {
    "colab": {
      "collapsed_sections": [],
      "name": "Untitled4.ipynb",
      "provenance": []
    },
    "kernelspec": {
      "display_name": "Python 3",
      "name": "python3"
    },
    "language_info": {
      "name": "python"
    }
  },
  "nbformat": 4,
  "nbformat_minor": 0
}
