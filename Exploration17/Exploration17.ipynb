{
 "cells": [
  {
   "cell_type": "markdown",
   "id": "6394c774",
   "metadata": {},
   "source": [
    "# Exploration17\n",
    "## 다음에 볼 영화 예측하기\n",
    "### 필요한 모듈 불러오기"
   ]
  },
  {
   "cell_type": "code",
   "execution_count": 72,
   "id": "0647e86c",
   "metadata": {},
   "outputs": [],
   "source": [
    "import pandas as pd\n",
    "import tensorflow\n",
    "import datetime as dt\n",
    "from pathlib import Path\n",
    "import os\n",
    "import numpy as np\n",
    "import warnings\n",
    "warnings.filterwarnings('ignore')\n"
   ]
  },
  {
   "cell_type": "markdown",
   "id": "e743e4e9",
   "metadata": {},
   "source": [
    "### 데이터 불러오기"
   ]
  },
  {
   "cell_type": "code",
   "execution_count": 73,
   "id": "80799c08",
   "metadata": {},
   "outputs": [
    {
     "data": {
      "text/html": [
       "<div>\n",
       "<style scoped>\n",
       "    .dataframe tbody tr th:only-of-type {\n",
       "        vertical-align: middle;\n",
       "    }\n",
       "\n",
       "    .dataframe tbody tr th {\n",
       "        vertical-align: top;\n",
       "    }\n",
       "\n",
       "    .dataframe thead th {\n",
       "        text-align: right;\n",
       "    }\n",
       "</style>\n",
       "<table border=\"1\" class=\"dataframe\">\n",
       "  <thead>\n",
       "    <tr style=\"text-align: right;\">\n",
       "      <th></th>\n",
       "      <th>UserId</th>\n",
       "      <th>ItemId</th>\n",
       "      <th>Rating</th>\n",
       "      <th>Time</th>\n",
       "    </tr>\n",
       "  </thead>\n",
       "  <tbody>\n",
       "    <tr>\n",
       "      <th>31</th>\n",
       "      <td>1</td>\n",
       "      <td>3186</td>\n",
       "      <td>4</td>\n",
       "      <td>978300019</td>\n",
       "    </tr>\n",
       "    <tr>\n",
       "      <th>22</th>\n",
       "      <td>1</td>\n",
       "      <td>1270</td>\n",
       "      <td>5</td>\n",
       "      <td>978300055</td>\n",
       "    </tr>\n",
       "    <tr>\n",
       "      <th>27</th>\n",
       "      <td>1</td>\n",
       "      <td>1721</td>\n",
       "      <td>4</td>\n",
       "      <td>978300055</td>\n",
       "    </tr>\n",
       "    <tr>\n",
       "      <th>37</th>\n",
       "      <td>1</td>\n",
       "      <td>1022</td>\n",
       "      <td>5</td>\n",
       "      <td>978300055</td>\n",
       "    </tr>\n",
       "    <tr>\n",
       "      <th>24</th>\n",
       "      <td>1</td>\n",
       "      <td>2340</td>\n",
       "      <td>3</td>\n",
       "      <td>978300103</td>\n",
       "    </tr>\n",
       "    <tr>\n",
       "      <th>...</th>\n",
       "      <td>...</td>\n",
       "      <td>...</td>\n",
       "      <td>...</td>\n",
       "      <td>...</td>\n",
       "    </tr>\n",
       "    <tr>\n",
       "      <th>1000019</th>\n",
       "      <td>6040</td>\n",
       "      <td>2917</td>\n",
       "      <td>4</td>\n",
       "      <td>997454429</td>\n",
       "    </tr>\n",
       "    <tr>\n",
       "      <th>999988</th>\n",
       "      <td>6040</td>\n",
       "      <td>1921</td>\n",
       "      <td>4</td>\n",
       "      <td>997454464</td>\n",
       "    </tr>\n",
       "    <tr>\n",
       "      <th>1000172</th>\n",
       "      <td>6040</td>\n",
       "      <td>1784</td>\n",
       "      <td>3</td>\n",
       "      <td>997454464</td>\n",
       "    </tr>\n",
       "    <tr>\n",
       "      <th>1000167</th>\n",
       "      <td>6040</td>\n",
       "      <td>161</td>\n",
       "      <td>3</td>\n",
       "      <td>997454486</td>\n",
       "    </tr>\n",
       "    <tr>\n",
       "      <th>1000042</th>\n",
       "      <td>6040</td>\n",
       "      <td>1221</td>\n",
       "      <td>4</td>\n",
       "      <td>998315055</td>\n",
       "    </tr>\n",
       "  </tbody>\n",
       "</table>\n",
       "<p>1000209 rows × 4 columns</p>\n",
       "</div>"
      ],
      "text/plain": [
       "         UserId  ItemId  Rating       Time\n",
       "31            1    3186       4  978300019\n",
       "22            1    1270       5  978300055\n",
       "27            1    1721       4  978300055\n",
       "37            1    1022       5  978300055\n",
       "24            1    2340       3  978300103\n",
       "...         ...     ...     ...        ...\n",
       "1000019    6040    2917       4  997454429\n",
       "999988     6040    1921       4  997454464\n",
       "1000172    6040    1784       3  997454464\n",
       "1000167    6040     161       3  997454486\n",
       "1000042    6040    1221       4  998315055\n",
       "\n",
       "[1000209 rows x 4 columns]"
      ]
     },
     "execution_count": 73,
     "metadata": {},
     "output_type": "execute_result"
    }
   ],
   "source": [
    "data_path = Path(os.getenv('HOME')+'/aiffel/yoochoose/data/') \n",
    "train_path = data_path / 'ratings.dat'\n",
    "\n",
    "def load_data(data_path: Path, nrows=None):\n",
    "    data = pd.read_csv(data_path, sep='::', header=None, usecols=[0, 1, 2, 3], dtype={0: np.int32, 1: np.int32, 2: np.int32}, nrows=nrows)\n",
    "    data.columns = ['UserId', 'ItemId', 'Rating', 'Time']\n",
    "    return data\n",
    "\n",
    "data = load_data(train_path, None)\n",
    "data.sort_values(['UserId', 'Time'], inplace=True)  # data를 id와 시간 순서로 정렬해줍니다.\n",
    "data"
   ]
  },
  {
   "cell_type": "markdown",
   "id": "f564a6a3",
   "metadata": {},
   "source": [
    "### 데이터 전처리"
   ]
  },
  {
   "cell_type": "code",
   "execution_count": 74,
   "id": "2459aefc",
   "metadata": {},
   "outputs": [
    {
     "data": {
      "text/plain": [
       "(6040, 3706)"
      ]
     },
     "execution_count": 74,
     "metadata": {},
     "output_type": "execute_result"
    }
   ],
   "source": [
    "data['UserId'].nunique(), data['ItemId'].nunique()"
   ]
  },
  {
   "cell_type": "code",
   "execution_count": 75,
   "id": "edd8b685",
   "metadata": {},
   "outputs": [
    {
     "data": {
      "text/plain": [
       "UserId\n",
       "1        53\n",
       "2       129\n",
       "3        51\n",
       "4        21\n",
       "5       198\n",
       "       ... \n",
       "6036    888\n",
       "6037    202\n",
       "6038     20\n",
       "6039    123\n",
       "6040    341\n",
       "Length: 6040, dtype: int64"
      ]
     },
     "execution_count": 75,
     "metadata": {},
     "output_type": "execute_result"
    }
   ],
   "source": [
    "session_length = data.groupby('UserId').size()\n",
    "session_length"
   ]
  },
  {
   "cell_type": "code",
   "execution_count": 76,
   "id": "171da9b0",
   "metadata": {},
   "outputs": [
    {
     "data": {
      "text/plain": [
       "(96.0, 165.5975165562914)"
      ]
     },
     "execution_count": 76,
     "metadata": {},
     "output_type": "execute_result"
    }
   ],
   "source": [
    "session_length.median(), session_length.mean()"
   ]
  },
  {
   "cell_type": "code",
   "execution_count": 77,
   "id": "0fc09d0f",
   "metadata": {},
   "outputs": [
    {
     "data": {
      "text/plain": [
       "(20, 2314)"
      ]
     },
     "execution_count": 77,
     "metadata": {},
     "output_type": "execute_result"
    }
   ],
   "source": [
    "session_length.min(), session_length.max()"
   ]
  },
  {
   "cell_type": "code",
   "execution_count": 78,
   "id": "468a543f",
   "metadata": {},
   "outputs": [
    {
     "data": {
      "text/plain": [
       "1343.181000000005"
      ]
     },
     "execution_count": 78,
     "metadata": {},
     "output_type": "execute_result"
    }
   ],
   "source": [
    "session_length.quantile(0.999)"
   ]
  },
  {
   "cell_type": "code",
   "execution_count": 79,
   "id": "bba45eea",
   "metadata": {},
   "outputs": [
    {
     "data": {
      "text/plain": [
       "UserId\n",
       "889     1518\n",
       "1181    1521\n",
       "1680    1850\n",
       "1941    1595\n",
       "4169    2314\n",
       "4277    1743\n",
       "dtype: int64"
      ]
     },
     "execution_count": 79,
     "metadata": {},
     "output_type": "execute_result"
    }
   ],
   "source": [
    "session_length[session_length>1344]"
   ]
  },
  {
   "cell_type": "markdown",
   "id": "d664cea9",
   "metadata": {},
   "source": [
    "### 나는 이 유저들을 광클유저로보고 삭제할것이다."
   ]
  },
  {
   "cell_type": "code",
   "execution_count": 80,
   "id": "5ecc4a5d",
   "metadata": {},
   "outputs": [],
   "source": [
    "data = data.drop(index = data[data['UserId']==889].index)\n",
    "data = data.drop(index = data[data['UserId']==1181].index)\n",
    "data = data.drop(index = data[data['UserId']==1680].index)\n",
    "data = data.drop(index = data[data['UserId']==1941].index)\n",
    "data = data.drop(index = data[data['UserId']==4169].index)\n",
    "data = data.drop(index = data[data['UserId']==4277].index)"
   ]
  },
  {
   "cell_type": "code",
   "execution_count": 81,
   "id": "5fef9f14",
   "metadata": {},
   "outputs": [
    {
     "data": {
      "text/html": [
       "<div>\n",
       "<style scoped>\n",
       "    .dataframe tbody tr th:only-of-type {\n",
       "        vertical-align: middle;\n",
       "    }\n",
       "\n",
       "    .dataframe tbody tr th {\n",
       "        vertical-align: top;\n",
       "    }\n",
       "\n",
       "    .dataframe thead th {\n",
       "        text-align: right;\n",
       "    }\n",
       "</style>\n",
       "<table border=\"1\" class=\"dataframe\">\n",
       "  <thead>\n",
       "    <tr style=\"text-align: right;\">\n",
       "      <th></th>\n",
       "      <th>UserId</th>\n",
       "      <th>ItemId</th>\n",
       "      <th>Rating</th>\n",
       "      <th>Time</th>\n",
       "    </tr>\n",
       "  </thead>\n",
       "  <tbody>\n",
       "    <tr>\n",
       "      <th>31</th>\n",
       "      <td>1</td>\n",
       "      <td>3186</td>\n",
       "      <td>4</td>\n",
       "      <td>978300019</td>\n",
       "    </tr>\n",
       "    <tr>\n",
       "      <th>22</th>\n",
       "      <td>1</td>\n",
       "      <td>1270</td>\n",
       "      <td>5</td>\n",
       "      <td>978300055</td>\n",
       "    </tr>\n",
       "    <tr>\n",
       "      <th>27</th>\n",
       "      <td>1</td>\n",
       "      <td>1721</td>\n",
       "      <td>4</td>\n",
       "      <td>978300055</td>\n",
       "    </tr>\n",
       "    <tr>\n",
       "      <th>37</th>\n",
       "      <td>1</td>\n",
       "      <td>1022</td>\n",
       "      <td>5</td>\n",
       "      <td>978300055</td>\n",
       "    </tr>\n",
       "    <tr>\n",
       "      <th>24</th>\n",
       "      <td>1</td>\n",
       "      <td>2340</td>\n",
       "      <td>3</td>\n",
       "      <td>978300103</td>\n",
       "    </tr>\n",
       "    <tr>\n",
       "      <th>...</th>\n",
       "      <td>...</td>\n",
       "      <td>...</td>\n",
       "      <td>...</td>\n",
       "      <td>...</td>\n",
       "    </tr>\n",
       "    <tr>\n",
       "      <th>1000019</th>\n",
       "      <td>6040</td>\n",
       "      <td>2917</td>\n",
       "      <td>4</td>\n",
       "      <td>997454429</td>\n",
       "    </tr>\n",
       "    <tr>\n",
       "      <th>999988</th>\n",
       "      <td>6040</td>\n",
       "      <td>1921</td>\n",
       "      <td>4</td>\n",
       "      <td>997454464</td>\n",
       "    </tr>\n",
       "    <tr>\n",
       "      <th>1000172</th>\n",
       "      <td>6040</td>\n",
       "      <td>1784</td>\n",
       "      <td>3</td>\n",
       "      <td>997454464</td>\n",
       "    </tr>\n",
       "    <tr>\n",
       "      <th>1000167</th>\n",
       "      <td>6040</td>\n",
       "      <td>161</td>\n",
       "      <td>3</td>\n",
       "      <td>997454486</td>\n",
       "    </tr>\n",
       "    <tr>\n",
       "      <th>1000042</th>\n",
       "      <td>6040</td>\n",
       "      <td>1221</td>\n",
       "      <td>4</td>\n",
       "      <td>998315055</td>\n",
       "    </tr>\n",
       "  </tbody>\n",
       "</table>\n",
       "<p>989668 rows × 4 columns</p>\n",
       "</div>"
      ],
      "text/plain": [
       "         UserId  ItemId  Rating       Time\n",
       "31            1    3186       4  978300019\n",
       "22            1    1270       5  978300055\n",
       "27            1    1721       4  978300055\n",
       "37            1    1022       5  978300055\n",
       "24            1    2340       3  978300103\n",
       "...         ...     ...     ...        ...\n",
       "1000019    6040    2917       4  997454429\n",
       "999988     6040    1921       4  997454464\n",
       "1000172    6040    1784       3  997454464\n",
       "1000167    6040     161       3  997454486\n",
       "1000042    6040    1221       4  998315055\n",
       "\n",
       "[989668 rows x 4 columns]"
      ]
     },
     "execution_count": 81,
     "metadata": {},
     "output_type": "execute_result"
    }
   ],
   "source": [
    "data"
   ]
  },
  {
   "cell_type": "code",
   "execution_count": 82,
   "id": "64404cd5",
   "metadata": {},
   "outputs": [
    {
     "data": {
      "text/plain": [
       "UserId\n",
       "1        53\n",
       "2       129\n",
       "3        51\n",
       "4        21\n",
       "5       198\n",
       "       ... \n",
       "6036    888\n",
       "6037    202\n",
       "6038     20\n",
       "6039    123\n",
       "6040    341\n",
       "Length: 6034, dtype: int64"
      ]
     },
     "execution_count": 82,
     "metadata": {},
     "output_type": "execute_result"
    }
   ],
   "source": [
    "session_length = data.groupby('UserId').size()\n",
    "session_length"
   ]
  },
  {
   "cell_type": "code",
   "execution_count": 83,
   "id": "1d66cc73",
   "metadata": {},
   "outputs": [
    {
     "data": {
      "text/plain": [
       "(20, 1344)"
      ]
     },
     "execution_count": 83,
     "metadata": {},
     "output_type": "execute_result"
    }
   ],
   "source": [
    "session_length.min(), session_length.max()"
   ]
  },
  {
   "cell_type": "markdown",
   "id": "12f3e005",
   "metadata": {},
   "source": [
    "### 성공했다. 이제 다음 단계로 넘어가자."
   ]
  },
  {
   "cell_type": "markdown",
   "id": "cbf21bb8",
   "metadata": {},
   "source": [
    "### Session Time"
   ]
  },
  {
   "cell_type": "code",
   "execution_count": 84,
   "id": "08995dc2",
   "metadata": {},
   "outputs": [
    {
     "name": "stdout",
     "output_type": "stream",
     "text": [
      "<class 'pandas.core.frame.DataFrame'>\n",
      "Int64Index: 989668 entries, 31 to 1000042\n",
      "Data columns (total 4 columns):\n",
      " #   Column  Non-Null Count   Dtype\n",
      "---  ------  --------------   -----\n",
      " 0   UserId  989668 non-null  int32\n",
      " 1   ItemId  989668 non-null  int32\n",
      " 2   Rating  989668 non-null  int32\n",
      " 3   Time    989668 non-null  int64\n",
      "dtypes: int32(3), int64(1)\n",
      "memory usage: 26.4 MB\n"
     ]
    }
   ],
   "source": [
    "data.info()"
   ]
  },
  {
   "cell_type": "code",
   "execution_count": 85,
   "id": "84ff8038",
   "metadata": {},
   "outputs": [],
   "source": [
    "data['Time'] = pd.to_datetime(data['Time'],unit='s')"
   ]
  },
  {
   "cell_type": "code",
   "execution_count": 86,
   "id": "1bf01c94",
   "metadata": {},
   "outputs": [
    {
     "data": {
      "text/html": [
       "<div>\n",
       "<style scoped>\n",
       "    .dataframe tbody tr th:only-of-type {\n",
       "        vertical-align: middle;\n",
       "    }\n",
       "\n",
       "    .dataframe tbody tr th {\n",
       "        vertical-align: top;\n",
       "    }\n",
       "\n",
       "    .dataframe thead th {\n",
       "        text-align: right;\n",
       "    }\n",
       "</style>\n",
       "<table border=\"1\" class=\"dataframe\">\n",
       "  <thead>\n",
       "    <tr style=\"text-align: right;\">\n",
       "      <th></th>\n",
       "      <th>UserId</th>\n",
       "      <th>ItemId</th>\n",
       "      <th>Rating</th>\n",
       "      <th>Time</th>\n",
       "    </tr>\n",
       "  </thead>\n",
       "  <tbody>\n",
       "    <tr>\n",
       "      <th>31</th>\n",
       "      <td>1</td>\n",
       "      <td>3186</td>\n",
       "      <td>4</td>\n",
       "      <td>2000-12-31 22:00:19</td>\n",
       "    </tr>\n",
       "    <tr>\n",
       "      <th>22</th>\n",
       "      <td>1</td>\n",
       "      <td>1270</td>\n",
       "      <td>5</td>\n",
       "      <td>2000-12-31 22:00:55</td>\n",
       "    </tr>\n",
       "    <tr>\n",
       "      <th>27</th>\n",
       "      <td>1</td>\n",
       "      <td>1721</td>\n",
       "      <td>4</td>\n",
       "      <td>2000-12-31 22:00:55</td>\n",
       "    </tr>\n",
       "    <tr>\n",
       "      <th>37</th>\n",
       "      <td>1</td>\n",
       "      <td>1022</td>\n",
       "      <td>5</td>\n",
       "      <td>2000-12-31 22:00:55</td>\n",
       "    </tr>\n",
       "    <tr>\n",
       "      <th>24</th>\n",
       "      <td>1</td>\n",
       "      <td>2340</td>\n",
       "      <td>3</td>\n",
       "      <td>2000-12-31 22:01:43</td>\n",
       "    </tr>\n",
       "    <tr>\n",
       "      <th>...</th>\n",
       "      <td>...</td>\n",
       "      <td>...</td>\n",
       "      <td>...</td>\n",
       "      <td>...</td>\n",
       "    </tr>\n",
       "    <tr>\n",
       "      <th>1000019</th>\n",
       "      <td>6040</td>\n",
       "      <td>2917</td>\n",
       "      <td>4</td>\n",
       "      <td>2001-08-10 14:40:29</td>\n",
       "    </tr>\n",
       "    <tr>\n",
       "      <th>999988</th>\n",
       "      <td>6040</td>\n",
       "      <td>1921</td>\n",
       "      <td>4</td>\n",
       "      <td>2001-08-10 14:41:04</td>\n",
       "    </tr>\n",
       "    <tr>\n",
       "      <th>1000172</th>\n",
       "      <td>6040</td>\n",
       "      <td>1784</td>\n",
       "      <td>3</td>\n",
       "      <td>2001-08-10 14:41:04</td>\n",
       "    </tr>\n",
       "    <tr>\n",
       "      <th>1000167</th>\n",
       "      <td>6040</td>\n",
       "      <td>161</td>\n",
       "      <td>3</td>\n",
       "      <td>2001-08-10 14:41:26</td>\n",
       "    </tr>\n",
       "    <tr>\n",
       "      <th>1000042</th>\n",
       "      <td>6040</td>\n",
       "      <td>1221</td>\n",
       "      <td>4</td>\n",
       "      <td>2001-08-20 13:44:15</td>\n",
       "    </tr>\n",
       "  </tbody>\n",
       "</table>\n",
       "<p>989668 rows × 4 columns</p>\n",
       "</div>"
      ],
      "text/plain": [
       "         UserId  ItemId  Rating                Time\n",
       "31            1    3186       4 2000-12-31 22:00:19\n",
       "22            1    1270       5 2000-12-31 22:00:55\n",
       "27            1    1721       4 2000-12-31 22:00:55\n",
       "37            1    1022       5 2000-12-31 22:00:55\n",
       "24            1    2340       3 2000-12-31 22:01:43\n",
       "...         ...     ...     ...                 ...\n",
       "1000019    6040    2917       4 2001-08-10 14:40:29\n",
       "999988     6040    1921       4 2001-08-10 14:41:04\n",
       "1000172    6040    1784       3 2001-08-10 14:41:04\n",
       "1000167    6040     161       3 2001-08-10 14:41:26\n",
       "1000042    6040    1221       4 2001-08-20 13:44:15\n",
       "\n",
       "[989668 rows x 4 columns]"
      ]
     },
     "execution_count": 86,
     "metadata": {},
     "output_type": "execute_result"
    }
   ],
   "source": [
    "data"
   ]
  },
  {
   "cell_type": "code",
   "execution_count": 87,
   "id": "6686be12",
   "metadata": {},
   "outputs": [
    {
     "name": "stdout",
     "output_type": "stream",
     "text": [
      "2000-04-25 23:05:32\n",
      "2003-02-28 17:49:50\n"
     ]
    }
   ],
   "source": [
    "oldest, latest = data['Time'].min(), data['Time'].max()\n",
    "print(oldest) \n",
    "print(latest)"
   ]
  },
  {
   "cell_type": "markdown",
   "id": "e5e310f6",
   "metadata": {},
   "source": [
    "### 나는 그래도 영화는 개봉을 달마다 많이하지않으므로 1년으로 설장해주었다."
   ]
  },
  {
   "cell_type": "code",
   "execution_count": 88,
   "id": "7fedc590",
   "metadata": {},
   "outputs": [
    {
     "data": {
      "text/html": [
       "<div>\n",
       "<style scoped>\n",
       "    .dataframe tbody tr th:only-of-type {\n",
       "        vertical-align: middle;\n",
       "    }\n",
       "\n",
       "    .dataframe tbody tr th {\n",
       "        vertical-align: top;\n",
       "    }\n",
       "\n",
       "    .dataframe thead th {\n",
       "        text-align: right;\n",
       "    }\n",
       "</style>\n",
       "<table border=\"1\" class=\"dataframe\">\n",
       "  <thead>\n",
       "    <tr style=\"text-align: right;\">\n",
       "      <th></th>\n",
       "      <th>UserId</th>\n",
       "      <th>ItemId</th>\n",
       "      <th>Rating</th>\n",
       "      <th>Time</th>\n",
       "    </tr>\n",
       "  </thead>\n",
       "  <tbody>\n",
       "    <tr>\n",
       "      <th>5170</th>\n",
       "      <td>36</td>\n",
       "      <td>1387</td>\n",
       "      <td>5</td>\n",
       "      <td>2002-03-12 03:46:59</td>\n",
       "    </tr>\n",
       "    <tr>\n",
       "      <th>5267</th>\n",
       "      <td>36</td>\n",
       "      <td>1201</td>\n",
       "      <td>4</td>\n",
       "      <td>2002-03-12 03:46:59</td>\n",
       "    </tr>\n",
       "    <tr>\n",
       "      <th>5122</th>\n",
       "      <td>36</td>\n",
       "      <td>1291</td>\n",
       "      <td>5</td>\n",
       "      <td>2002-03-12 03:47:16</td>\n",
       "    </tr>\n",
       "    <tr>\n",
       "      <th>5123</th>\n",
       "      <td>36</td>\n",
       "      <td>2167</td>\n",
       "      <td>5</td>\n",
       "      <td>2002-03-12 03:48:25</td>\n",
       "    </tr>\n",
       "    <tr>\n",
       "      <th>5290</th>\n",
       "      <td>36</td>\n",
       "      <td>2951</td>\n",
       "      <td>4</td>\n",
       "      <td>2002-03-12 03:48:25</td>\n",
       "    </tr>\n",
       "    <tr>\n",
       "      <th>...</th>\n",
       "      <td>...</td>\n",
       "      <td>...</td>\n",
       "      <td>...</td>\n",
       "      <td>...</td>\n",
       "    </tr>\n",
       "    <tr>\n",
       "      <th>992358</th>\n",
       "      <td>5996</td>\n",
       "      <td>3835</td>\n",
       "      <td>3</td>\n",
       "      <td>2002-04-29 20:46:24</td>\n",
       "    </tr>\n",
       "    <tr>\n",
       "      <th>992279</th>\n",
       "      <td>5996</td>\n",
       "      <td>2422</td>\n",
       "      <td>3</td>\n",
       "      <td>2002-04-29 20:47:05</td>\n",
       "    </tr>\n",
       "    <tr>\n",
       "      <th>992702</th>\n",
       "      <td>5996</td>\n",
       "      <td>168</td>\n",
       "      <td>3</td>\n",
       "      <td>2002-09-03 13:12:26</td>\n",
       "    </tr>\n",
       "    <tr>\n",
       "      <th>992459</th>\n",
       "      <td>5996</td>\n",
       "      <td>339</td>\n",
       "      <td>4</td>\n",
       "      <td>2002-10-07 13:24:39</td>\n",
       "    </tr>\n",
       "    <tr>\n",
       "      <th>992387</th>\n",
       "      <td>5996</td>\n",
       "      <td>3882</td>\n",
       "      <td>3</td>\n",
       "      <td>2002-11-04 16:55:55</td>\n",
       "    </tr>\n",
       "  </tbody>\n",
       "</table>\n",
       "<p>21519 rows × 4 columns</p>\n",
       "</div>"
      ],
      "text/plain": [
       "        UserId  ItemId  Rating                Time\n",
       "5170        36    1387       5 2002-03-12 03:46:59\n",
       "5267        36    1201       4 2002-03-12 03:46:59\n",
       "5122        36    1291       5 2002-03-12 03:47:16\n",
       "5123        36    2167       5 2002-03-12 03:48:25\n",
       "5290        36    2951       4 2002-03-12 03:48:25\n",
       "...        ...     ...     ...                 ...\n",
       "992358    5996    3835       3 2002-04-29 20:46:24\n",
       "992279    5996    2422       3 2002-04-29 20:47:05\n",
       "992702    5996     168       3 2002-09-03 13:12:26\n",
       "992459    5996     339       4 2002-10-07 13:24:39\n",
       "992387    5996    3882       3 2002-11-04 16:55:55\n",
       "\n",
       "[21519 rows x 4 columns]"
      ]
     },
     "execution_count": 88,
     "metadata": {},
     "output_type": "execute_result"
    }
   ],
   "source": [
    "month_ago = latest - dt.timedelta(365)     # 최종 날짜로부터 60일 이전 날짜를 구한다.  \n",
    "data = data[data['Time'] > month_ago]   # 방금 구한 날짜 이후의 데이터만 모은다. \n",
    "data"
   ]
  },
  {
   "cell_type": "code",
   "execution_count": 89,
   "id": "8dcf74bb",
   "metadata": {},
   "outputs": [
    {
     "data": {
      "text/html": [
       "<div>\n",
       "<style scoped>\n",
       "    .dataframe tbody tr th:only-of-type {\n",
       "        vertical-align: middle;\n",
       "    }\n",
       "\n",
       "    .dataframe tbody tr th {\n",
       "        vertical-align: top;\n",
       "    }\n",
       "\n",
       "    .dataframe thead th {\n",
       "        text-align: right;\n",
       "    }\n",
       "</style>\n",
       "<table border=\"1\" class=\"dataframe\">\n",
       "  <thead>\n",
       "    <tr style=\"text-align: right;\">\n",
       "      <th></th>\n",
       "      <th>UserId</th>\n",
       "      <th>ItemId</th>\n",
       "      <th>Rating</th>\n",
       "      <th>Time</th>\n",
       "    </tr>\n",
       "  </thead>\n",
       "  <tbody>\n",
       "    <tr>\n",
       "      <th>5170</th>\n",
       "      <td>False</td>\n",
       "      <td>False</td>\n",
       "      <td>False</td>\n",
       "      <td>False</td>\n",
       "    </tr>\n",
       "    <tr>\n",
       "      <th>5267</th>\n",
       "      <td>False</td>\n",
       "      <td>False</td>\n",
       "      <td>False</td>\n",
       "      <td>False</td>\n",
       "    </tr>\n",
       "    <tr>\n",
       "      <th>5122</th>\n",
       "      <td>False</td>\n",
       "      <td>False</td>\n",
       "      <td>False</td>\n",
       "      <td>False</td>\n",
       "    </tr>\n",
       "    <tr>\n",
       "      <th>5123</th>\n",
       "      <td>False</td>\n",
       "      <td>False</td>\n",
       "      <td>False</td>\n",
       "      <td>False</td>\n",
       "    </tr>\n",
       "    <tr>\n",
       "      <th>5290</th>\n",
       "      <td>False</td>\n",
       "      <td>False</td>\n",
       "      <td>False</td>\n",
       "      <td>False</td>\n",
       "    </tr>\n",
       "    <tr>\n",
       "      <th>...</th>\n",
       "      <td>...</td>\n",
       "      <td>...</td>\n",
       "      <td>...</td>\n",
       "      <td>...</td>\n",
       "    </tr>\n",
       "    <tr>\n",
       "      <th>992358</th>\n",
       "      <td>False</td>\n",
       "      <td>False</td>\n",
       "      <td>False</td>\n",
       "      <td>False</td>\n",
       "    </tr>\n",
       "    <tr>\n",
       "      <th>992279</th>\n",
       "      <td>False</td>\n",
       "      <td>False</td>\n",
       "      <td>False</td>\n",
       "      <td>False</td>\n",
       "    </tr>\n",
       "    <tr>\n",
       "      <th>992702</th>\n",
       "      <td>False</td>\n",
       "      <td>False</td>\n",
       "      <td>False</td>\n",
       "      <td>False</td>\n",
       "    </tr>\n",
       "    <tr>\n",
       "      <th>992459</th>\n",
       "      <td>False</td>\n",
       "      <td>False</td>\n",
       "      <td>False</td>\n",
       "      <td>False</td>\n",
       "    </tr>\n",
       "    <tr>\n",
       "      <th>992387</th>\n",
       "      <td>False</td>\n",
       "      <td>False</td>\n",
       "      <td>False</td>\n",
       "      <td>False</td>\n",
       "    </tr>\n",
       "  </tbody>\n",
       "</table>\n",
       "<p>21519 rows × 4 columns</p>\n",
       "</div>"
      ],
      "text/plain": [
       "        UserId  ItemId  Rating   Time\n",
       "5170     False   False   False  False\n",
       "5267     False   False   False  False\n",
       "5122     False   False   False  False\n",
       "5123     False   False   False  False\n",
       "5290     False   False   False  False\n",
       "...        ...     ...     ...    ...\n",
       "992358   False   False   False  False\n",
       "992279   False   False   False  False\n",
       "992702   False   False   False  False\n",
       "992459   False   False   False  False\n",
       "992387   False   False   False  False\n",
       "\n",
       "[21519 rows x 4 columns]"
      ]
     },
     "execution_count": 89,
     "metadata": {},
     "output_type": "execute_result"
    }
   ],
   "source": [
    "data.isnull()"
   ]
  },
  {
   "cell_type": "markdown",
   "id": "f1abf324",
   "metadata": {},
   "source": [
    "### Data Cleansing\n",
    "#### 1.2에서 살펴보니 길이가 1인 세션도 꽤 있습니다. 우리의 목적은 유저가 최소 1개 이상 클릭했을 때 다음 클릭을 예측하는 것이므로 길이가 1인 세션은 제거해준다. 너무 적게 클릭된 아이템은 이상한 아이템일 가능성이 있다. 이 역시 제거해 준다"
   ]
  },
  {
   "cell_type": "code",
   "execution_count": 90,
   "id": "1e739c6f",
   "metadata": {},
   "outputs": [],
   "source": [
    "# short_session을 제거한 다음 unpopular item을 제거하면 다시 길이가 1인 session이 생길 수 있습니다.\n",
    "# 이를 위해 반복문을 통해 지속적으로 제거 합니다.\n",
    "def cleanse_recursive(data: pd.DataFrame, shortest, least_click) -> pd.DataFrame:\n",
    "    while True:\n",
    "        before_len = len(data)\n",
    "        data = cleanse_short_session(data, shortest)\n",
    "        data = cleanse_unpopular_item(data, least_click)\n",
    "        after_len = len(data)\n",
    "        if before_len == after_len:\n",
    "            break\n",
    "    return data\n",
    "\n",
    "\n",
    "def cleanse_short_session(data: pd.DataFrame, shortest):\n",
    "    session_len = data.groupby('UserId').size()\n",
    "    session_use = session_len[session_len >= shortest].index\n",
    "    data = data[data['UserId'].isin(session_use)]\n",
    "    return data\n",
    "\n",
    "\n",
    "def cleanse_unpopular_item(data: pd.DataFrame, least_click):\n",
    "    item_popular = data.groupby('ItemId').size()\n",
    "    item_use = item_popular[item_popular >= least_click].index\n",
    "    data = data[data['ItemId'].isin(item_use)]\n",
    "    return data"
   ]
  },
  {
   "cell_type": "code",
   "execution_count": 91,
   "id": "125ac24c",
   "metadata": {},
   "outputs": [
    {
     "data": {
      "text/html": [
       "<div>\n",
       "<style scoped>\n",
       "    .dataframe tbody tr th:only-of-type {\n",
       "        vertical-align: middle;\n",
       "    }\n",
       "\n",
       "    .dataframe tbody tr th {\n",
       "        vertical-align: top;\n",
       "    }\n",
       "\n",
       "    .dataframe thead th {\n",
       "        text-align: right;\n",
       "    }\n",
       "</style>\n",
       "<table border=\"1\" class=\"dataframe\">\n",
       "  <thead>\n",
       "    <tr style=\"text-align: right;\">\n",
       "      <th></th>\n",
       "      <th>UserId</th>\n",
       "      <th>ItemId</th>\n",
       "      <th>Rating</th>\n",
       "      <th>Time</th>\n",
       "    </tr>\n",
       "  </thead>\n",
       "  <tbody>\n",
       "    <tr>\n",
       "      <th>5170</th>\n",
       "      <td>36</td>\n",
       "      <td>1387</td>\n",
       "      <td>5</td>\n",
       "      <td>2002-03-12 03:46:59</td>\n",
       "    </tr>\n",
       "    <tr>\n",
       "      <th>5267</th>\n",
       "      <td>36</td>\n",
       "      <td>1201</td>\n",
       "      <td>4</td>\n",
       "      <td>2002-03-12 03:46:59</td>\n",
       "    </tr>\n",
       "    <tr>\n",
       "      <th>5122</th>\n",
       "      <td>36</td>\n",
       "      <td>1291</td>\n",
       "      <td>5</td>\n",
       "      <td>2002-03-12 03:47:16</td>\n",
       "    </tr>\n",
       "    <tr>\n",
       "      <th>5123</th>\n",
       "      <td>36</td>\n",
       "      <td>2167</td>\n",
       "      <td>5</td>\n",
       "      <td>2002-03-12 03:48:25</td>\n",
       "    </tr>\n",
       "    <tr>\n",
       "      <th>5290</th>\n",
       "      <td>36</td>\n",
       "      <td>2951</td>\n",
       "      <td>4</td>\n",
       "      <td>2002-03-12 03:48:25</td>\n",
       "    </tr>\n",
       "    <tr>\n",
       "      <th>...</th>\n",
       "      <td>...</td>\n",
       "      <td>...</td>\n",
       "      <td>...</td>\n",
       "      <td>...</td>\n",
       "    </tr>\n",
       "    <tr>\n",
       "      <th>992466</th>\n",
       "      <td>5996</td>\n",
       "      <td>3564</td>\n",
       "      <td>3</td>\n",
       "      <td>2002-04-29 20:33:12</td>\n",
       "    </tr>\n",
       "    <tr>\n",
       "      <th>992279</th>\n",
       "      <td>5996</td>\n",
       "      <td>2422</td>\n",
       "      <td>3</td>\n",
       "      <td>2002-04-29 20:47:05</td>\n",
       "    </tr>\n",
       "    <tr>\n",
       "      <th>992702</th>\n",
       "      <td>5996</td>\n",
       "      <td>168</td>\n",
       "      <td>3</td>\n",
       "      <td>2002-09-03 13:12:26</td>\n",
       "    </tr>\n",
       "    <tr>\n",
       "      <th>992459</th>\n",
       "      <td>5996</td>\n",
       "      <td>339</td>\n",
       "      <td>4</td>\n",
       "      <td>2002-10-07 13:24:39</td>\n",
       "    </tr>\n",
       "    <tr>\n",
       "      <th>992387</th>\n",
       "      <td>5996</td>\n",
       "      <td>3882</td>\n",
       "      <td>3</td>\n",
       "      <td>2002-11-04 16:55:55</td>\n",
       "    </tr>\n",
       "  </tbody>\n",
       "</table>\n",
       "<p>18469 rows × 4 columns</p>\n",
       "</div>"
      ],
      "text/plain": [
       "        UserId  ItemId  Rating                Time\n",
       "5170        36    1387       5 2002-03-12 03:46:59\n",
       "5267        36    1201       4 2002-03-12 03:46:59\n",
       "5122        36    1291       5 2002-03-12 03:47:16\n",
       "5123        36    2167       5 2002-03-12 03:48:25\n",
       "5290        36    2951       4 2002-03-12 03:48:25\n",
       "...        ...     ...     ...                 ...\n",
       "992466    5996    3564       3 2002-04-29 20:33:12\n",
       "992279    5996    2422       3 2002-04-29 20:47:05\n",
       "992702    5996     168       3 2002-09-03 13:12:26\n",
       "992459    5996     339       4 2002-10-07 13:24:39\n",
       "992387    5996    3882       3 2002-11-04 16:55:55\n",
       "\n",
       "[18469 rows x 4 columns]"
      ]
     },
     "execution_count": 91,
     "metadata": {},
     "output_type": "execute_result"
    }
   ],
   "source": [
    "data = cleanse_recursive(data, shortest=2, least_click=5)\n",
    "data"
   ]
  },
  {
   "cell_type": "markdown",
   "id": "f4f80636",
   "metadata": {},
   "source": [
    "### 이제 데이터를 나눠주자\n",
    "### Train / Valid / Test split"
   ]
  },
  {
   "cell_type": "code",
   "execution_count": 93,
   "id": "a700feb3",
   "metadata": {},
   "outputs": [],
   "source": [
    "def split_by_date(data: pd.DataFrame, n_days: int):\n",
    "    final_time = data['Time'].max()\n",
    "    session_last_time = data.groupby('UserId')['Time'].max()\n",
    "    session_in_train = session_last_time[session_last_time < final_time - dt.timedelta(n_days)].index\n",
    "    session_in_test = session_last_time[session_last_time >= final_time - dt.timedelta(n_days)].index\n",
    "\n",
    "    before_date = data[data['UserId'].isin(session_in_train)]\n",
    "    after_date = data[data['UserId'].isin(session_in_test)]\n",
    "    after_date = after_date[after_date['ItemId'].isin(before_date['ItemId'])]\n",
    "    return before_date, after_date"
   ]
  },
  {
   "cell_type": "code",
   "execution_count": 94,
   "id": "23890c76",
   "metadata": {},
   "outputs": [],
   "source": [
    "tr, test = split_by_date(data, n_days=30)\n",
    "tr, val = split_by_date(tr, n_days=30)"
   ]
  },
  {
   "cell_type": "code",
   "execution_count": 95,
   "id": "118b4113",
   "metadata": {},
   "outputs": [],
   "source": [
    "def stats_info(data: pd.DataFrame, status: str):\n",
    "    print(f'* {status} Set Stats Info\\n'\n",
    "          f'\\t Events: {len(data)}\\n'\n",
    "          f'\\t Sessions: {data[\"UserId\"].nunique()}\\n'\n",
    "          f'\\t Items: {data[\"ItemId\"].nunique()}\\n'\n",
    "          f'\\t First Time : {data[\"Time\"].min()}\\n'\n",
    "          f'\\t Last Time : {data[\"Time\"].max()}\\n')"
   ]
  },
  {
   "cell_type": "code",
   "execution_count": 96,
   "id": "eabbe1c5",
   "metadata": {},
   "outputs": [
    {
     "name": "stdout",
     "output_type": "stream",
     "text": [
      "* train Set Stats Info\n",
      "\t Events: 9767\n",
      "\t Sessions: 286\n",
      "\t Items: 1503\n",
      "\t First Time : 2002-02-28 19:06:39\n",
      "\t Last Time : 2002-12-30 02:26:14\n",
      "\n",
      "* valid Set Stats Info\n",
      "\t Events: 2541\n",
      "\t Sessions: 81\n",
      "\t Items: 1124\n",
      "\t First Time : 2002-02-28 23:32:05\n",
      "\t Last Time : 2003-01-29 03:00:40\n",
      "\n",
      "* test Set Stats Info\n",
      "\t Events: 6135\n",
      "\t Sessions: 95\n",
      "\t Items: 1485\n",
      "\t First Time : 2002-03-01 04:03:30\n",
      "\t Last Time : 2003-02-28 17:49:50\n",
      "\n"
     ]
    }
   ],
   "source": [
    "stats_info(tr, 'train')\n",
    "stats_info(val, 'valid')\n",
    "stats_info(test, 'test')"
   ]
  },
  {
   "cell_type": "code",
   "execution_count": 97,
   "id": "e9f47b49",
   "metadata": {},
   "outputs": [],
   "source": [
    "# train set에 없는 아이템이 val, test기간에 생길 수 있으므로 train data를 기준으로 인덱싱합니다.\n",
    "id2idx = {item_id : index for index, item_id in enumerate(tr['ItemId'].unique())}\n",
    "\n",
    "def indexing(df, id2idx):\n",
    "    df['item_idx'] = df['ItemId'].map(lambda x: id2idx.get(x, -1))  # id2idx에 없는 아이템은 모르는 값(-1) 처리 해줍니다.\n",
    "    return df\n",
    "\n",
    "tr = indexing(tr, id2idx)\n",
    "val = indexing(val, id2idx)\n",
    "test = indexing(test, id2idx)"
   ]
  },
  {
   "cell_type": "code",
   "execution_count": 98,
   "id": "cfa4a0a6",
   "metadata": {},
   "outputs": [],
   "source": [
    "save_path = data_path / 'jang'\n",
    "save_path.mkdir(parents=True, exist_ok=True)\n",
    "\n",
    "tr.to_pickle(save_path / 'train.pkl')\n",
    "val.to_pickle(save_path / 'valid.pkl')\n",
    "test.to_pickle(save_path / 'test.pkl')"
   ]
  },
  {
   "cell_type": "markdown",
   "id": "71b4a522",
   "metadata": {},
   "source": [
    "### 이제 데이터도 잘 나누었고, 데이터 파이프라인을 구축해주자.\n",
    "### data pipeline"
   ]
  },
  {
   "cell_type": "code",
   "execution_count": 99,
   "id": "50387060",
   "metadata": {},
   "outputs": [],
   "source": [
    "class SessionDataset:\n",
    "    \"\"\"Credit to yhs-968/pyGRU4REC.\"\"\"\n",
    "\n",
    "    def __init__(self, data):\n",
    "        self.df = data\n",
    "        self.click_offsets = self.get_click_offsets()\n",
    "        self.session_idx = np.arange(self.df['UserId'].nunique())  # indexing to SessionId\n",
    "\n",
    "    def get_click_offsets(self):\n",
    "        \"\"\"\n",
    "        Return the indexes of the first click of each session IDs,\n",
    "        \"\"\"\n",
    "        offsets = np.zeros(self.df['UserId'].nunique() + 1, dtype=np.int32)\n",
    "        offsets[1:] = self.df.groupby('UserId').size().cumsum()\n",
    "        return offsets"
   ]
  },
  {
   "cell_type": "code",
   "execution_count": 100,
   "id": "bc5294b6",
   "metadata": {},
   "outputs": [
    {
     "data": {
      "text/html": [
       "<div>\n",
       "<style scoped>\n",
       "    .dataframe tbody tr th:only-of-type {\n",
       "        vertical-align: middle;\n",
       "    }\n",
       "\n",
       "    .dataframe tbody tr th {\n",
       "        vertical-align: top;\n",
       "    }\n",
       "\n",
       "    .dataframe thead th {\n",
       "        text-align: right;\n",
       "    }\n",
       "</style>\n",
       "<table border=\"1\" class=\"dataframe\">\n",
       "  <thead>\n",
       "    <tr style=\"text-align: right;\">\n",
       "      <th></th>\n",
       "      <th>UserId</th>\n",
       "      <th>ItemId</th>\n",
       "      <th>Rating</th>\n",
       "      <th>Time</th>\n",
       "      <th>item_idx</th>\n",
       "    </tr>\n",
       "  </thead>\n",
       "  <tbody>\n",
       "    <tr>\n",
       "      <th>5170</th>\n",
       "      <td>36</td>\n",
       "      <td>1387</td>\n",
       "      <td>5</td>\n",
       "      <td>2002-03-12 03:46:59</td>\n",
       "      <td>0</td>\n",
       "    </tr>\n",
       "    <tr>\n",
       "      <th>5267</th>\n",
       "      <td>36</td>\n",
       "      <td>1201</td>\n",
       "      <td>4</td>\n",
       "      <td>2002-03-12 03:46:59</td>\n",
       "      <td>1</td>\n",
       "    </tr>\n",
       "    <tr>\n",
       "      <th>5122</th>\n",
       "      <td>36</td>\n",
       "      <td>1291</td>\n",
       "      <td>5</td>\n",
       "      <td>2002-03-12 03:47:16</td>\n",
       "      <td>2</td>\n",
       "    </tr>\n",
       "    <tr>\n",
       "      <th>5123</th>\n",
       "      <td>36</td>\n",
       "      <td>2167</td>\n",
       "      <td>5</td>\n",
       "      <td>2002-03-12 03:48:25</td>\n",
       "      <td>3</td>\n",
       "    </tr>\n",
       "    <tr>\n",
       "      <th>5290</th>\n",
       "      <td>36</td>\n",
       "      <td>2951</td>\n",
       "      <td>4</td>\n",
       "      <td>2002-03-12 03:48:25</td>\n",
       "      <td>4</td>\n",
       "    </tr>\n",
       "    <tr>\n",
       "      <th>5359</th>\n",
       "      <td>36</td>\n",
       "      <td>2115</td>\n",
       "      <td>5</td>\n",
       "      <td>2002-03-12 03:48:25</td>\n",
       "      <td>5</td>\n",
       "    </tr>\n",
       "    <tr>\n",
       "      <th>5073</th>\n",
       "      <td>36</td>\n",
       "      <td>1912</td>\n",
       "      <td>5</td>\n",
       "      <td>2002-03-12 03:48:44</td>\n",
       "      <td>6</td>\n",
       "    </tr>\n",
       "    <tr>\n",
       "      <th>5113</th>\n",
       "      <td>36</td>\n",
       "      <td>2662</td>\n",
       "      <td>3</td>\n",
       "      <td>2002-03-12 03:48:44</td>\n",
       "      <td>7</td>\n",
       "    </tr>\n",
       "    <tr>\n",
       "      <th>5366</th>\n",
       "      <td>36</td>\n",
       "      <td>2985</td>\n",
       "      <td>4</td>\n",
       "      <td>2002-03-12 03:49:01</td>\n",
       "      <td>8</td>\n",
       "    </tr>\n",
       "    <tr>\n",
       "      <th>5145</th>\n",
       "      <td>36</td>\n",
       "      <td>198</td>\n",
       "      <td>5</td>\n",
       "      <td>2002-03-12 03:49:48</td>\n",
       "      <td>9</td>\n",
       "    </tr>\n",
       "  </tbody>\n",
       "</table>\n",
       "</div>"
      ],
      "text/plain": [
       "      UserId  ItemId  Rating                Time  item_idx\n",
       "5170      36    1387       5 2002-03-12 03:46:59         0\n",
       "5267      36    1201       4 2002-03-12 03:46:59         1\n",
       "5122      36    1291       5 2002-03-12 03:47:16         2\n",
       "5123      36    2167       5 2002-03-12 03:48:25         3\n",
       "5290      36    2951       4 2002-03-12 03:48:25         4\n",
       "5359      36    2115       5 2002-03-12 03:48:25         5\n",
       "5073      36    1912       5 2002-03-12 03:48:44         6\n",
       "5113      36    2662       3 2002-03-12 03:48:44         7\n",
       "5366      36    2985       4 2002-03-12 03:49:01         8\n",
       "5145      36     198       5 2002-03-12 03:49:48         9"
      ]
     },
     "execution_count": 100,
     "metadata": {},
     "output_type": "execute_result"
    }
   ],
   "source": [
    "tr_dataset = SessionDataset(tr)\n",
    "tr_dataset.df.head(10)"
   ]
  },
  {
   "cell_type": "code",
   "execution_count": 174,
   "id": "c8eb2968",
   "metadata": {},
   "outputs": [
    {
     "data": {
      "text/plain": [
       "array([   0,   30,   37,   49,   54,   56,   58,   79,   85,  102,  113,\n",
       "        162,  231,  243,  323,  358,  378,  387,  397,  403,  406,  442,\n",
       "        471,  477,  498,  608,  623,  638,  640,  689,  696,  700,  702,\n",
       "        844,  850,  856,  900,  908,  918,  958,  962,  970,  972,  974,\n",
       "        990,  993, 1033, 1043, 1052, 1105, 1218, 1224, 1348, 1351, 1355,\n",
       "       1856, 1875, 1906, 1920, 1922, 1946, 1949, 1955, 1964, 1972, 1975,\n",
       "       2019, 2025, 2062, 2087, 2121, 2220, 2255, 2266, 2313, 2421, 2424,\n",
       "       2440, 2458, 2518, 2531, 2595, 2618, 2631, 2636, 2858, 2888, 2898,\n",
       "       2962, 2976, 3143, 3244, 3262, 3264, 3293, 3330, 3412, 3428, 3434,\n",
       "       3460, 3465, 3478, 3480, 3510, 3513, 3523, 3526, 3533, 3545, 3608,\n",
       "       3669, 3686, 3708, 3714, 3727, 3729, 3743, 3766, 3866, 3870, 3908,\n",
       "       3919, 3937, 3967, 3980, 4043, 4066, 4115, 4121, 4260, 4324, 4334,\n",
       "       4415, 4418, 4423, 4431, 4437, 4444, 4462, 4491, 4494, 4522, 4760,\n",
       "       4762, 4836, 4905, 4911, 5004, 5020, 5152, 5182, 5240, 5289, 5300,\n",
       "       5364, 5367, 5393, 5405, 5440, 5443, 5449, 5497, 5501, 5523, 5526,\n",
       "       5537, 5552, 5566, 5690, 5717, 5745, 5747, 5750, 5764, 5848, 5904,\n",
       "       5959, 5972, 5974, 6010, 6034, 6117, 6317, 6341, 6344, 6349, 6458,\n",
       "       6472, 6475, 6485, 6491, 6499, 6504, 6510, 6527, 6529, 6558, 6588,\n",
       "       6645, 6664, 6666, 6743, 6897, 6935, 6938, 6952, 6991, 6999, 7025,\n",
       "       7067, 7330, 7371, 7401, 7408, 7416, 7425, 7439, 7591, 7602, 7605,\n",
       "       7667, 7669, 7693, 7700, 7726, 7739, 7830, 7848, 7850, 8023, 8081,\n",
       "       8083, 8087, 8109, 8113, 8137, 8149, 8155, 8173, 8378, 8399, 8553,\n",
       "       8583, 8624, 8710, 8732, 8762, 8773, 8820, 8836, 8869, 8872, 8875,\n",
       "       8903, 8908, 8926, 9009, 9021, 9045, 9051, 9068, 9075, 9108, 9117,\n",
       "       9120, 9122, 9124, 9211, 9283, 9299, 9317, 9319, 9321, 9328, 9340,\n",
       "       9356, 9431, 9440, 9468, 9560, 9564, 9609, 9614, 9635, 9639, 9653,\n",
       "       9767], dtype=int32)"
      ]
     },
     "execution_count": 174,
     "metadata": {},
     "output_type": "execute_result"
    }
   ],
   "source": [
    "tr_dataset.click_offsets"
   ]
  },
  {
   "cell_type": "code",
   "execution_count": 175,
   "id": "0401303f",
   "metadata": {},
   "outputs": [
    {
     "data": {
      "text/plain": [
       "array([  0,   1,   2,   3,   4,   5,   6,   7,   8,   9,  10,  11,  12,\n",
       "        13,  14,  15,  16,  17,  18,  19,  20,  21,  22,  23,  24,  25,\n",
       "        26,  27,  28,  29,  30,  31,  32,  33,  34,  35,  36,  37,  38,\n",
       "        39,  40,  41,  42,  43,  44,  45,  46,  47,  48,  49,  50,  51,\n",
       "        52,  53,  54,  55,  56,  57,  58,  59,  60,  61,  62,  63,  64,\n",
       "        65,  66,  67,  68,  69,  70,  71,  72,  73,  74,  75,  76,  77,\n",
       "        78,  79,  80,  81,  82,  83,  84,  85,  86,  87,  88,  89,  90,\n",
       "        91,  92,  93,  94,  95,  96,  97,  98,  99, 100, 101, 102, 103,\n",
       "       104, 105, 106, 107, 108, 109, 110, 111, 112, 113, 114, 115, 116,\n",
       "       117, 118, 119, 120, 121, 122, 123, 124, 125, 126, 127, 128, 129,\n",
       "       130, 131, 132, 133, 134, 135, 136, 137, 138, 139, 140, 141, 142,\n",
       "       143, 144, 145, 146, 147, 148, 149, 150, 151, 152, 153, 154, 155,\n",
       "       156, 157, 158, 159, 160, 161, 162, 163, 164, 165, 166, 167, 168,\n",
       "       169, 170, 171, 172, 173, 174, 175, 176, 177, 178, 179, 180, 181,\n",
       "       182, 183, 184, 185, 186, 187, 188, 189, 190, 191, 192, 193, 194,\n",
       "       195, 196, 197, 198, 199, 200, 201, 202, 203, 204, 205, 206, 207,\n",
       "       208, 209, 210, 211, 212, 213, 214, 215, 216, 217, 218, 219, 220,\n",
       "       221, 222, 223, 224, 225, 226, 227, 228, 229, 230, 231, 232, 233,\n",
       "       234, 235, 236, 237, 238, 239, 240, 241, 242, 243, 244, 245, 246,\n",
       "       247, 248, 249, 250, 251, 252, 253, 254, 255, 256, 257, 258, 259,\n",
       "       260, 261, 262, 263, 264, 265, 266, 267, 268, 269, 270, 271, 272,\n",
       "       273, 274, 275, 276, 277, 278, 279, 280, 281, 282, 283, 284, 285])"
      ]
     },
     "execution_count": 175,
     "metadata": {},
     "output_type": "execute_result"
    }
   ],
   "source": [
    "tr_dataset.session_idx\n"
   ]
  },
  {
   "cell_type": "code",
   "execution_count": 159,
   "id": "9d488167",
   "metadata": {},
   "outputs": [],
   "source": [
    "class SessionDataLoader:\n",
    "    \"\"\"Credit to yhs-968/pyGRU4REC.\"\"\"\n",
    "\n",
    "    def __init__(self, dataset: SessionDataset, batch_size=50):\n",
    "        self.dataset = dataset\n",
    "        self.batch_size = batch_size\n",
    "\n",
    "    def __iter__(self):\n",
    "        \"\"\" Returns the iterator for producing session-parallel training mini-batches.\n",
    "        Yields:\n",
    "            input (B,):  Item indices that will be encoded as one-hot vectors later.\n",
    "            target (B,): a Variable that stores the target item indices\n",
    "            masks: Numpy array indicating the positions of the sessions to be terminated\n",
    "        \"\"\"\n",
    "\n",
    "        start, end, mask, last_session, finished = self.initialize()  # initialize 메소드에서 확인해주세요.\n",
    "        \"\"\"\n",
    "        start : Index Where Session Start\n",
    "        end : Index Where Session End\n",
    "        mask : indicator for the sessions to be terminated\n",
    "        \"\"\"\n",
    "\n",
    "        while not finished:\n",
    "            min_len = (end - start).min() - 1  # Shortest Length Among Sessions\n",
    "            for i in range(min_len):\n",
    "                # Build inputs & targets\n",
    "                inp = self.dataset.df['item_idx'].values[start + i]\n",
    "                target = self.dataset.df['item_idx'].values[start + i + 1]\n",
    "                yield inp, target, mask\n",
    "\n",
    "            start, end, mask, last_session, finished = self.update_status(start, end, min_len, last_session, finished)\n",
    "\n",
    "    def initialize(self):\n",
    "        first_iters = np.arange(self.batch_size)    # 첫 배치에 사용할 세션 Index를 가져옵니다.\n",
    "        last_session = self.batch_size - 1    # 마지막으로 다루고 있는 세션 Index를 저장해둡니다.\n",
    "        start = self.dataset.click_offsets[self.dataset.session_idx[first_iters]]       # data 상에서 session이 시작된 위치를 가져옵니다.\n",
    "        end = self.dataset.click_offsets[self.dataset.session_idx[first_iters] + 1]  # session이 끝난 위치 바로 다음 위치를 가져옵니다.\n",
    "        mask = np.array([])   # session의 모든 아이템을 다 돌은 경우 mask에 추가해줄 것입니다.\n",
    "        finished = False         # data를 전부 돌았는지 기록하기 위한 변수입니다.\n",
    "        return start, end, mask, last_session, finished\n",
    "\n",
    "    def update_status(self, start: np.ndarray, end: np.ndarray, min_len: int, last_session: int, finished: bool):  \n",
    "        # 다음 배치 데이터를 생성하기 위해 상태를 update합니다.\n",
    "        \n",
    "        start += min_len   # __iter__에서 min_len 만큼 for문을 돌았으므로 start를 min_len 만큼 더해줍니다.\n",
    "        mask = np.arange(self.batch_size)[(end - start) == 1]  \n",
    "        # end는 다음 세션이 시작되는 위치인데 start와 한 칸 차이난다는 것은 session이 끝났다는 뜻입니다. mask에 기록해줍니다.\n",
    "\n",
    "        for i, idx in enumerate(mask, start=1):  # mask에 추가된 세션 개수만큼 새로운 세션을 돌것입니다.\n",
    "            new_session = last_session + i  \n",
    "            if new_session > self.dataset.session_idx[-1]:  # 만약 새로운 세션이 마지막 세션 index보다 크다면 모든 학습데이터를 돈 것입니다.\n",
    "                finished = True\n",
    "                break\n",
    "            # update the next starting/ending point\n",
    "            start[idx] = self.dataset.click_offsets[self.dataset.session_idx[new_session]]     # 종료된 세션 대신 새로운 세션의 시작점을 기록합니다.\n",
    "            end[idx] = self.dataset.click_offsets[self.dataset.session_idx[new_session] +1]\n",
    "\n",
    "        last_session += len(mask)  # 마지막 세션의 위치를 기록해둡니다.\n",
    "        return start, end, mask, last_session, finished"
   ]
  },
  {
   "cell_type": "code",
   "execution_count": 160,
   "id": "f518f2a4",
   "metadata": {},
   "outputs": [
    {
     "data": {
      "text/plain": [
       "array([   0,   30,   37,   49,   54,   56,   58,   79,   85,  102,  113,\n",
       "        162,  231,  243,  323,  358,  378,  387,  397,  403,  406,  442,\n",
       "        471,  477,  498,  608,  623,  638,  640,  689,  696,  700,  702,\n",
       "        844,  850,  856,  900,  908,  918,  958,  962,  970,  972,  974,\n",
       "        990,  993, 1033, 1043, 1052, 1105, 1218, 1224, 1348, 1351, 1355,\n",
       "       1856, 1875, 1906, 1920, 1922, 1946, 1949, 1955, 1964, 1972, 1975,\n",
       "       2019, 2025, 2062, 2087, 2121, 2220, 2255, 2266, 2313, 2421, 2424,\n",
       "       2440, 2458, 2518, 2531, 2595, 2618, 2631, 2636, 2858, 2888, 2898,\n",
       "       2962, 2976, 3143, 3244, 3262, 3264, 3293, 3330, 3412, 3428, 3434,\n",
       "       3460, 3465, 3478, 3480, 3510, 3513, 3523, 3526, 3533, 3545, 3608,\n",
       "       3669, 3686, 3708, 3714, 3727, 3729, 3743, 3766, 3866, 3870, 3908,\n",
       "       3919, 3937, 3967, 3980, 4043, 4066, 4115, 4121, 4260, 4324, 4334,\n",
       "       4415, 4418, 4423, 4431, 4437, 4444, 4462, 4491, 4494, 4522, 4760,\n",
       "       4762, 4836, 4905, 4911, 5004, 5020, 5152, 5182, 5240, 5289, 5300,\n",
       "       5364, 5367, 5393, 5405, 5440, 5443, 5449, 5497, 5501, 5523, 5526,\n",
       "       5537, 5552, 5566, 5690, 5717, 5745, 5747, 5750, 5764, 5848, 5904,\n",
       "       5959, 5972, 5974, 6010, 6034, 6117, 6317, 6341, 6344, 6349, 6458,\n",
       "       6472, 6475, 6485, 6491, 6499, 6504, 6510, 6527, 6529, 6558, 6588,\n",
       "       6645, 6664, 6666, 6743, 6897, 6935, 6938, 6952, 6991, 6999, 7025,\n",
       "       7067, 7330, 7371, 7401, 7408, 7416, 7425, 7439, 7591, 7602, 7605,\n",
       "       7667, 7669, 7693, 7700, 7726, 7739, 7830, 7848, 7850, 8023, 8081,\n",
       "       8083, 8087, 8109, 8113, 8137, 8149, 8155, 8173, 8378, 8399, 8553,\n",
       "       8583, 8624, 8710, 8732, 8762, 8773, 8820, 8836, 8869, 8872, 8875,\n",
       "       8903, 8908, 8926, 9009, 9021, 9045, 9051, 9068, 9075, 9108, 9117,\n",
       "       9120, 9122, 9124, 9211, 9283, 9299, 9317, 9319, 9321, 9328, 9340,\n",
       "       9356, 9431, 9440, 9468, 9560, 9564, 9609, 9614, 9635, 9639, 9653,\n",
       "       9767], dtype=int32)"
      ]
     },
     "execution_count": 160,
     "metadata": {},
     "output_type": "execute_result"
    }
   ],
   "source": [
    "tr_data_loader.dataset.click_offsets"
   ]
  },
  {
   "cell_type": "code",
   "execution_count": 161,
   "id": "27777b98",
   "metadata": {},
   "outputs": [
    {
     "data": {
      "text/html": [
       "<div>\n",
       "<style scoped>\n",
       "    .dataframe tbody tr th:only-of-type {\n",
       "        vertical-align: middle;\n",
       "    }\n",
       "\n",
       "    .dataframe tbody tr th {\n",
       "        vertical-align: top;\n",
       "    }\n",
       "\n",
       "    .dataframe thead th {\n",
       "        text-align: right;\n",
       "    }\n",
       "</style>\n",
       "<table border=\"1\" class=\"dataframe\">\n",
       "  <thead>\n",
       "    <tr style=\"text-align: right;\">\n",
       "      <th></th>\n",
       "      <th>UserId</th>\n",
       "      <th>ItemId</th>\n",
       "      <th>Rating</th>\n",
       "      <th>Time</th>\n",
       "      <th>item_idx</th>\n",
       "    </tr>\n",
       "  </thead>\n",
       "  <tbody>\n",
       "    <tr>\n",
       "      <th>5170</th>\n",
       "      <td>36</td>\n",
       "      <td>1387</td>\n",
       "      <td>5</td>\n",
       "      <td>2002-03-12 03:46:59</td>\n",
       "      <td>0</td>\n",
       "    </tr>\n",
       "    <tr>\n",
       "      <th>5267</th>\n",
       "      <td>36</td>\n",
       "      <td>1201</td>\n",
       "      <td>4</td>\n",
       "      <td>2002-03-12 03:46:59</td>\n",
       "      <td>1</td>\n",
       "    </tr>\n",
       "    <tr>\n",
       "      <th>5122</th>\n",
       "      <td>36</td>\n",
       "      <td>1291</td>\n",
       "      <td>5</td>\n",
       "      <td>2002-03-12 03:47:16</td>\n",
       "      <td>2</td>\n",
       "    </tr>\n",
       "    <tr>\n",
       "      <th>5123</th>\n",
       "      <td>36</td>\n",
       "      <td>2167</td>\n",
       "      <td>5</td>\n",
       "      <td>2002-03-12 03:48:25</td>\n",
       "      <td>3</td>\n",
       "    </tr>\n",
       "    <tr>\n",
       "      <th>5290</th>\n",
       "      <td>36</td>\n",
       "      <td>2951</td>\n",
       "      <td>4</td>\n",
       "      <td>2002-03-12 03:48:25</td>\n",
       "      <td>4</td>\n",
       "    </tr>\n",
       "    <tr>\n",
       "      <th>5359</th>\n",
       "      <td>36</td>\n",
       "      <td>2115</td>\n",
       "      <td>5</td>\n",
       "      <td>2002-03-12 03:48:25</td>\n",
       "      <td>5</td>\n",
       "    </tr>\n",
       "    <tr>\n",
       "      <th>5073</th>\n",
       "      <td>36</td>\n",
       "      <td>1912</td>\n",
       "      <td>5</td>\n",
       "      <td>2002-03-12 03:48:44</td>\n",
       "      <td>6</td>\n",
       "    </tr>\n",
       "    <tr>\n",
       "      <th>5113</th>\n",
       "      <td>36</td>\n",
       "      <td>2662</td>\n",
       "      <td>3</td>\n",
       "      <td>2002-03-12 03:48:44</td>\n",
       "      <td>7</td>\n",
       "    </tr>\n",
       "    <tr>\n",
       "      <th>5366</th>\n",
       "      <td>36</td>\n",
       "      <td>2985</td>\n",
       "      <td>4</td>\n",
       "      <td>2002-03-12 03:49:01</td>\n",
       "      <td>8</td>\n",
       "    </tr>\n",
       "    <tr>\n",
       "      <th>5145</th>\n",
       "      <td>36</td>\n",
       "      <td>198</td>\n",
       "      <td>5</td>\n",
       "      <td>2002-03-12 03:49:48</td>\n",
       "      <td>9</td>\n",
       "    </tr>\n",
       "  </tbody>\n",
       "</table>\n",
       "</div>"
      ],
      "text/plain": [
       "      UserId  ItemId  Rating                Time  item_idx\n",
       "5170      36    1387       5 2002-03-12 03:46:59         0\n",
       "5267      36    1201       4 2002-03-12 03:46:59         1\n",
       "5122      36    1291       5 2002-03-12 03:47:16         2\n",
       "5123      36    2167       5 2002-03-12 03:48:25         3\n",
       "5290      36    2951       4 2002-03-12 03:48:25         4\n",
       "5359      36    2115       5 2002-03-12 03:48:25         5\n",
       "5073      36    1912       5 2002-03-12 03:48:44         6\n",
       "5113      36    2662       3 2002-03-12 03:48:44         7\n",
       "5366      36    2985       4 2002-03-12 03:49:01         8\n",
       "5145      36     198       5 2002-03-12 03:49:48         9"
      ]
     },
     "execution_count": 161,
     "metadata": {},
     "output_type": "execute_result"
    }
   ],
   "source": [
    "tr_data_loader = SessionDataLoader(tr_dataset, batch_size=4)\n",
    "tr_dataset.df.head(10)"
   ]
  },
  {
   "cell_type": "code",
   "execution_count": 162,
   "id": "09714552",
   "metadata": {},
   "outputs": [],
   "source": [
    "iter_ex = iter(tr_data_loader)"
   ]
  },
  {
   "cell_type": "code",
   "execution_count": 163,
   "id": "c78ceba4",
   "metadata": {},
   "outputs": [
    {
     "name": "stdout",
     "output_type": "stream",
     "text": [
      "Model Input Item Idx are : [ 0 30 37 48]\n",
      "Label Item Idx are :       [ 1 31 38 49]\n",
      "Previous Masked Input Idx are []\n"
     ]
    }
   ],
   "source": [
    "inputs, labels, mask =  next(iter_ex)\n",
    "print(f'Model Input Item Idx are : {inputs}')\n",
    "print(f'Label Item Idx are : {\"\":5} {labels}')\n",
    "print(f'Previous Masked Input Idx are {mask}')"
   ]
  },
  {
   "cell_type": "markdown",
   "id": "fa2d8add",
   "metadata": {},
   "source": [
    "### Modeling\n",
    "### Evaluation Metric"
   ]
  },
  {
   "cell_type": "code",
   "execution_count": 164,
   "id": "babbe13a",
   "metadata": {},
   "outputs": [],
   "source": [
    "def mrr_k(pred, truth: int, k: int):\n",
    "    indexing = np.where(pred[:k] == truth)[0]\n",
    "    if len(indexing) > 0:\n",
    "        return 1 / (indexing[0] + 1)\n",
    "    else:\n",
    "        return 0\n",
    "\n",
    "\n",
    "def recall_k(pred, truth: int, k: int) -> int:\n",
    "    answer = truth in pred[:k]\n",
    "    return int(answer)"
   ]
  },
  {
   "cell_type": "markdown",
   "id": "32ab1c11",
   "metadata": {},
   "source": [
    "### Model Architecture"
   ]
  },
  {
   "cell_type": "code",
   "execution_count": 200,
   "id": "d0ee3ecc",
   "metadata": {},
   "outputs": [],
   "source": [
    "import numpy as np\n",
    "import tensorflow as tf\n",
    "from tensorflow.keras.layers import Input, Dense, Dropout, GRU\n",
    "from tensorflow.keras.losses import categorical_crossentropy\n",
    "from tensorflow.keras.models import Model\n",
    "from tensorflow.keras.optimizers import Adam\n",
    "from tensorflow.keras.utils import to_categorical\n",
    "from tqdm import tqdm"
   ]
  },
  {
   "cell_type": "code",
   "execution_count": 201,
   "id": "6584737b",
   "metadata": {},
   "outputs": [],
   "source": [
    "def create_model(args):\n",
    "    inputs = Input(batch_shape=(args.batch_size, 1, args.num_items))\n",
    "    gru, _ = GRU(args.hsz, stateful=True, return_state=True, name='GRU')(inputs)\n",
    "    dropout = Dropout(args.drop_rate)(gru)\n",
    "    predictions = Dense(args.num_items, activation='softmax')(dropout)\n",
    "    model = Model(inputs=inputs, outputs=[predictions])\n",
    "    model.compile(loss=categorical_crossentropy, optimizer=Adam(args.lr), metrics=['accuracy'])\n",
    "    model.summary()\n",
    "    return model"
   ]
  },
  {
   "cell_type": "code",
   "execution_count": 211,
   "id": "d54e1633",
   "metadata": {},
   "outputs": [],
   "source": [
    "class Args:\n",
    "    def __init__(self, tr, val, test, batch_size, hsz, drop_rate, lr, epochs, k):\n",
    "        self.tr = tr\n",
    "        self.val = val\n",
    "        self.test = test\n",
    "        self.num_items = tr['ItemId'].nunique()\n",
    "        self.num_sessions = tr['UserId'].nunique()\n",
    "        self.batch_size = batch_size\n",
    "        self.hsz = hsz\n",
    "        self.drop_rate = drop_rate\n",
    "        self.lr = lr\n",
    "        self.epochs = epochs\n",
    "        self.k = k\n",
    "\n",
    "args = Args(tr, val, test, batch_size=64, hsz=50, drop_rate=0.1, lr=0.001, epochs=29, k=20)"
   ]
  },
  {
   "cell_type": "code",
   "execution_count": 212,
   "id": "f7d02aa0",
   "metadata": {},
   "outputs": [
    {
     "name": "stdout",
     "output_type": "stream",
     "text": [
      "Model: \"model_14\"\n",
      "_________________________________________________________________\n",
      "Layer (type)                 Output Shape              Param #   \n",
      "=================================================================\n",
      "input_15 (InputLayer)        [(64, 1, 1503)]           0         \n",
      "_________________________________________________________________\n",
      "GRU (GRU)                    [(64, 50), (64, 50)]      233250    \n",
      "_________________________________________________________________\n",
      "dropout_14 (Dropout)         (64, 50)                  0         \n",
      "_________________________________________________________________\n",
      "dense_14 (Dense)             (64, 1503)                76653     \n",
      "=================================================================\n",
      "Total params: 309,903\n",
      "Trainable params: 309,903\n",
      "Non-trainable params: 0\n",
      "_________________________________________________________________\n"
     ]
    }
   ],
   "source": [
    "model = create_model(args)"
   ]
  },
  {
   "cell_type": "markdown",
   "id": "9dab0fcb",
   "metadata": {},
   "source": [
    "### Model Training"
   ]
  },
  {
   "cell_type": "code",
   "execution_count": 213,
   "id": "b7a97446",
   "metadata": {},
   "outputs": [],
   "source": [
    "# train 셋으로 학습하면서 valid 셋으로 검증합니다.\n",
    "def train_model(model, args):\n",
    "    train_dataset = SessionDataset(args.tr)\n",
    "    train_loader = SessionDataLoader(train_dataset, batch_size=args.batch_size)\n",
    "\n",
    "    for epoch in range(1, args.epochs + 1):\n",
    "        total_step = len(args.tr) - args.tr['UserId'].nunique()\n",
    "        tr_loader = tqdm(train_loader, total=total_step // args.batch_size, desc='Train', mininterval=1)\n",
    "        for feat, target, mask in tr_loader:\n",
    "            reset_hidden_states(model, mask)  # 종료된 session은 hidden_state를 초기화합니다. 아래 메서드에서 확인해주세요.\n",
    "\n",
    "            input_ohe = to_categorical(feat, num_classes=args.num_items)\n",
    "            input_ohe = np.expand_dims(input_ohe, axis=1)\n",
    "            target_ohe = to_categorical(target, num_classes=args.num_items)\n",
    "\n",
    "            result = model.train_on_batch(input_ohe, target_ohe)\n",
    "            tr_loader.set_postfix(train_loss=result[0], accuracy = result[1])\n",
    "\n",
    "        val_recall, val_mrr = get_metrics(args.val, model, args, args.k)  # valid set에 대해 검증합니다.\n",
    "\n",
    "        print(f\"\\t - Recall@{args.k} epoch {epoch}: {val_recall:3f}\")\n",
    "        print(f\"\\t - MRR@{args.k}    epoch {epoch}: {val_mrr:3f}\\n\")\n",
    "\n",
    "\n",
    "def reset_hidden_states(model, mask):\n",
    "    gru_layer = model.get_layer(name='GRU')  # model에서 gru layer를 가져옵니다.\n",
    "    hidden_states = gru_layer.states[0].numpy()  # gru_layer의 parameter를 가져옵니다.\n",
    "    for elt in mask:  # mask된 인덱스 즉, 종료된 세션의 인덱스를 돌면서\n",
    "        hidden_states[elt, :] = 0  # parameter를 초기화 합니다.\n",
    "    gru_layer.reset_states(states=hidden_states)\n",
    "\n",
    "\n",
    "def get_metrics(data, model, args, k: int):  # valid셋과 test셋을 평가하는 코드입니다. \n",
    "                                             # train과 거의 같지만 mrr, recall을 구하는 라인이 있습니다.\n",
    "    dataset = SessionDataset(data)\n",
    "    loader = SessionDataLoader(dataset, batch_size=args.batch_size)\n",
    "    recall_list, mrr_list = [], []\n",
    "\n",
    "    total_step = len(data) - data['UserId'].nunique()\n",
    "    for inputs, label, mask in tqdm(loader, total=total_step // args.batch_size, desc='Evaluation', mininterval=1):\n",
    "        reset_hidden_states(model, mask)\n",
    "        input_ohe = to_categorical(inputs, num_classes=args.num_items)\n",
    "        input_ohe = np.expand_dims(input_ohe, axis=1)\n",
    "\n",
    "        pred = model.predict(input_ohe, batch_size=args.batch_size)\n",
    "        pred_arg = tf.argsort(pred, direction='DESCENDING')  # softmax 값이 큰 순서대로 sorting 합니다.\n",
    "\n",
    "        length = len(inputs)\n",
    "        recall_list.extend([recall_k(pred_arg[i], label[i], k) for i in range(length)])\n",
    "        mrr_list.extend([mrr_k(pred_arg[i], label[i], k) for i in range(length)])\n",
    "\n",
    "    recall, mrr = np.mean(recall_list), np.mean(mrr_list)\n",
    "    return recall, mrr"
   ]
  },
  {
   "cell_type": "code",
   "execution_count": 214,
   "id": "7081ca74",
   "metadata": {},
   "outputs": [
    {
     "name": "stderr",
     "output_type": "stream",
     "text": [
      "Train:  66%|██████▌   | 97/148 [00:02<00:01, 44.86it/s, accuracy=0, train_loss=7.29]    \n",
      "Evaluation:  24%|██▎       | 9/38 [00:03<00:09,  2.93it/s]\n"
     ]
    },
    {
     "name": "stdout",
     "output_type": "stream",
     "text": [
      "\t - Recall@20 epoch 1: 0.062500\n",
      "\t - MRR@20    epoch 1: 0.010442\n",
      "\n"
     ]
    },
    {
     "name": "stderr",
     "output_type": "stream",
     "text": [
      "Train:  66%|██████▌   | 97/148 [00:00<00:00, 103.23it/s, accuracy=0, train_loss=7.16]\n",
      "Evaluation:  24%|██▎       | 9/38 [00:02<00:09,  3.20it/s]\n"
     ]
    },
    {
     "name": "stdout",
     "output_type": "stream",
     "text": [
      "\t - Recall@20 epoch 2: 0.072917\n",
      "\t - MRR@20    epoch 2: 0.010793\n",
      "\n"
     ]
    },
    {
     "name": "stderr",
     "output_type": "stream",
     "text": [
      "Train:  66%|██████▌   | 97/148 [00:00<00:00, 102.77it/s, accuracy=0, train_loss=7.1]\n",
      "Evaluation:  24%|██▎       | 9/38 [00:02<00:09,  3.19it/s]\n"
     ]
    },
    {
     "name": "stdout",
     "output_type": "stream",
     "text": [
      "\t - Recall@20 epoch 3: 0.083333\n",
      "\t - MRR@20    epoch 3: 0.013568\n",
      "\n"
     ]
    },
    {
     "name": "stderr",
     "output_type": "stream",
     "text": [
      "Train:  66%|██████▌   | 97/148 [00:00<00:00, 102.19it/s, accuracy=0, train_loss=7.06]\n",
      "Evaluation:  24%|██▎       | 9/38 [00:02<00:09,  3.10it/s]\n"
     ]
    },
    {
     "name": "stdout",
     "output_type": "stream",
     "text": [
      "\t - Recall@20 epoch 4: 0.090278\n",
      "\t - MRR@20    epoch 4: 0.013963\n",
      "\n"
     ]
    },
    {
     "name": "stderr",
     "output_type": "stream",
     "text": [
      "Train:  66%|██████▌   | 97/148 [00:00<00:00, 104.45it/s, accuracy=0, train_loss=7.04]\n",
      "Evaluation:  24%|██▎       | 9/38 [00:02<00:09,  3.16it/s]\n"
     ]
    },
    {
     "name": "stdout",
     "output_type": "stream",
     "text": [
      "\t - Recall@20 epoch 5: 0.088542\n",
      "\t - MRR@20    epoch 5: 0.013706\n",
      "\n"
     ]
    },
    {
     "name": "stderr",
     "output_type": "stream",
     "text": [
      "Train:  66%|██████▌   | 97/148 [00:00<00:00, 105.05it/s, accuracy=0, train_loss=7.01]\n",
      "Evaluation:  24%|██▎       | 9/38 [00:02<00:09,  3.16it/s]\n"
     ]
    },
    {
     "name": "stdout",
     "output_type": "stream",
     "text": [
      "\t - Recall@20 epoch 6: 0.088542\n",
      "\t - MRR@20    epoch 6: 0.013873\n",
      "\n"
     ]
    },
    {
     "name": "stderr",
     "output_type": "stream",
     "text": [
      "Train:  66%|██████▌   | 97/148 [00:00<00:00, 101.38it/s, accuracy=0, train_loss=6.98]\n",
      "Evaluation:  24%|██▎       | 9/38 [00:02<00:09,  3.18it/s]\n"
     ]
    },
    {
     "name": "stdout",
     "output_type": "stream",
     "text": [
      "\t - Recall@20 epoch 7: 0.086806\n",
      "\t - MRR@20    epoch 7: 0.014990\n",
      "\n"
     ]
    },
    {
     "name": "stderr",
     "output_type": "stream",
     "text": [
      "Train:  66%|██████▌   | 97/148 [00:00<00:00, 104.44it/s, accuracy=0, train_loss=6.93]\n",
      "Evaluation:  24%|██▎       | 9/38 [00:02<00:08,  3.23it/s]\n"
     ]
    },
    {
     "name": "stdout",
     "output_type": "stream",
     "text": [
      "\t - Recall@20 epoch 8: 0.081597\n",
      "\t - MRR@20    epoch 8: 0.015097\n",
      "\n"
     ]
    },
    {
     "name": "stderr",
     "output_type": "stream",
     "text": [
      "Train:  66%|██████▌   | 97/148 [00:00<00:00, 100.95it/s, accuracy=0, train_loss=6.89]\n",
      "Evaluation:  24%|██▎       | 9/38 [00:02<00:09,  3.17it/s]\n"
     ]
    },
    {
     "name": "stdout",
     "output_type": "stream",
     "text": [
      "\t - Recall@20 epoch 9: 0.086806\n",
      "\t - MRR@20    epoch 9: 0.016114\n",
      "\n"
     ]
    },
    {
     "name": "stderr",
     "output_type": "stream",
     "text": [
      "Train:  66%|██████▌   | 97/148 [00:00<00:00, 102.45it/s, accuracy=0.0156, train_loss=6.84]\n",
      "Evaluation:  24%|██▎       | 9/38 [00:02<00:09,  3.10it/s]\n"
     ]
    },
    {
     "name": "stdout",
     "output_type": "stream",
     "text": [
      "\t - Recall@20 epoch 10: 0.085069\n",
      "\t - MRR@20    epoch 10: 0.017344\n",
      "\n"
     ]
    },
    {
     "name": "stderr",
     "output_type": "stream",
     "text": [
      "Train:  66%|██████▌   | 97/148 [00:00<00:00, 100.87it/s, accuracy=0.0156, train_loss=6.76]\n",
      "Evaluation:  24%|██▎       | 9/38 [00:02<00:09,  3.20it/s]\n"
     ]
    },
    {
     "name": "stdout",
     "output_type": "stream",
     "text": [
      "\t - Recall@20 epoch 11: 0.085069\n",
      "\t - MRR@20    epoch 11: 0.019340\n",
      "\n"
     ]
    },
    {
     "name": "stderr",
     "output_type": "stream",
     "text": [
      "Train:  66%|██████▌   | 97/148 [00:00<00:00, 101.86it/s, accuracy=0.0312, train_loss=6.67]\n",
      "Evaluation:  24%|██▎       | 9/38 [00:02<00:09,  3.13it/s]\n"
     ]
    },
    {
     "name": "stdout",
     "output_type": "stream",
     "text": [
      "\t - Recall@20 epoch 12: 0.079861\n",
      "\t - MRR@20    epoch 12: 0.020315\n",
      "\n"
     ]
    },
    {
     "name": "stderr",
     "output_type": "stream",
     "text": [
      "Train:  66%|██████▌   | 97/148 [00:00<00:00, 104.27it/s, accuracy=0.0312, train_loss=6.6]\n",
      "Evaluation:  24%|██▎       | 9/38 [00:02<00:09,  3.18it/s]\n"
     ]
    },
    {
     "name": "stdout",
     "output_type": "stream",
     "text": [
      "\t - Recall@20 epoch 13: 0.085069\n",
      "\t - MRR@20    epoch 13: 0.018926\n",
      "\n"
     ]
    },
    {
     "name": "stderr",
     "output_type": "stream",
     "text": [
      "Train:  66%|██████▌   | 97/148 [00:00<00:00, 104.32it/s, accuracy=0.0781, train_loss=6.48]\n",
      "Evaluation:  24%|██▎       | 9/38 [00:02<00:09,  3.16it/s]\n"
     ]
    },
    {
     "name": "stdout",
     "output_type": "stream",
     "text": [
      "\t - Recall@20 epoch 14: 0.079861\n",
      "\t - MRR@20    epoch 14: 0.018900\n",
      "\n"
     ]
    },
    {
     "name": "stderr",
     "output_type": "stream",
     "text": [
      "Train:  66%|██████▌   | 97/148 [00:00<00:00, 101.87it/s, accuracy=0.109, train_loss=6.35]\n",
      "Evaluation:  24%|██▎       | 9/38 [00:02<00:09,  3.15it/s]\n"
     ]
    },
    {
     "name": "stdout",
     "output_type": "stream",
     "text": [
      "\t - Recall@20 epoch 15: 0.076389\n",
      "\t - MRR@20    epoch 15: 0.020671\n",
      "\n"
     ]
    },
    {
     "name": "stderr",
     "output_type": "stream",
     "text": [
      "Train:  66%|██████▌   | 97/148 [00:00<00:00, 103.23it/s, accuracy=0.125, train_loss=6.22]\n",
      "Evaluation:  24%|██▎       | 9/38 [00:02<00:09,  3.20it/s]\n"
     ]
    },
    {
     "name": "stdout",
     "output_type": "stream",
     "text": [
      "\t - Recall@20 epoch 16: 0.076389\n",
      "\t - MRR@20    epoch 16: 0.024730\n",
      "\n"
     ]
    },
    {
     "name": "stderr",
     "output_type": "stream",
     "text": [
      "Train:  66%|██████▌   | 97/148 [00:00<00:00, 104.03it/s, accuracy=0.125, train_loss=6.07]\n",
      "Evaluation:  24%|██▎       | 9/38 [00:02<00:09,  3.16it/s]\n"
     ]
    },
    {
     "name": "stdout",
     "output_type": "stream",
     "text": [
      "\t - Recall@20 epoch 17: 0.074653\n",
      "\t - MRR@20    epoch 17: 0.021550\n",
      "\n"
     ]
    },
    {
     "name": "stderr",
     "output_type": "stream",
     "text": [
      "Train:  66%|██████▌   | 97/148 [00:00<00:00, 101.15it/s, accuracy=0.125, train_loss=5.92]\n",
      "Evaluation:  24%|██▎       | 9/38 [00:02<00:09,  3.17it/s]\n"
     ]
    },
    {
     "name": "stdout",
     "output_type": "stream",
     "text": [
      "\t - Recall@20 epoch 18: 0.078125\n",
      "\t - MRR@20    epoch 18: 0.023352\n",
      "\n"
     ]
    },
    {
     "name": "stderr",
     "output_type": "stream",
     "text": [
      "Train:  66%|██████▌   | 97/148 [00:00<00:00, 100.79it/s, accuracy=0.156, train_loss=5.73]\n",
      "Evaluation:  24%|██▎       | 9/38 [00:02<00:09,  3.22it/s]\n"
     ]
    },
    {
     "name": "stdout",
     "output_type": "stream",
     "text": [
      "\t - Recall@20 epoch 19: 0.085069\n",
      "\t - MRR@20    epoch 19: 0.024430\n",
      "\n"
     ]
    },
    {
     "name": "stderr",
     "output_type": "stream",
     "text": [
      "Train:  66%|██████▌   | 97/148 [00:00<00:00, 99.64it/s, accuracy=0.188, train_loss=5.57]\n",
      "Evaluation:  24%|██▎       | 9/38 [00:02<00:09,  3.12it/s]\n"
     ]
    },
    {
     "name": "stdout",
     "output_type": "stream",
     "text": [
      "\t - Recall@20 epoch 20: 0.097222\n",
      "\t - MRR@20    epoch 20: 0.024728\n",
      "\n"
     ]
    },
    {
     "name": "stderr",
     "output_type": "stream",
     "text": [
      "Train:  66%|██████▌   | 97/148 [00:00<00:00, 101.17it/s, accuracy=0.203, train_loss=5.39]\n",
      "Evaluation:  24%|██▎       | 9/38 [00:02<00:09,  3.19it/s]\n"
     ]
    },
    {
     "name": "stdout",
     "output_type": "stream",
     "text": [
      "\t - Recall@20 epoch 21: 0.095486\n",
      "\t - MRR@20    epoch 21: 0.024216\n",
      "\n"
     ]
    },
    {
     "name": "stderr",
     "output_type": "stream",
     "text": [
      "Train:  66%|██████▌   | 97/148 [00:00<00:00, 102.73it/s, accuracy=0.188, train_loss=5.22]\n",
      "Evaluation:  24%|██▎       | 9/38 [00:02<00:09,  3.22it/s]\n"
     ]
    },
    {
     "name": "stdout",
     "output_type": "stream",
     "text": [
      "\t - Recall@20 epoch 22: 0.098958\n",
      "\t - MRR@20    epoch 22: 0.025743\n",
      "\n"
     ]
    },
    {
     "name": "stderr",
     "output_type": "stream",
     "text": [
      "Train:  66%|██████▌   | 97/148 [00:00<00:00, 99.82it/s, accuracy=0.172, train_loss=5.09]\n",
      "Evaluation:  24%|██▎       | 9/38 [00:02<00:09,  3.18it/s]\n"
     ]
    },
    {
     "name": "stdout",
     "output_type": "stream",
     "text": [
      "\t - Recall@20 epoch 23: 0.092014\n",
      "\t - MRR@20    epoch 23: 0.026294\n",
      "\n"
     ]
    },
    {
     "name": "stderr",
     "output_type": "stream",
     "text": [
      "Train:  66%|██████▌   | 97/148 [00:00<00:00, 101.96it/s, accuracy=0.281, train_loss=4.85]\n",
      "Evaluation:  24%|██▎       | 9/38 [00:02<00:08,  3.27it/s]\n"
     ]
    },
    {
     "name": "stdout",
     "output_type": "stream",
     "text": [
      "\t - Recall@20 epoch 24: 0.090278\n",
      "\t - MRR@20    epoch 24: 0.026052\n",
      "\n"
     ]
    },
    {
     "name": "stderr",
     "output_type": "stream",
     "text": [
      "Train:  66%|██████▌   | 97/148 [00:00<00:00, 103.83it/s, accuracy=0.281, train_loss=4.7]\n",
      "Evaluation:  24%|██▎       | 9/38 [00:02<00:08,  3.23it/s]\n"
     ]
    },
    {
     "name": "stdout",
     "output_type": "stream",
     "text": [
      "\t - Recall@20 epoch 25: 0.102431\n",
      "\t - MRR@20    epoch 25: 0.025269\n",
      "\n"
     ]
    },
    {
     "name": "stderr",
     "output_type": "stream",
     "text": [
      "Train:  66%|██████▌   | 97/148 [00:00<00:00, 103.71it/s, accuracy=0.328, train_loss=4.5]\n",
      "Evaluation:  24%|██▎       | 9/38 [00:02<00:09,  3.14it/s]\n"
     ]
    },
    {
     "name": "stdout",
     "output_type": "stream",
     "text": [
      "\t - Recall@20 epoch 26: 0.095486\n",
      "\t - MRR@20    epoch 26: 0.024666\n",
      "\n"
     ]
    },
    {
     "name": "stderr",
     "output_type": "stream",
     "text": [
      "Train:  66%|██████▌   | 97/148 [00:00<00:00, 104.89it/s, accuracy=0.312, train_loss=4.33]\n",
      "Evaluation:  24%|██▎       | 9/38 [00:02<00:08,  3.26it/s]\n"
     ]
    },
    {
     "name": "stdout",
     "output_type": "stream",
     "text": [
      "\t - Recall@20 epoch 27: 0.093750\n",
      "\t - MRR@20    epoch 27: 0.025270\n",
      "\n"
     ]
    },
    {
     "name": "stderr",
     "output_type": "stream",
     "text": [
      "Train:  66%|██████▌   | 97/148 [00:00<00:00, 104.72it/s, accuracy=0.297, train_loss=4.13]\n",
      "Evaluation:  24%|██▎       | 9/38 [00:02<00:09,  3.18it/s]\n"
     ]
    },
    {
     "name": "stdout",
     "output_type": "stream",
     "text": [
      "\t - Recall@20 epoch 28: 0.088542\n",
      "\t - MRR@20    epoch 28: 0.026044\n",
      "\n"
     ]
    },
    {
     "name": "stderr",
     "output_type": "stream",
     "text": [
      "Train:  66%|██████▌   | 97/148 [00:00<00:00, 101.51it/s, accuracy=0.328, train_loss=3.98]\n",
      "Evaluation:  24%|██▎       | 9/38 [00:02<00:09,  3.21it/s]"
     ]
    },
    {
     "name": "stdout",
     "output_type": "stream",
     "text": [
      "\t - Recall@20 epoch 29: 0.088542\n",
      "\t - MRR@20    epoch 29: 0.025910\n",
      "\n"
     ]
    },
    {
     "name": "stderr",
     "output_type": "stream",
     "text": [
      "\n"
     ]
    }
   ],
   "source": [
    "# 학습 시간이 다소 오래 소요됩니다. 아래 주석을 풀지 마세요.\n",
    "train_model(model, args)\n",
    "\n",
    "# 학습된 모델을 불러옵니다.\n",
    "#model = tf.keras.models.load_model(data_path / 'trained_model')"
   ]
  },
  {
   "cell_type": "code",
   "execution_count": 215,
   "id": "4edb2b16",
   "metadata": {},
   "outputs": [
    {
     "name": "stderr",
     "output_type": "stream",
     "text": [
      "Evaluation:  31%|███       | 29/94 [00:09<00:20,  3.13it/s]"
     ]
    },
    {
     "name": "stdout",
     "output_type": "stream",
     "text": [
      "\t - Recall@20: 0.044720\n",
      "\t - MRR@20: 0.013243\n",
      "\n"
     ]
    },
    {
     "name": "stderr",
     "output_type": "stream",
     "text": [
      "\n"
     ]
    }
   ],
   "source": [
    "def test_model(model, args, test):\n",
    "    test_recall, test_mrr = get_metrics(test, model, args, 20)\n",
    "    print(f\"\\t - Recall@{args.k}: {test_recall:3f}\")\n",
    "    print(f\"\\t - MRR@{args.k}: {test_mrr:3f}\\n\")\n",
    "\n",
    "test_model(model, args, test)"
   ]
  },
  {
   "cell_type": "markdown",
   "id": "5dd33734",
   "metadata": {},
   "source": [
    "### 데이터 전처리하는 과정에서 나는 최근 1년의 데이터만 썻는데 데이터량이 적어지는탓해 학습량이 충분하지 않은 문제점이있었다. 데이터를 더욱 보충하는것이 올바른 방향인것같다. 이것으로 Exploration17을 마친다."
   ]
  }
 ],
 "metadata": {
  "kernelspec": {
   "display_name": "Python 3 (ipykernel)",
   "language": "python",
   "name": "python3"
  },
  "language_info": {
   "codemirror_mode": {
    "name": "ipython",
    "version": 3
   },
   "file_extension": ".py",
   "mimetype": "text/x-python",
   "name": "python",
   "nbconvert_exporter": "python",
   "pygments_lexer": "ipython3",
   "version": "3.9.7"
  }
 },
 "nbformat": 4,
 "nbformat_minor": 5
}
